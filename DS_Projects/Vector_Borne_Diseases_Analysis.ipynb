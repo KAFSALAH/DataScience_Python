{
 "cells": [
  {
   "attachments": {
    "UM%20logo.png": {
     "image/png": "[encoded data removed]"
    }
   },
   "cell_type": "markdown",
   "metadata": {
    "id": "ObaaLuxpxf9t"
   },
   "source": [
    "![UM%20logo.png](attachment:UM%20logo.png)\n",
    "# WQD7003 DATA ANALYTICS COURSE\n",
    "# Understanding Vector Borne-Diseases Caused by Mosquitoes"
   ]
  },
  {
   "cell_type": "markdown",
   "metadata": {
    "id": "qjig12Wk1d9U"
   },
   "source": [
    "**Group 7 Members:** <br>\n",
    "**1 - Salah Alkafrawi -  (Team Leader)**<br>\n",
    "**2 - Muhammad bilal**<br>\n",
    "**3 - Maimul Hoque** <br>\n",
    "**4 - Mangayarkarasi Nathan** <br>\n",
    "**5 - Chai Kang Sheng** <br>"
   ]
  },
  {
   "cell_type": "markdown",
   "metadata": {
    "id": "UFKxrMdnwAIf"
   },
   "source": [
    "# Chapter 1 - Introduction with Overview and Motivation\n",
    "\n",
    "Vector Borne Diseases is a contagious disease which affect a majority of the world population. Before the pandemic happened, every country in the world suffers from Vector Borne Diseases yearly. Developing countries like Malaysia, India, Bangladesh etc particularly suffer from the extensive burden caused by these diseases. Common Vector Borne Diseases such as dengue, malaria and chikungunya are diseases that spread seasonally due to the changes in environment and also geographical factors (Kapoor, 2021). \n",
    "\n",
    "Malaysia being a developing country, has displayed significant growth as a producer of raw materials and also act as the leading exporter of technology intensive products (Wahab & Ghani, 2021). This may cause unavoidable environmental stress and might cause some negative impact on the wellbeing of the Malaysians (Mokhtar & Murad, 2010). \n",
    "\n",
    "Due to the climate and also pollutions in Malaysia, it is challenging to control and prevent Vector Borne Diseases. The more common Vector Borne Diseases are Dengue, Chikungunya and Japanese encephalitis which all contribute to the difficulty for Malaysia to control and prevent (Shafie et al., 2016). Hence, there is a need to use technologies such as Machine Learning to help the country gain more insight and move a step closer to preventing the diseases. \n",
    "\n",
    "Unfortunately, although Vector Borne Diseases are a highly contagious diseases in Malaysia, not much research was done in terms of combating the diseases. There were two studies conducted that did research on the topic in Malaysia (Aziz et al., 2014; Samat & Percy, 2014). Aziz and researchers (2014) did a spatial density analysis of Dengue fever in Kuala Lumpur and although it managed to identify some hotspots in Kuala Lumpur, but this was only conducted in one part of Malaysia. Samat and Percy (2014) also looked into dengue cases in Malaysia and discovered that only a few states serve as high dengue risk areas while the rest of the states are very low dengue risk areas. Their recommendation after looking at their results were to collect other Vector Borne diseases data for a better look at Malaysia condition in terms of Vector Borne Diseases. Based on the two studies, it is important to note that both studies were done 8 years ago. Hence, there is a possibility that these results might be outdated especially when the pandemic started. There was environmental improvement during lockdown (Karuppasamy et al., 2020) and this could potentially affect the Vector Borne Diseases infection rate. Hence, there are a few problems that we would like to address here such as: the outdated results on dengue, the lack of study on the hotspots of other Vector Borne Diseases such as Chikungunya in Malaysia and also the lack of consistent models predicting Vector-Borne Diseases. \n"
   ]
  },
  {
   "cell_type": "markdown",
   "metadata": {
    "id": "wlTiarg81Ncf"
   },
   "source": [
    "\n",
    "\n",
    "## Section A - Research Questions Objectives \n",
    "\n",
    "**Questions:**\n",
    "\n",
    "\n",
    "**RQ1 - What are the most states that are affected by vector-borne diseases in Malaysia?**\n",
    "\n",
    "**RQ2 - Has the Covid-19 pandamic outbreak affect the mean of Dengue and Chikungunya in Malaysia?**\n",
    "\n",
    "**RQ3 - How to identify the vector-borne diseases based on symptoms?**\n",
    "\n",
    "**Objectives:**\n",
    "\n",
    "**RO1 - To collect vector-borne diseases cases data in Malaysia.**\n",
    "\n",
    "**RO2 - Make Visual and Statistical analysis of the collected data about vector-borne diseases.**\n",
    "\n",
    "**RO3 - build a classification model to predict the type of dieases based on symptoms.**\n",
    "\n",
    "\n",
    "## Section B - Related Work\n",
    "\n",
    "\n",
    "Table 1: Comparison table demonstrates the previous work on vector-brone diseases\n",
    "\n",
    "| Paper Title | Authors | Year | Goal |\n",
    "| --- | --- | --- | --- |\n",
    "|Impact of recent and future climate change on vector-borne diseases | Caminade, C. et al. | 2018 | Correlation study that highlights climate changes impact on vector-borne disease |\n",
    "| Classification of Dengue using Machine Learning Techniques | Sajana T. et al. | 2018 | Used binary classification techniques,to classify whether a person has dengue or not |\n",
    "|Machine learning for dengue outbreak prediction: A performance evaluation of different prominent classifiers| Iqbal, N., & Islam, M. | 2019 | used 8 attributes to classify whether a person hava dengue disease or not |\n",
    "| Forecasting dengue epidemics using a hybrid methodology | Chakraborty, et al. | 2019 | Used time series analysis to build an early warning system that could accurately predict dengue cases|\n",
    "|Vector-Borne Disease Outbreak Prediction Using Machine Learning Techniques| Raizada, S. et al. | 2021 |  Using multi-class classification to classify three diseases (Chikungunyua, malaria, dengue) using ANN |\n",
    "| Comparison of Dengue Predictive Models Developed Using Artificial Neural Network and Discriminant Analysis with Small Dataset| Silitonga et al. | 2021 | Used (ANN) and  (DA) to  predict the severity level of dengue |\n",
    "| Machine Learning Based Classification Algorithm for Classification of Dengue | Kapoor et al. | 2022 | Used (SVM) and and (RF) to analysis the symptoms of dengue fever |\n",
    "\n",
    "\n",
    "\n",
    "\n",
    "**Our comparhensive literature review demonstrates the previous work on vector-borne diseases such as dengue and chikungunya. The major limitation in these work is that they presented machine learning models that either binary classification (Yes/No) for a specific disease, or a multi-classification of few diseases. In our work, to overcome this limitation, we built a multi-classification model that classify 11 vector-borne disease and distinguish between them based on 64 attributes. Furthermore, we built a regression model to predict moquitoes density based on whether attrbiutes**"
   ]
  },
  {
   "cell_type": "markdown",
   "metadata": {
    "id": "FFUf6g1y2zy3"
   },
   "source": [
    "# Chapter 2 - EDA of the Vector Borne-Diseases \n",
    "### Our EDA focused on Vector Borne Diseases which are common in Malaysia, namely, Dengue and Chikungunya.\n"
   ]
  },
  {
   "cell_type": "markdown",
   "metadata": {
    "id": "DIn9YdMH2W4p"
   },
   "source": [
    "## Section A - Data collection \n",
    "\n",
    "\n",
    "1 - Weekly dengue and chikungunya cases for the years 2019 to 2021 were acquired from Malaysian Ministry of Health(MOH) official portal. The weekly data was presented in image format in PDF files. Hence, the data was extracted by translating the image to text and storing it in an Excel file. Several web tools were utilised to extract the text from the scanned PDF file in order to facilitate the manual data retrieval process\n",
    "https://www.moh.gov.my/index.php/database_stores/store_view/17\n",
    "\n",
    "\n",
    "2 - Mosquito Indicator in Seoul, Korea (kaggle)\n",
    "https://www.kaggle.com/datasets/kukuroo3/mosquito-indicator-in-seoul-korea\n",
    "\n",
    "\n",
    "3- Vector Borne Disease Prediction (Kaggle)\n",
    "https://www.kaggle.com/datasets/richardbernat/vector-borne-disease-prediction"
   ]
  },
  {
   "cell_type": "markdown",
   "metadata": {
    "id": "V7xMGmv528EB"
   },
   "source": [
    "## Section B - Data Cleaning \n"
   ]
  },
  {
   "cell_type": "markdown",
   "metadata": {
    "id": "F1_drjKbJZj5"
   },
   "source": [
    "After collecting the data from Malaysian Ministry of Health, we cleaned the data in order to apply visualization and the independent t-test statistics\n"
   ]
  },
  {
   "cell_type": "markdown",
   "metadata": {},
   "source": [
    "How to read multiple sheets in a excel file.\n",
    "```\n",
    "xls = pd.ExcelFile('path_to_file.xls')\n",
    "df1 = pd.read_excel(xls, 'Sheet1')\n",
    "df2 = pd.read_excel(xls, 'Sheet2')\n",
    "```"
   ]
  },
  {
   "cell_type": "code",
   "execution_count": 1,
   "metadata": {},
   "outputs": [],
   "source": [
    "# Import the necessary libraries for cleaning\n",
    "import numpy as np # For linear algebra\n",
    "import pandas as pd # For data frame manipulation\n",
    "import seaborn as sns # For visualization I\n",
    "import matplotlib.pyplot as plt # For visualization II\n",
    "import os # To access directory\n",
    "os.chdir('/Users/salahkaf/Desktop/data') # Changing working directory\n",
    "%matplotlib inline "
   ]
  },
  {
   "cell_type": "code",
   "execution_count": 2,
   "metadata": {
    "id": "7k7qCMTjzewm"
   },
   "outputs": [],
   "source": [
    "# Load the data\n",
    "df_all = pd.ExcelFile('Dataset.xlsx')\n",
    "\n",
    "#Load the sheets to its own dataframe \n",
    "dengue19_ori = pd.read_excel(df_all, 'Dengue 2019')\n",
    "dengue20_ori = pd.read_excel(df_all, 'Dengue 2020')\n",
    "dengue21_ori = pd.read_excel(df_all, 'Dengue 2021')\n",
    "chikungunya_ori = pd.read_excel(df_all, 'Chikungunya')"
   ]
  },
  {
   "cell_type": "code",
   "execution_count": 3,
   "metadata": {
    "id": "cjYW1KIb1U7r"
   },
   "outputs": [],
   "source": [
    "# Transpose the dataset to make the states the column name\n",
    "dengue19 = dengue19_ori.T\n",
    "dengue20 = dengue20_ori.T\n",
    "dengue21 = dengue21_ori.T\n",
    "\n",
    "# Combine all the col header and then remove the white spaces\n",
    "col_header = dengue19.iloc[0]\n",
    "headers_string = \",\".join(list(col_header)).replace(\" \",\"\")\n",
    "\n",
    "\n",
    "dengue_header = headers_string.split(',')\n",
    "\n",
    "# Assign the first row as the column name\n",
    "dengue19 = dengue19[1:]\n",
    "dengue20 = dengue20[1:]\n",
    "dengue21 = dengue21[1:]\n",
    "dengue19.columns = dengue_header\n",
    "dengue20.columns = dengue_header\n",
    "dengue21.columns = dengue_header\n",
    "\n",
    "# Change the index column from 'Unnamed: 0' to none\n",
    "dengue19.columns.name = None\n",
    "dengue19.index.name = None\n",
    "\n",
    "dengue20.columns.name = None\n",
    "dengue20.index.name = None\n",
    "\n",
    "dengue21.columns.name = None\n",
    "dengue21.index.name = None\n",
    "\n",
    "# Create a column for the weeks\n",
    "dengue19[\"Weeks\"] = dengue19.index\n",
    "dengue20[\"Weeks\"] = dengue20.index\n",
    "dengue21[\"Weeks\"] = dengue21.index"
   ]
  },
  {
   "cell_type": "code",
   "execution_count": 4,
   "metadata": {
    "colab": {
     "base_uri": "https://localhost:8080/",
     "height": 240
    },
    "id": "JG6gWJyp1z2e",
    "outputId": "89ba71a8-13c8-4d92-9b80-c9eb668715fa"
   },
   "outputs": [
    {
     "data": {
      "text/html": [
       "<div>\n",
       "<style scoped>\n",
       "    .dataframe tbody tr th:only-of-type {\n",
       "        vertical-align: middle;\n",
       "    }\n",
       "\n",
       "    .dataframe tbody tr th {\n",
       "        vertical-align: top;\n",
       "    }\n",
       "\n",
       "    .dataframe thead th {\n",
       "        text-align: right;\n",
       "    }\n",
       "</style>\n",
       "<table border=\"1\" class=\"dataframe\">\n",
       "  <thead>\n",
       "    <tr style=\"text-align: right;\">\n",
       "      <th></th>\n",
       "      <th>Perlis</th>\n",
       "      <th>Kedah</th>\n",
       "      <th>PulauPinang</th>\n",
       "      <th>Perak</th>\n",
       "      <th>Selangor</th>\n",
       "      <th>WPKualaLumpur&amp;\\nPutrajaya</th>\n",
       "      <th>NegeriSembilan</th>\n",
       "      <th>Melaka</th>\n",
       "      <th>Johor</th>\n",
       "      <th>Pahang</th>\n",
       "      <th>Terengganu</th>\n",
       "      <th>Kelantan</th>\n",
       "      <th>Sarawak</th>\n",
       "      <th>Sabah</th>\n",
       "      <th>WPLabuan</th>\n",
       "      <th>Total</th>\n",
       "      <th>Weeks</th>\n",
       "    </tr>\n",
       "  </thead>\n",
       "  <tbody>\n",
       "    <tr>\n",
       "      <th>1</th>\n",
       "      <td>1</td>\n",
       "      <td>3</td>\n",
       "      <td>20</td>\n",
       "      <td>21</td>\n",
       "      <td>369</td>\n",
       "      <td>77</td>\n",
       "      <td>21</td>\n",
       "      <td>28</td>\n",
       "      <td>87</td>\n",
       "      <td>33</td>\n",
       "      <td>1</td>\n",
       "      <td>7</td>\n",
       "      <td>15</td>\n",
       "      <td>34</td>\n",
       "      <td>0</td>\n",
       "      <td>717</td>\n",
       "      <td>1</td>\n",
       "    </tr>\n",
       "    <tr>\n",
       "      <th>2</th>\n",
       "      <td>0</td>\n",
       "      <td>9</td>\n",
       "      <td>14</td>\n",
       "      <td>15</td>\n",
       "      <td>388</td>\n",
       "      <td>69</td>\n",
       "      <td>24</td>\n",
       "      <td>21</td>\n",
       "      <td>72</td>\n",
       "      <td>11</td>\n",
       "      <td>2</td>\n",
       "      <td>4</td>\n",
       "      <td>15</td>\n",
       "      <td>37</td>\n",
       "      <td>0</td>\n",
       "      <td>681</td>\n",
       "      <td>2</td>\n",
       "    </tr>\n",
       "    <tr>\n",
       "      <th>3</th>\n",
       "      <td>NaN</td>\n",
       "      <td>NaN</td>\n",
       "      <td>NaN</td>\n",
       "      <td>NaN</td>\n",
       "      <td>NaN</td>\n",
       "      <td>NaN</td>\n",
       "      <td>NaN</td>\n",
       "      <td>NaN</td>\n",
       "      <td>NaN</td>\n",
       "      <td>NaN</td>\n",
       "      <td>NaN</td>\n",
       "      <td>NaN</td>\n",
       "      <td>NaN</td>\n",
       "      <td>NaN</td>\n",
       "      <td>NaN</td>\n",
       "      <td>0.0</td>\n",
       "      <td>3</td>\n",
       "    </tr>\n",
       "  </tbody>\n",
       "</table>\n",
       "</div>"
      ],
      "text/plain": [
       "  Perlis Kedah PulauPinang Perak Selangor WPKualaLumpur&\\nPutrajaya  \\\n",
       "1      1     3          20    21      369                        77   \n",
       "2      0     9          14    15      388                        69   \n",
       "3    NaN   NaN         NaN   NaN      NaN                       NaN   \n",
       "\n",
       "  NegeriSembilan Melaka Johor Pahang Terengganu Kelantan Sarawak Sabah  \\\n",
       "1             21     28    87     33          1        7      15    34   \n",
       "2             24     21    72     11          2        4      15    37   \n",
       "3            NaN    NaN   NaN    NaN        NaN      NaN     NaN   NaN   \n",
       "\n",
       "  WPLabuan Total Weeks  \n",
       "1        0   717     1  \n",
       "2        0   681     2  \n",
       "3      NaN   0.0     3  "
      ]
     },
     "execution_count": 4,
     "metadata": {},
     "output_type": "execute_result"
    }
   ],
   "source": [
    "dengue21.head(3) # Head of data without cleaning"
   ]
  },
  {
   "cell_type": "code",
   "execution_count": 5,
   "metadata": {
    "colab": {
     "base_uri": "https://localhost:8080/",
     "height": 207
    },
    "id": "Yk7K9dZC11pY",
    "outputId": "159e281d-6a5c-4af9-9dd8-11457f12acc8"
   },
   "outputs": [
    {
     "data": {
      "text/html": [
       "<div>\n",
       "<style scoped>\n",
       "    .dataframe tbody tr th:only-of-type {\n",
       "        vertical-align: middle;\n",
       "    }\n",
       "\n",
       "    .dataframe tbody tr th {\n",
       "        vertical-align: top;\n",
       "    }\n",
       "\n",
       "    .dataframe thead th {\n",
       "        text-align: right;\n",
       "    }\n",
       "</style>\n",
       "<table border=\"1\" class=\"dataframe\">\n",
       "  <thead>\n",
       "    <tr style=\"text-align: right;\">\n",
       "      <th></th>\n",
       "      <th>Perlis</th>\n",
       "      <th>Kedah</th>\n",
       "      <th>PulauPinang</th>\n",
       "      <th>Perak</th>\n",
       "      <th>Selangor</th>\n",
       "      <th>WPKualaLumpur&amp;\\nPutrajaya</th>\n",
       "      <th>NegeriSembilan</th>\n",
       "      <th>Melaka</th>\n",
       "      <th>Johor</th>\n",
       "      <th>Pahang</th>\n",
       "      <th>Terengganu</th>\n",
       "      <th>Kelantan</th>\n",
       "      <th>Sarawak</th>\n",
       "      <th>Sabah</th>\n",
       "      <th>WPLabuan</th>\n",
       "      <th>Total</th>\n",
       "      <th>Weeks</th>\n",
       "    </tr>\n",
       "  </thead>\n",
       "  <tbody>\n",
       "    <tr>\n",
       "      <th>49</th>\n",
       "      <td>0</td>\n",
       "      <td>16</td>\n",
       "      <td>5</td>\n",
       "      <td>3</td>\n",
       "      <td>318</td>\n",
       "      <td>50</td>\n",
       "      <td>16</td>\n",
       "      <td>11</td>\n",
       "      <td>31</td>\n",
       "      <td>11</td>\n",
       "      <td>3</td>\n",
       "      <td>7</td>\n",
       "      <td>12</td>\n",
       "      <td>57</td>\n",
       "      <td>0</td>\n",
       "      <td>540</td>\n",
       "      <td>49</td>\n",
       "    </tr>\n",
       "    <tr>\n",
       "      <th>50</th>\n",
       "      <td>0</td>\n",
       "      <td>18</td>\n",
       "      <td>8</td>\n",
       "      <td>6</td>\n",
       "      <td>356</td>\n",
       "      <td>45</td>\n",
       "      <td>19</td>\n",
       "      <td>16</td>\n",
       "      <td>33</td>\n",
       "      <td>2</td>\n",
       "      <td>3</td>\n",
       "      <td>5</td>\n",
       "      <td>16</td>\n",
       "      <td>45</td>\n",
       "      <td>0</td>\n",
       "      <td>572</td>\n",
       "      <td>50</td>\n",
       "    </tr>\n",
       "    <tr>\n",
       "      <th>51</th>\n",
       "      <td>0</td>\n",
       "      <td>62</td>\n",
       "      <td>10</td>\n",
       "      <td>7</td>\n",
       "      <td>373</td>\n",
       "      <td>48</td>\n",
       "      <td>21</td>\n",
       "      <td>7</td>\n",
       "      <td>37</td>\n",
       "      <td>1</td>\n",
       "      <td>1</td>\n",
       "      <td>5</td>\n",
       "      <td>12</td>\n",
       "      <td>49</td>\n",
       "      <td>0</td>\n",
       "      <td>633</td>\n",
       "      <td>51</td>\n",
       "    </tr>\n",
       "  </tbody>\n",
       "</table>\n",
       "</div>"
      ],
      "text/plain": [
       "   Perlis Kedah PulauPinang Perak Selangor WPKualaLumpur&\\nPutrajaya  \\\n",
       "49      0    16           5     3      318                        50   \n",
       "50      0    18           8     6      356                        45   \n",
       "51      0    62          10     7      373                        48   \n",
       "\n",
       "   NegeriSembilan Melaka Johor Pahang Terengganu Kelantan Sarawak Sabah  \\\n",
       "49             16     11    31     11          3        7      12    57   \n",
       "50             19     16    33      2          3        5      16    45   \n",
       "51             21      7    37      1          1        5      12    49   \n",
       "\n",
       "   WPLabuan Total Weeks  \n",
       "49        0   540    49  \n",
       "50        0   572    50  \n",
       "51        0   633    51  "
      ]
     },
     "execution_count": 5,
     "metadata": {},
     "output_type": "execute_result"
    }
   ],
   "source": [
    "dengue21.tail(3)"
   ]
  },
  {
   "cell_type": "code",
   "execution_count": 6,
   "metadata": {
    "colab": {
     "base_uri": "https://localhost:8080/",
     "height": 206
    },
    "id": "3OFY7w8714mW",
    "outputId": "fecaa036-2042-4983-b253-1b4908606dcd"
   },
   "outputs": [
    {
     "data": {
      "text/html": [
       "<div>\n",
       "<style scoped>\n",
       "    .dataframe tbody tr th:only-of-type {\n",
       "        vertical-align: middle;\n",
       "    }\n",
       "\n",
       "    .dataframe tbody tr th {\n",
       "        vertical-align: top;\n",
       "    }\n",
       "\n",
       "    .dataframe thead th {\n",
       "        text-align: right;\n",
       "    }\n",
       "</style>\n",
       "<table border=\"1\" class=\"dataframe\">\n",
       "  <thead>\n",
       "    <tr style=\"text-align: right;\">\n",
       "      <th></th>\n",
       "      <th>Weeks</th>\n",
       "      <th>2019</th>\n",
       "    </tr>\n",
       "  </thead>\n",
       "  <tbody>\n",
       "    <tr>\n",
       "      <th>50</th>\n",
       "      <td>50</td>\n",
       "      <td>2794</td>\n",
       "    </tr>\n",
       "    <tr>\n",
       "      <th>51</th>\n",
       "      <td>51</td>\n",
       "      <td>2630</td>\n",
       "    </tr>\n",
       "    <tr>\n",
       "      <th>52</th>\n",
       "      <td>52</td>\n",
       "      <td>2838</td>\n",
       "    </tr>\n",
       "  </tbody>\n",
       "</table>\n",
       "</div>"
      ],
      "text/plain": [
       "   Weeks  2019\n",
       "50    50  2794\n",
       "51    51  2630\n",
       "52    52  2838"
      ]
     },
     "execution_count": 6,
     "metadata": {},
     "output_type": "execute_result"
    }
   ],
   "source": [
    "# Select only the total and weeks in all the dengue datasets\n",
    "dengue19_subset = dengue19[['Weeks','Total']]\n",
    "dengue20_subset = dengue20[['Weeks','Total']]\n",
    "dengue21_subset = dengue21[['Weeks','Total']]\n",
    "\n",
    "# Change the column name of the Total according to the year\n",
    "dengue19_subset = dengue19_subset.rename(columns = {'Total':'2019'})\n",
    "dengue20_subset = dengue20_subset.rename(columns = {'Total':'2020'})\n",
    "dengue21_subset = dengue21_subset.rename(columns = {'Total':'2021'})\n",
    "\n",
    "dengue19_subset.tail(3)"
   ]
  },
  {
   "cell_type": "code",
   "execution_count": 7,
   "metadata": {
    "colab": {
     "base_uri": "https://localhost:8080/",
     "height": 206
    },
    "id": "MRhxKpRj16Zl",
    "outputId": "99614581-8620-4925-9fe6-bc73a92d8f6b"
   },
   "outputs": [
    {
     "data": {
      "text/html": [
       "<div>\n",
       "<style scoped>\n",
       "    .dataframe tbody tr th:only-of-type {\n",
       "        vertical-align: middle;\n",
       "    }\n",
       "\n",
       "    .dataframe tbody tr th {\n",
       "        vertical-align: top;\n",
       "    }\n",
       "\n",
       "    .dataframe thead th {\n",
       "        text-align: right;\n",
       "    }\n",
       "</style>\n",
       "<table border=\"1\" class=\"dataframe\">\n",
       "  <thead>\n",
       "    <tr style=\"text-align: right;\">\n",
       "      <th></th>\n",
       "      <th>Weeks</th>\n",
       "      <th>2020</th>\n",
       "    </tr>\n",
       "  </thead>\n",
       "  <tbody>\n",
       "    <tr>\n",
       "      <th>50</th>\n",
       "      <td>50</td>\n",
       "      <td>795</td>\n",
       "    </tr>\n",
       "    <tr>\n",
       "      <th>51</th>\n",
       "      <td>51</td>\n",
       "      <td>771</td>\n",
       "    </tr>\n",
       "    <tr>\n",
       "      <th>52</th>\n",
       "      <td>52</td>\n",
       "      <td>0.0</td>\n",
       "    </tr>\n",
       "  </tbody>\n",
       "</table>\n",
       "</div>"
      ],
      "text/plain": [
       "   Weeks 2020\n",
       "50    50  795\n",
       "51    51  771\n",
       "52    52  0.0"
      ]
     },
     "execution_count": 7,
     "metadata": {},
     "output_type": "execute_result"
    }
   ],
   "source": [
    "dengue20_subset.tail(3)"
   ]
  },
  {
   "cell_type": "code",
   "execution_count": 8,
   "metadata": {
    "colab": {
     "background_save": true
    },
    "id": "u1vur4Xc18VE"
   },
   "outputs": [
    {
     "data": {
      "text/html": [
       "<div>\n",
       "<style scoped>\n",
       "    .dataframe tbody tr th:only-of-type {\n",
       "        vertical-align: middle;\n",
       "    }\n",
       "\n",
       "    .dataframe tbody tr th {\n",
       "        vertical-align: top;\n",
       "    }\n",
       "\n",
       "    .dataframe thead th {\n",
       "        text-align: right;\n",
       "    }\n",
       "</style>\n",
       "<table border=\"1\" class=\"dataframe\">\n",
       "  <thead>\n",
       "    <tr style=\"text-align: right;\">\n",
       "      <th></th>\n",
       "      <th>Weeks</th>\n",
       "      <th>2021</th>\n",
       "    </tr>\n",
       "  </thead>\n",
       "  <tbody>\n",
       "    <tr>\n",
       "      <th>49</th>\n",
       "      <td>49</td>\n",
       "      <td>540</td>\n",
       "    </tr>\n",
       "    <tr>\n",
       "      <th>50</th>\n",
       "      <td>50</td>\n",
       "      <td>572</td>\n",
       "    </tr>\n",
       "    <tr>\n",
       "      <th>51</th>\n",
       "      <td>51</td>\n",
       "      <td>633</td>\n",
       "    </tr>\n",
       "  </tbody>\n",
       "</table>\n",
       "</div>"
      ],
      "text/plain": [
       "   Weeks 2021\n",
       "49    49  540\n",
       "50    50  572\n",
       "51    51  633"
      ]
     },
     "execution_count": 8,
     "metadata": {},
     "output_type": "execute_result"
    }
   ],
   "source": [
    "dengue21_subset.tail(3)"
   ]
  },
  {
   "cell_type": "code",
   "execution_count": 9,
   "metadata": {
    "colab": {
     "base_uri": "https://localhost:8080/",
     "height": 206
    },
    "id": "GAhnmKBc2AxB",
    "outputId": "9609d591-5a07-498e-f242-2d6e42b5e97d"
   },
   "outputs": [
    {
     "data": {
      "text/html": [
       "<div>\n",
       "<style scoped>\n",
       "    .dataframe tbody tr th:only-of-type {\n",
       "        vertical-align: middle;\n",
       "    }\n",
       "\n",
       "    .dataframe tbody tr th {\n",
       "        vertical-align: top;\n",
       "    }\n",
       "\n",
       "    .dataframe thead th {\n",
       "        text-align: right;\n",
       "    }\n",
       "</style>\n",
       "<table border=\"1\" class=\"dataframe\">\n",
       "  <thead>\n",
       "    <tr style=\"text-align: right;\">\n",
       "      <th></th>\n",
       "      <th>Weeks</th>\n",
       "      <th>2019</th>\n",
       "      <th>2020</th>\n",
       "    </tr>\n",
       "  </thead>\n",
       "  <tbody>\n",
       "    <tr>\n",
       "      <th>49</th>\n",
       "      <td>50</td>\n",
       "      <td>2794</td>\n",
       "      <td>795</td>\n",
       "    </tr>\n",
       "    <tr>\n",
       "      <th>50</th>\n",
       "      <td>51</td>\n",
       "      <td>2630</td>\n",
       "      <td>771</td>\n",
       "    </tr>\n",
       "    <tr>\n",
       "      <th>51</th>\n",
       "      <td>52</td>\n",
       "      <td>2838</td>\n",
       "      <td>0.0</td>\n",
       "    </tr>\n",
       "  </tbody>\n",
       "</table>\n",
       "</div>"
      ],
      "text/plain": [
       "   Weeks  2019 2020\n",
       "49    50  2794  795\n",
       "50    51  2630  771\n",
       "51    52  2838  0.0"
      ]
     },
     "execution_count": 9,
     "metadata": {},
     "output_type": "execute_result"
    }
   ],
   "source": [
    "# Merge all dengue datasets\n",
    "dengue_all = pd.merge(dengue19_subset,dengue20_subset, on = 'Weeks')\n",
    "dengue_all.tail(3)"
   ]
  },
  {
   "cell_type": "code",
   "execution_count": 10,
   "metadata": {
    "id": "g8cW0hRO2C_D"
   },
   "outputs": [],
   "source": [
    "# Check for random missing values\n",
    "dengue_all[dengue_all['2020'] == 0.0]\n",
    "\n",
    "# Replace 0.0 with Nan \n",
    "dengue_all.replace(0.0, np.nan, inplace = True)"
   ]
  },
  {
   "cell_type": "code",
   "execution_count": 11,
   "metadata": {
    "colab": {
     "base_uri": "https://localhost:8080/"
    },
    "id": "g0dy6VE62EfU",
    "outputId": "7bbb44cd-d89f-4835-bf5d-d7a31e99ebe1"
   },
   "outputs": [
    {
     "data": {
      "text/plain": [
       "Weeks    0\n",
       "2019     1\n",
       "2020     4\n",
       "dtype: int64"
      ]
     },
     "execution_count": 11,
     "metadata": {},
     "output_type": "execute_result"
    }
   ],
   "source": [
    "# Check for null values in Dengue_all dataset\n",
    "dengue_all.isnull().sum()"
   ]
  },
  {
   "cell_type": "code",
   "execution_count": 12,
   "metadata": {
    "colab": {
     "base_uri": "https://localhost:8080/"
    },
    "id": "hBJqVylS2GMW",
    "outputId": "cbfce3ce-13f0-49fe-a822-a6b4f8218b12"
   },
   "outputs": [
    {
     "data": {
      "text/plain": [
       "Weeks                                                                                                                          0\n",
       "2019                                                                                                                           2\n",
       "2020                                                                                                                           5\n",
       "2021                                                                                                                          17\n",
       "Unnamed: 4                                                                                                                    51\n",
       "Unnamed: 5                                                                                                                    51\n",
       "Unnamed: 6                                                                                                                    51\n",
       "Unnamed: 7                                                                                                                    50\n",
       "The cumulative no of cases until week 22/2019 is 280. Can use this info to impute the missing value in week 20 and 21/2019    44\n",
       "dtype: int64"
      ]
     },
     "execution_count": 12,
     "metadata": {},
     "output_type": "execute_result"
    }
   ],
   "source": [
    "# Check for null values in Chikungunya dataset\n",
    "chikungunya = chikungunya_ori\n",
    "chikungunya.isnull().sum()"
   ]
  },
  {
   "cell_type": "code",
   "execution_count": 13,
   "metadata": {
    "colab": {
     "base_uri": "https://localhost:8080/"
    },
    "id": "IRko74YF2Hpt",
    "outputId": "3635e373-6ab1-45af-b2ba-4eb2fe48fee6"
   },
   "outputs": [
    {
     "data": {
      "text/plain": [
       "52"
      ]
     },
     "execution_count": 13,
     "metadata": {},
     "output_type": "execute_result"
    }
   ],
   "source": [
    "# Number of observation in dengue dataset\n",
    "len(dengue_all.index)"
   ]
  },
  {
   "cell_type": "code",
   "execution_count": 14,
   "metadata": {
    "colab": {
     "base_uri": "https://localhost:8080/"
    },
    "id": "cbfYJmJQ2JWi",
    "outputId": "4c535614-9212-45ee-90e0-2b47d66c1403"
   },
   "outputs": [
    {
     "data": {
      "text/plain": [
       "51"
      ]
     },
     "execution_count": 14,
     "metadata": {},
     "output_type": "execute_result"
    }
   ],
   "source": [
    "# Number of observation in chikungunya dataset\n",
    "len(chikungunya.index)"
   ]
  },
  {
   "cell_type": "code",
   "execution_count": 15,
   "metadata": {
    "colab": {
     "base_uri": "https://localhost:8080/",
     "height": 300
    },
    "id": "8ScX3upw2K2f",
    "outputId": "385ac326-732c-41e2-e5f8-af841add6b5d"
   },
   "outputs": [
    {
     "data": {
      "text/html": [
       "<div>\n",
       "<style scoped>\n",
       "    .dataframe tbody tr th:only-of-type {\n",
       "        vertical-align: middle;\n",
       "    }\n",
       "\n",
       "    .dataframe tbody tr th {\n",
       "        vertical-align: top;\n",
       "    }\n",
       "\n",
       "    .dataframe thead th {\n",
       "        text-align: right;\n",
       "    }\n",
       "</style>\n",
       "<table border=\"1\" class=\"dataframe\">\n",
       "  <thead>\n",
       "    <tr style=\"text-align: right;\">\n",
       "      <th></th>\n",
       "      <th>Weeks</th>\n",
       "      <th>2019</th>\n",
       "      <th>2020</th>\n",
       "    </tr>\n",
       "  </thead>\n",
       "  <tbody>\n",
       "    <tr>\n",
       "      <th>count</th>\n",
       "      <td>52.00</td>\n",
       "      <td>51.00</td>\n",
       "      <td>48.0</td>\n",
       "    </tr>\n",
       "    <tr>\n",
       "      <th>mean</th>\n",
       "      <td>26.50</td>\n",
       "      <td>2512.71</td>\n",
       "      <td>1743.5</td>\n",
       "    </tr>\n",
       "    <tr>\n",
       "      <th>std</th>\n",
       "      <td>15.15</td>\n",
       "      <td>546.67</td>\n",
       "      <td>717.8</td>\n",
       "    </tr>\n",
       "    <tr>\n",
       "      <th>min</th>\n",
       "      <td>1.00</td>\n",
       "      <td>1583.00</td>\n",
       "      <td>771.0</td>\n",
       "    </tr>\n",
       "    <tr>\n",
       "      <th>25%</th>\n",
       "      <td>13.75</td>\n",
       "      <td>2044.00</td>\n",
       "      <td>1171.5</td>\n",
       "    </tr>\n",
       "    <tr>\n",
       "      <th>50%</th>\n",
       "      <td>26.50</td>\n",
       "      <td>2529.00</td>\n",
       "      <td>1641.5</td>\n",
       "    </tr>\n",
       "    <tr>\n",
       "      <th>75%</th>\n",
       "      <td>39.25</td>\n",
       "      <td>2865.00</td>\n",
       "      <td>2124.5</td>\n",
       "    </tr>\n",
       "    <tr>\n",
       "      <th>max</th>\n",
       "      <td>52.00</td>\n",
       "      <td>3557.00</td>\n",
       "      <td>3387.0</td>\n",
       "    </tr>\n",
       "  </tbody>\n",
       "</table>\n",
       "</div>"
      ],
      "text/plain": [
       "       Weeks     2019    2020\n",
       "count  52.00    51.00    48.0\n",
       "mean   26.50  2512.71  1743.5\n",
       "std    15.15   546.67   717.8\n",
       "min     1.00  1583.00   771.0\n",
       "25%    13.75  2044.00  1171.5\n",
       "50%    26.50  2529.00  1641.5\n",
       "75%    39.25  2865.00  2124.5\n",
       "max    52.00  3557.00  3387.0"
      ]
     },
     "execution_count": 15,
     "metadata": {},
     "output_type": "execute_result"
    }
   ],
   "source": [
    "# Summary Statistics for dengue dataset \n",
    "round(dengue_all.describe(),2)"
   ]
  },
  {
   "cell_type": "code",
   "execution_count": 16,
   "metadata": {
    "colab": {
     "base_uri": "https://localhost:8080/"
    },
    "id": "6eUg-hHQ2MaN",
    "outputId": "63335293-4a0f-4bb6-e977-a0e421f4c30f"
   },
   "outputs": [
    {
     "name": "stdout",
     "output_type": "stream",
     "text": [
      "812.5\n",
      "4096.5\n",
      "-258.0\n",
      "3554.0\n"
     ]
    }
   ],
   "source": [
    "# Calculate for lower and upper ceiling for outliers for column 2019 dengue dataset\n",
    "outlier_low = 2044.0 - (1.5 * (2865.0 - 2044.0))\n",
    "print(outlier_low)\n",
    "\n",
    "outlier_high = 2865.0 + (1.5 * (2865.0 - 2044.0))\n",
    "print(outlier_high)\n",
    "\n",
    "# Calculate for lower and upper ceiling for outliers for column 2020 dengue dataset\n",
    "outlier_low = 1171.5 - (1.5 * (2124.5 - 1171.5))\n",
    "print(outlier_low)\n",
    "\n",
    "outlier_high = 2124.5 + (1.5 * (2124.5 - 1171.5))\n",
    "print(outlier_high)"
   ]
  },
  {
   "cell_type": "code",
   "execution_count": 17,
   "metadata": {
    "id": "ueKYHQ2l2OFM"
   },
   "outputs": [],
   "source": [
    "# Since the max value is under the outliers, just use the mean without removing any outliers values.\n",
    "mean19 = 2512.71\n",
    "dengue_all['2019'].fillna(value = round(mean19,0), inplace = True)\n",
    "\n",
    "mean20 = 1743.5\n",
    "dengue_all['2020'].fillna(value = round(mean20,0), inplace = True)"
   ]
  },
  {
   "cell_type": "code",
   "execution_count": 18,
   "metadata": {
    "id": "b0x1cQa12P1F"
   },
   "outputs": [],
   "source": [
    "# Replace 0.0 with Nan for chikungunya dataset\n",
    "chikungunya.replace(0.0, np.nan, inplace = True)"
   ]
  },
  {
   "cell_type": "code",
   "execution_count": 19,
   "metadata": {
    "colab": {
     "base_uri": "https://localhost:8080/"
    },
    "id": "GlM4pVv12RPu",
    "outputId": "43acf7ba-42c7-40bb-c1f1-4f083b745514"
   },
   "outputs": [
    {
     "data": {
      "text/plain": [
       "Weeks                                                                                                                          0\n",
       "2019                                                                                                                           4\n",
       "2020                                                                                                                           5\n",
       "2021                                                                                                                          17\n",
       "Unnamed: 4                                                                                                                    51\n",
       "Unnamed: 5                                                                                                                    51\n",
       "Unnamed: 6                                                                                                                    51\n",
       "Unnamed: 7                                                                                                                    50\n",
       "The cumulative no of cases until week 22/2019 is 280. Can use this info to impute the missing value in week 20 and 21/2019    44\n",
       "dtype: int64"
      ]
     },
     "execution_count": 19,
     "metadata": {},
     "output_type": "execute_result"
    }
   ],
   "source": [
    "# Check for missing value in chikungunya\n",
    "chikungunya.isna().sum()"
   ]
  },
  {
   "cell_type": "code",
   "execution_count": 20,
   "metadata": {
    "colab": {
     "base_uri": "https://localhost:8080/",
     "height": 300
    },
    "id": "nMz2f32z2S5X",
    "outputId": "cfb28992-e342-4b3c-9928-1ce91b5021ed"
   },
   "outputs": [
    {
     "data": {
      "text/html": [
       "<div>\n",
       "<style scoped>\n",
       "    .dataframe tbody tr th:only-of-type {\n",
       "        vertical-align: middle;\n",
       "    }\n",
       "\n",
       "    .dataframe tbody tr th {\n",
       "        vertical-align: top;\n",
       "    }\n",
       "\n",
       "    .dataframe thead th {\n",
       "        text-align: right;\n",
       "    }\n",
       "</style>\n",
       "<table border=\"1\" class=\"dataframe\">\n",
       "  <thead>\n",
       "    <tr style=\"text-align: right;\">\n",
       "      <th></th>\n",
       "      <th>Weeks</th>\n",
       "      <th>2019</th>\n",
       "      <th>2020</th>\n",
       "      <th>2021</th>\n",
       "      <th>Unnamed: 4</th>\n",
       "      <th>Unnamed: 5</th>\n",
       "      <th>Unnamed: 6</th>\n",
       "    </tr>\n",
       "  </thead>\n",
       "  <tbody>\n",
       "    <tr>\n",
       "      <th>count</th>\n",
       "      <td>51.00</td>\n",
       "      <td>47.00</td>\n",
       "      <td>46.00</td>\n",
       "      <td>34.00</td>\n",
       "      <td>0.0</td>\n",
       "      <td>0.0</td>\n",
       "      <td>0.0</td>\n",
       "    </tr>\n",
       "    <tr>\n",
       "      <th>mean</th>\n",
       "      <td>26.00</td>\n",
       "      <td>19.51</td>\n",
       "      <td>46.28</td>\n",
       "      <td>27.88</td>\n",
       "      <td>NaN</td>\n",
       "      <td>NaN</td>\n",
       "      <td>NaN</td>\n",
       "    </tr>\n",
       "    <tr>\n",
       "      <th>std</th>\n",
       "      <td>14.87</td>\n",
       "      <td>19.33</td>\n",
       "      <td>42.70</td>\n",
       "      <td>11.95</td>\n",
       "      <td>NaN</td>\n",
       "      <td>NaN</td>\n",
       "      <td>NaN</td>\n",
       "    </tr>\n",
       "    <tr>\n",
       "      <th>min</th>\n",
       "      <td>1.00</td>\n",
       "      <td>1.00</td>\n",
       "      <td>5.00</td>\n",
       "      <td>12.00</td>\n",
       "      <td>NaN</td>\n",
       "      <td>NaN</td>\n",
       "      <td>NaN</td>\n",
       "    </tr>\n",
       "    <tr>\n",
       "      <th>25%</th>\n",
       "      <td>13.50</td>\n",
       "      <td>6.00</td>\n",
       "      <td>20.00</td>\n",
       "      <td>18.25</td>\n",
       "      <td>NaN</td>\n",
       "      <td>NaN</td>\n",
       "      <td>NaN</td>\n",
       "    </tr>\n",
       "    <tr>\n",
       "      <th>50%</th>\n",
       "      <td>26.00</td>\n",
       "      <td>11.00</td>\n",
       "      <td>29.50</td>\n",
       "      <td>25.50</td>\n",
       "      <td>NaN</td>\n",
       "      <td>NaN</td>\n",
       "      <td>NaN</td>\n",
       "    </tr>\n",
       "    <tr>\n",
       "      <th>75%</th>\n",
       "      <td>38.50</td>\n",
       "      <td>25.50</td>\n",
       "      <td>51.00</td>\n",
       "      <td>36.00</td>\n",
       "      <td>NaN</td>\n",
       "      <td>NaN</td>\n",
       "      <td>NaN</td>\n",
       "    </tr>\n",
       "    <tr>\n",
       "      <th>max</th>\n",
       "      <td>51.00</td>\n",
       "      <td>71.00</td>\n",
       "      <td>181.00</td>\n",
       "      <td>65.00</td>\n",
       "      <td>NaN</td>\n",
       "      <td>NaN</td>\n",
       "      <td>NaN</td>\n",
       "    </tr>\n",
       "  </tbody>\n",
       "</table>\n",
       "</div>"
      ],
      "text/plain": [
       "       Weeks   2019    2020   2021  Unnamed: 4  Unnamed: 5  Unnamed: 6\n",
       "count  51.00  47.00   46.00  34.00         0.0         0.0         0.0\n",
       "mean   26.00  19.51   46.28  27.88         NaN         NaN         NaN\n",
       "std    14.87  19.33   42.70  11.95         NaN         NaN         NaN\n",
       "min     1.00   1.00    5.00  12.00         NaN         NaN         NaN\n",
       "25%    13.50   6.00   20.00  18.25         NaN         NaN         NaN\n",
       "50%    26.00  11.00   29.50  25.50         NaN         NaN         NaN\n",
       "75%    38.50  25.50   51.00  36.00         NaN         NaN         NaN\n",
       "max    51.00  71.00  181.00  65.00         NaN         NaN         NaN"
      ]
     },
     "execution_count": 20,
     "metadata": {},
     "output_type": "execute_result"
    }
   ],
   "source": [
    "# Summary statistics chikungunya dataset\n",
    "round(chikungunya.describe(),2)"
   ]
  },
  {
   "cell_type": "code",
   "execution_count": 21,
   "metadata": {
    "colab": {
     "base_uri": "https://localhost:8080/",
     "height": 372
    },
    "id": "bXCTp7lb2UtJ",
    "outputId": "0b9c5171-1e4a-45e5-e93a-dde4d4187361"
   },
   "outputs": [
    {
     "name": "stdout",
     "output_type": "stream",
     "text": [
      "-23.25\n",
      "54.75\n",
      "-26.5\n",
      "97.5\n"
     ]
    },
    {
     "data": {
      "text/html": [
       "<div>\n",
       "<style scoped>\n",
       "    .dataframe tbody tr th:only-of-type {\n",
       "        vertical-align: middle;\n",
       "    }\n",
       "\n",
       "    .dataframe tbody tr th {\n",
       "        vertical-align: top;\n",
       "    }\n",
       "\n",
       "    .dataframe thead th {\n",
       "        text-align: right;\n",
       "    }\n",
       "</style>\n",
       "<table border=\"1\" class=\"dataframe\">\n",
       "  <thead>\n",
       "    <tr style=\"text-align: right;\">\n",
       "      <th></th>\n",
       "      <th>Weeks</th>\n",
       "      <th>2019</th>\n",
       "      <th>2020</th>\n",
       "      <th>2021</th>\n",
       "      <th>Unnamed: 4</th>\n",
       "      <th>Unnamed: 5</th>\n",
       "      <th>Unnamed: 6</th>\n",
       "    </tr>\n",
       "  </thead>\n",
       "  <tbody>\n",
       "    <tr>\n",
       "      <th>count</th>\n",
       "      <td>43.0</td>\n",
       "      <td>43.0</td>\n",
       "      <td>38.0</td>\n",
       "      <td>27.0</td>\n",
       "      <td>0.0</td>\n",
       "      <td>0.0</td>\n",
       "      <td>0.0</td>\n",
       "    </tr>\n",
       "    <tr>\n",
       "      <th>mean</th>\n",
       "      <td>26.0</td>\n",
       "      <td>15.0</td>\n",
       "      <td>49.0</td>\n",
       "      <td>28.0</td>\n",
       "      <td>NaN</td>\n",
       "      <td>NaN</td>\n",
       "      <td>NaN</td>\n",
       "    </tr>\n",
       "    <tr>\n",
       "      <th>std</th>\n",
       "      <td>14.0</td>\n",
       "      <td>14.0</td>\n",
       "      <td>46.0</td>\n",
       "      <td>13.0</td>\n",
       "      <td>NaN</td>\n",
       "      <td>NaN</td>\n",
       "      <td>NaN</td>\n",
       "    </tr>\n",
       "    <tr>\n",
       "      <th>min</th>\n",
       "      <td>1.0</td>\n",
       "      <td>1.0</td>\n",
       "      <td>5.0</td>\n",
       "      <td>12.0</td>\n",
       "      <td>NaN</td>\n",
       "      <td>NaN</td>\n",
       "      <td>NaN</td>\n",
       "    </tr>\n",
       "    <tr>\n",
       "      <th>25%</th>\n",
       "      <td>14.0</td>\n",
       "      <td>5.0</td>\n",
       "      <td>19.0</td>\n",
       "      <td>18.0</td>\n",
       "      <td>NaN</td>\n",
       "      <td>NaN</td>\n",
       "      <td>NaN</td>\n",
       "    </tr>\n",
       "    <tr>\n",
       "      <th>50%</th>\n",
       "      <td>27.0</td>\n",
       "      <td>10.0</td>\n",
       "      <td>30.0</td>\n",
       "      <td>26.0</td>\n",
       "      <td>NaN</td>\n",
       "      <td>NaN</td>\n",
       "      <td>NaN</td>\n",
       "    </tr>\n",
       "    <tr>\n",
       "      <th>75%</th>\n",
       "      <td>38.0</td>\n",
       "      <td>22.0</td>\n",
       "      <td>55.0</td>\n",
       "      <td>34.0</td>\n",
       "      <td>NaN</td>\n",
       "      <td>NaN</td>\n",
       "      <td>NaN</td>\n",
       "    </tr>\n",
       "    <tr>\n",
       "      <th>max</th>\n",
       "      <td>50.0</td>\n",
       "      <td>52.0</td>\n",
       "      <td>181.0</td>\n",
       "      <td>65.0</td>\n",
       "      <td>NaN</td>\n",
       "      <td>NaN</td>\n",
       "      <td>NaN</td>\n",
       "    </tr>\n",
       "  </tbody>\n",
       "</table>\n",
       "</div>"
      ],
      "text/plain": [
       "       Weeks  2019   2020  2021  Unnamed: 4  Unnamed: 5  Unnamed: 6\n",
       "count   43.0  43.0   38.0  27.0         0.0         0.0         0.0\n",
       "mean    26.0  15.0   49.0  28.0         NaN         NaN         NaN\n",
       "std     14.0  14.0   46.0  13.0         NaN         NaN         NaN\n",
       "min      1.0   1.0    5.0  12.0         NaN         NaN         NaN\n",
       "25%     14.0   5.0   19.0  18.0         NaN         NaN         NaN\n",
       "50%     27.0  10.0   30.0  26.0         NaN         NaN         NaN\n",
       "75%     38.0  22.0   55.0  34.0         NaN         NaN         NaN\n",
       "max     50.0  52.0  181.0  65.0         NaN         NaN         NaN"
      ]
     },
     "execution_count": 21,
     "metadata": {},
     "output_type": "execute_result"
    }
   ],
   "source": [
    "# Calculate lower and upper ceiling for outliers for 2019 Chikungunya dataset\n",
    "outlier_low = 6.0 - (1.5 * (25.50 - 6.0))\n",
    "print(outlier_low)\n",
    "\n",
    "outlier_high = 25.50 + (1.5 * (25.50 - 6.0))\n",
    "print(outlier_high)\n",
    "\n",
    "# Calculate for lower and upper ceiling for outliers for column 2020 Chikungunya dataset\n",
    "outlier_low = 20.0 - (1.5 * (51.00 - 20.00))\n",
    "print(outlier_low)\n",
    "\n",
    "outlier_high = 51.00 + (1.5 * (51.00 - 20.00))\n",
    "print(outlier_high)\n",
    "\n",
    "# Since the upper ceiling is below max value we have to subset the dataset without those value to calculate the mean\n",
    "chikungunya_outlier_removed = chikungunya[chikungunya[2019] < 54.75]\n",
    "round(chikungunya_outlier_removed.describe())"
   ]
  },
  {
   "cell_type": "code",
   "execution_count": 22,
   "metadata": {
    "id": "aNZ6cmHj2XCP"
   },
   "outputs": [],
   "source": [
    "# Impute the 2019 NaN value with the new mean\n",
    "mean19 = 15.0\n",
    "chikungunya[2019].fillna(value = round(mean19,0), inplace = True)\n",
    "mean20 = 49.0\n",
    "chikungunya[2020].fillna(value = round(mean20,0), inplace = True)"
   ]
  },
  {
   "cell_type": "code",
   "execution_count": 23,
   "metadata": {
    "colab": {
     "base_uri": "https://localhost:8080/",
     "height": 268
    },
    "id": "1D-PiobK2YjA",
    "outputId": "1e20c56a-5db2-4821-dc67-93c45cd48621"
   },
   "outputs": [
    {
     "data": {
      "text/html": [
       "<div>\n",
       "<style scoped>\n",
       "    .dataframe tbody tr th:only-of-type {\n",
       "        vertical-align: middle;\n",
       "    }\n",
       "\n",
       "    .dataframe tbody tr th {\n",
       "        vertical-align: top;\n",
       "    }\n",
       "\n",
       "    .dataframe thead th {\n",
       "        text-align: right;\n",
       "    }\n",
       "</style>\n",
       "<table border=\"1\" class=\"dataframe\">\n",
       "  <thead>\n",
       "    <tr style=\"text-align: right;\">\n",
       "      <th></th>\n",
       "      <th>Weeks</th>\n",
       "      <th>2019</th>\n",
       "      <th>2020</th>\n",
       "      <th>2021</th>\n",
       "      <th>Unnamed: 4</th>\n",
       "      <th>Unnamed: 5</th>\n",
       "      <th>Unnamed: 6</th>\n",
       "      <th>Unnamed: 7</th>\n",
       "      <th>The cumulative no of cases until week 22/2019 is 280. Can use this info to impute the missing value in week 20 and 21/2019</th>\n",
       "    </tr>\n",
       "  </thead>\n",
       "  <tbody>\n",
       "    <tr>\n",
       "      <th>0</th>\n",
       "      <td>1</td>\n",
       "      <td>2.0</td>\n",
       "      <td>42.0</td>\n",
       "      <td>22.0</td>\n",
       "      <td>NaN</td>\n",
       "      <td>NaN</td>\n",
       "      <td>NaN</td>\n",
       "      <td>NaN</td>\n",
       "      <td>NaN</td>\n",
       "    </tr>\n",
       "    <tr>\n",
       "      <th>1</th>\n",
       "      <td>2</td>\n",
       "      <td>15.0</td>\n",
       "      <td>51.0</td>\n",
       "      <td>17.0</td>\n",
       "      <td>NaN</td>\n",
       "      <td>NaN</td>\n",
       "      <td>NaN</td>\n",
       "      <td>NaN</td>\n",
       "      <td>The cumulative no of cases until week 6/2021 i...</td>\n",
       "    </tr>\n",
       "    <tr>\n",
       "      <th>2</th>\n",
       "      <td>3</td>\n",
       "      <td>2.0</td>\n",
       "      <td>46.0</td>\n",
       "      <td>NaN</td>\n",
       "      <td>NaN</td>\n",
       "      <td>NaN</td>\n",
       "      <td>NaN</td>\n",
       "      <td>NaN</td>\n",
       "      <td>NaN</td>\n",
       "    </tr>\n",
       "    <tr>\n",
       "      <th>3</th>\n",
       "      <td>4</td>\n",
       "      <td>10.0</td>\n",
       "      <td>31.0</td>\n",
       "      <td>NaN</td>\n",
       "      <td>NaN</td>\n",
       "      <td>NaN</td>\n",
       "      <td>NaN</td>\n",
       "      <td>NaN</td>\n",
       "      <td>The cumulative no of cases until week 9/2021 i...</td>\n",
       "    </tr>\n",
       "    <tr>\n",
       "      <th>4</th>\n",
       "      <td>5</td>\n",
       "      <td>11.0</td>\n",
       "      <td>22.0</td>\n",
       "      <td>NaN</td>\n",
       "      <td>NaN</td>\n",
       "      <td>NaN</td>\n",
       "      <td>NaN</td>\n",
       "      <td>NaN</td>\n",
       "      <td>NaN</td>\n",
       "    </tr>\n",
       "  </tbody>\n",
       "</table>\n",
       "</div>"
      ],
      "text/plain": [
       "   Weeks  2019  2020  2021  Unnamed: 4  Unnamed: 5  Unnamed: 6 Unnamed: 7  \\\n",
       "0      1   2.0  42.0  22.0         NaN         NaN         NaN        NaN   \n",
       "1      2  15.0  51.0  17.0         NaN         NaN         NaN        NaN   \n",
       "2      3   2.0  46.0   NaN         NaN         NaN         NaN        NaN   \n",
       "3      4  10.0  31.0   NaN         NaN         NaN         NaN        NaN   \n",
       "4      5  11.0  22.0   NaN         NaN         NaN         NaN        NaN   \n",
       "\n",
       "  The cumulative no of cases until week 22/2019 is 280. Can use this info to impute the missing value in week 20 and 21/2019  \n",
       "0                                                NaN                                                                          \n",
       "1  The cumulative no of cases until week 6/2021 i...                                                                          \n",
       "2                                                NaN                                                                          \n",
       "3  The cumulative no of cases until week 9/2021 i...                                                                          \n",
       "4                                                NaN                                                                          "
      ]
     },
     "execution_count": 23,
     "metadata": {},
     "output_type": "execute_result"
    }
   ],
   "source": [
    "chikungunya.head()"
   ]
  },
  {
   "cell_type": "markdown",
   "metadata": {
    "id": "ijM6kF6U2oV-"
   },
   "source": [
    "### Only run this code when you want to save to excel\n",
    "**For dengue and chikungunya weeks** <br>\n",
    "with pd.ExcelWriter('weeks_dataset19-20.xlsx') as writer:\n",
    "    dengue_all.to_excel(writer, sheet_name='Dengue')\n",
    "    chikungunya.to_excel(writer, sheet_name='Chikungunya')"
   ]
  },
  {
   "cell_type": "code",
   "execution_count": 24,
   "metadata": {
    "colab": {
     "base_uri": "https://localhost:8080/",
     "height": 239
    },
    "id": "CYGxUK6N2pVZ",
    "outputId": "cb42c06f-d007-45dc-e7e9-f4fac3aee0d1"
   },
   "outputs": [
    {
     "data": {
      "text/html": [
       "<div>\n",
       "<style scoped>\n",
       "    .dataframe tbody tr th:only-of-type {\n",
       "        vertical-align: middle;\n",
       "    }\n",
       "\n",
       "    .dataframe tbody tr th {\n",
       "        vertical-align: top;\n",
       "    }\n",
       "\n",
       "    .dataframe thead th {\n",
       "        text-align: right;\n",
       "    }\n",
       "</style>\n",
       "<table border=\"1\" class=\"dataframe\">\n",
       "  <thead>\n",
       "    <tr style=\"text-align: right;\">\n",
       "      <th></th>\n",
       "      <th>Perlis</th>\n",
       "      <th>Kedah</th>\n",
       "      <th>PulauPinang</th>\n",
       "      <th>Perak</th>\n",
       "      <th>Selangor</th>\n",
       "      <th>WPKualaLumpur&amp;\\nPutrajaya</th>\n",
       "      <th>NegeriSembilan</th>\n",
       "      <th>Melaka</th>\n",
       "      <th>Johor</th>\n",
       "      <th>Pahang</th>\n",
       "      <th>Terengganu</th>\n",
       "      <th>Kelantan</th>\n",
       "      <th>Sarawak</th>\n",
       "      <th>Sabah</th>\n",
       "      <th>WPLabuan</th>\n",
       "      <th>Total</th>\n",
       "      <th>Weeks</th>\n",
       "    </tr>\n",
       "  </thead>\n",
       "  <tbody>\n",
       "    <tr>\n",
       "      <th>count</th>\n",
       "      <td>51</td>\n",
       "      <td>51</td>\n",
       "      <td>51</td>\n",
       "      <td>51</td>\n",
       "      <td>51</td>\n",
       "      <td>51</td>\n",
       "      <td>51</td>\n",
       "      <td>51</td>\n",
       "      <td>51</td>\n",
       "      <td>51</td>\n",
       "      <td>51</td>\n",
       "      <td>51</td>\n",
       "      <td>51</td>\n",
       "      <td>51</td>\n",
       "      <td>51</td>\n",
       "      <td>52.0</td>\n",
       "      <td>52</td>\n",
       "    </tr>\n",
       "    <tr>\n",
       "      <th>unique</th>\n",
       "      <td>15</td>\n",
       "      <td>30</td>\n",
       "      <td>40</td>\n",
       "      <td>37</td>\n",
       "      <td>49</td>\n",
       "      <td>45</td>\n",
       "      <td>29</td>\n",
       "      <td>30</td>\n",
       "      <td>42</td>\n",
       "      <td>38</td>\n",
       "      <td>21</td>\n",
       "      <td>46</td>\n",
       "      <td>41</td>\n",
       "      <td>42</td>\n",
       "      <td>5</td>\n",
       "      <td>51.0</td>\n",
       "      <td>52</td>\n",
       "    </tr>\n",
       "    <tr>\n",
       "      <th>top</th>\n",
       "      <td>2</td>\n",
       "      <td>14</td>\n",
       "      <td>41</td>\n",
       "      <td>52</td>\n",
       "      <td>1729</td>\n",
       "      <td>255</td>\n",
       "      <td>42</td>\n",
       "      <td>43</td>\n",
       "      <td>242</td>\n",
       "      <td>22</td>\n",
       "      <td>3</td>\n",
       "      <td>77</td>\n",
       "      <td>71</td>\n",
       "      <td>101</td>\n",
       "      <td>0</td>\n",
       "      <td>1946.0</td>\n",
       "      <td>1</td>\n",
       "    </tr>\n",
       "    <tr>\n",
       "      <th>freq</th>\n",
       "      <td>8</td>\n",
       "      <td>5</td>\n",
       "      <td>3</td>\n",
       "      <td>3</td>\n",
       "      <td>2</td>\n",
       "      <td>2</td>\n",
       "      <td>5</td>\n",
       "      <td>5</td>\n",
       "      <td>3</td>\n",
       "      <td>4</td>\n",
       "      <td>6</td>\n",
       "      <td>2</td>\n",
       "      <td>3</td>\n",
       "      <td>3</td>\n",
       "      <td>28</td>\n",
       "      <td>2.0</td>\n",
       "      <td>1</td>\n",
       "    </tr>\n",
       "  </tbody>\n",
       "</table>\n",
       "</div>"
      ],
      "text/plain": [
       "        Perlis  Kedah  PulauPinang  Perak  Selangor  \\\n",
       "count       51     51           51     51        51   \n",
       "unique      15     30           40     37        49   \n",
       "top          2     14           41     52      1729   \n",
       "freq         8      5            3      3         2   \n",
       "\n",
       "        WPKualaLumpur&\\nPutrajaya  NegeriSembilan  Melaka  Johor  Pahang  \\\n",
       "count                          51              51      51     51      51   \n",
       "unique                         45              29      30     42      38   \n",
       "top                           255              42      43    242      22   \n",
       "freq                            2               5       5      3       4   \n",
       "\n",
       "        Terengganu  Kelantan  Sarawak  Sabah  WPLabuan   Total  Weeks  \n",
       "count           51        51       51     51        51    52.0     52  \n",
       "unique          21        46       41     42         5    51.0     52  \n",
       "top              3        77       71    101         0  1946.0      1  \n",
       "freq             6         2        3      3        28     2.0      1  "
      ]
     },
     "execution_count": 24,
     "metadata": {},
     "output_type": "execute_result"
    }
   ],
   "source": [
    "# Look for most frequent number\n",
    "dengue19.describe()"
   ]
  },
  {
   "cell_type": "code",
   "execution_count": 25,
   "metadata": {
    "colab": {
     "base_uri": "https://localhost:8080/",
     "height": 270
    },
    "id": "m95n2qC52rIL",
    "outputId": "db95b762-c567-4bf7-d753-da6090dea7dd"
   },
   "outputs": [
    {
     "data": {
      "text/html": [
       "<div>\n",
       "<style scoped>\n",
       "    .dataframe tbody tr th:only-of-type {\n",
       "        vertical-align: middle;\n",
       "    }\n",
       "\n",
       "    .dataframe tbody tr th {\n",
       "        vertical-align: top;\n",
       "    }\n",
       "\n",
       "    .dataframe thead th {\n",
       "        text-align: right;\n",
       "    }\n",
       "</style>\n",
       "<table border=\"1\" class=\"dataframe\">\n",
       "  <thead>\n",
       "    <tr style=\"text-align: right;\">\n",
       "      <th></th>\n",
       "      <th>Perlis</th>\n",
       "      <th>Kedah</th>\n",
       "      <th>PulauPinang</th>\n",
       "      <th>Perak</th>\n",
       "      <th>Selangor</th>\n",
       "      <th>WPKualaLumpur&amp;\\nPutrajaya</th>\n",
       "      <th>NegeriSembilan</th>\n",
       "      <th>Melaka</th>\n",
       "      <th>Johor</th>\n",
       "      <th>Pahang</th>\n",
       "      <th>Terengganu</th>\n",
       "      <th>Kelantan</th>\n",
       "      <th>Sarawak</th>\n",
       "      <th>Sabah</th>\n",
       "      <th>WPLabuan</th>\n",
       "      <th>Total</th>\n",
       "      <th>Weeks</th>\n",
       "    </tr>\n",
       "  </thead>\n",
       "  <tbody>\n",
       "    <tr>\n",
       "      <th>1</th>\n",
       "      <td>1</td>\n",
       "      <td>3</td>\n",
       "      <td>20</td>\n",
       "      <td>21</td>\n",
       "      <td>369</td>\n",
       "      <td>77</td>\n",
       "      <td>21</td>\n",
       "      <td>28</td>\n",
       "      <td>87</td>\n",
       "      <td>33</td>\n",
       "      <td>1</td>\n",
       "      <td>7</td>\n",
       "      <td>15</td>\n",
       "      <td>34</td>\n",
       "      <td>0</td>\n",
       "      <td>717</td>\n",
       "      <td>1</td>\n",
       "    </tr>\n",
       "    <tr>\n",
       "      <th>2</th>\n",
       "      <td>0</td>\n",
       "      <td>9</td>\n",
       "      <td>14</td>\n",
       "      <td>15</td>\n",
       "      <td>388</td>\n",
       "      <td>69</td>\n",
       "      <td>24</td>\n",
       "      <td>21</td>\n",
       "      <td>72</td>\n",
       "      <td>11</td>\n",
       "      <td>2</td>\n",
       "      <td>4</td>\n",
       "      <td>15</td>\n",
       "      <td>37</td>\n",
       "      <td>0</td>\n",
       "      <td>681</td>\n",
       "      <td>2</td>\n",
       "    </tr>\n",
       "    <tr>\n",
       "      <th>3</th>\n",
       "      <td>NaN</td>\n",
       "      <td>NaN</td>\n",
       "      <td>NaN</td>\n",
       "      <td>NaN</td>\n",
       "      <td>NaN</td>\n",
       "      <td>NaN</td>\n",
       "      <td>NaN</td>\n",
       "      <td>NaN</td>\n",
       "      <td>NaN</td>\n",
       "      <td>NaN</td>\n",
       "      <td>NaN</td>\n",
       "      <td>NaN</td>\n",
       "      <td>NaN</td>\n",
       "      <td>NaN</td>\n",
       "      <td>NaN</td>\n",
       "      <td>0.0</td>\n",
       "      <td>3</td>\n",
       "    </tr>\n",
       "    <tr>\n",
       "      <th>4</th>\n",
       "      <td>NaN</td>\n",
       "      <td>NaN</td>\n",
       "      <td>NaN</td>\n",
       "      <td>NaN</td>\n",
       "      <td>NaN</td>\n",
       "      <td>NaN</td>\n",
       "      <td>NaN</td>\n",
       "      <td>NaN</td>\n",
       "      <td>NaN</td>\n",
       "      <td>NaN</td>\n",
       "      <td>NaN</td>\n",
       "      <td>NaN</td>\n",
       "      <td>NaN</td>\n",
       "      <td>NaN</td>\n",
       "      <td>NaN</td>\n",
       "      <td>0.0</td>\n",
       "      <td>4</td>\n",
       "    </tr>\n",
       "    <tr>\n",
       "      <th>5</th>\n",
       "      <td>0</td>\n",
       "      <td>8</td>\n",
       "      <td>6</td>\n",
       "      <td>17</td>\n",
       "      <td>324</td>\n",
       "      <td>61</td>\n",
       "      <td>20</td>\n",
       "      <td>29</td>\n",
       "      <td>68</td>\n",
       "      <td>18</td>\n",
       "      <td>3</td>\n",
       "      <td>4</td>\n",
       "      <td>8</td>\n",
       "      <td>41</td>\n",
       "      <td>0</td>\n",
       "      <td>607</td>\n",
       "      <td>5</td>\n",
       "    </tr>\n",
       "  </tbody>\n",
       "</table>\n",
       "</div>"
      ],
      "text/plain": [
       "  Perlis Kedah PulauPinang Perak Selangor WPKualaLumpur&\\nPutrajaya  \\\n",
       "1      1     3          20    21      369                        77   \n",
       "2      0     9          14    15      388                        69   \n",
       "3    NaN   NaN         NaN   NaN      NaN                       NaN   \n",
       "4    NaN   NaN         NaN   NaN      NaN                       NaN   \n",
       "5      0     8           6    17      324                        61   \n",
       "\n",
       "  NegeriSembilan Melaka Johor Pahang Terengganu Kelantan Sarawak Sabah  \\\n",
       "1             21     28    87     33          1        7      15    34   \n",
       "2             24     21    72     11          2        4      15    37   \n",
       "3            NaN    NaN   NaN    NaN        NaN      NaN     NaN   NaN   \n",
       "4            NaN    NaN   NaN    NaN        NaN      NaN     NaN   NaN   \n",
       "5             20     29    68     18          3        4       8    41   \n",
       "\n",
       "  WPLabuan Total Weeks  \n",
       "1        0   717     1  \n",
       "2        0   681     2  \n",
       "3      NaN   0.0     3  \n",
       "4      NaN   0.0     4  \n",
       "5        0   607     5  "
      ]
     },
     "execution_count": 25,
     "metadata": {},
     "output_type": "execute_result"
    }
   ],
   "source": [
    "dengue21.head()"
   ]
  },
  {
   "cell_type": "code",
   "execution_count": 26,
   "metadata": {
    "id": "1bz8q_B52tx7"
   },
   "outputs": [],
   "source": [
    "# Get the mod for all states in all the dengue dataset\n",
    "dengue19_mod = dengue19.describe().iloc[2, :-2]\n",
    "dengue20_mod = dengue20.describe().iloc[2, :-2]\n",
    "dengue21_mod = dengue21.describe().iloc[2, :-2]\n",
    "\n",
    "# Mode and median are suitable as they may lead to bias\n",
    "\n",
    "# For looping around the states\n",
    "states = dengue_header[:-1]\n",
    "\n",
    "for i in states:\n",
    "    dengue19[i].fillna(value = round(dengue19[i].sum()/len(dengue19[i]),0), inplace = True)\n",
    "    dengue20[i].fillna(value = round(dengue20[i].sum()/len(dengue20[i]),0), inplace = True)\n",
    "    dengue21[i].fillna(value = round(dengue21[i].sum()/len(dengue21[i]),0), inplace = True)"
   ]
  },
  {
   "cell_type": "code",
   "execution_count": 27,
   "metadata": {
    "colab": {
     "base_uri": "https://localhost:8080/"
    },
    "id": "0jm_tD702vd2",
    "outputId": "cbee360b-8179-4c42-8f93-96548d1ccacb"
   },
   "outputs": [
    {
     "name": "stdout",
     "output_type": "stream",
     "text": [
      "\n",
      "Dataset 2019\n",
      "\n",
      "Perlis                       0\n",
      "Kedah                        0\n",
      "PulauPinang                  0\n",
      "Perak                        0\n",
      "Selangor                     0\n",
      "WPKualaLumpur&\\nPutrajaya    0\n",
      "NegeriSembilan               0\n",
      "Melaka                       0\n",
      "Johor                        0\n",
      "Pahang                       0\n",
      "Terengganu                   0\n",
      "Kelantan                     0\n",
      "Sarawak                      0\n",
      "Sabah                        0\n",
      "WPLabuan                     0\n",
      "Total                        0\n",
      "Weeks                        0\n",
      "dtype: int64\n",
      "\n",
      "Dataset 2020\n",
      "\n",
      "Perlis                       0\n",
      "Kedah                        0\n",
      "PulauPinang                  0\n",
      "Perak                        0\n",
      "Selangor                     0\n",
      "WPKualaLumpur&\\nPutrajaya    0\n",
      "NegeriSembilan               0\n",
      "Melaka                       0\n",
      "Johor                        0\n",
      "Pahang                       0\n",
      "Terengganu                   0\n",
      "Kelantan                     0\n",
      "Sarawak                      0\n",
      "Sabah                        0\n",
      "WPLabuan                     0\n",
      "Total                        0\n",
      "Weeks                        0\n",
      "dtype: int64\n",
      "\n",
      "Dataset 2021\n",
      "\n",
      "Perlis                       0\n",
      "Kedah                        0\n",
      "PulauPinang                  0\n",
      "Perak                        0\n",
      "Selangor                     0\n",
      "WPKualaLumpur&\\nPutrajaya    0\n",
      "NegeriSembilan               0\n",
      "Melaka                       0\n",
      "Johor                        0\n",
      "Pahang                       0\n",
      "Terengganu                   0\n",
      "Kelantan                     0\n",
      "Sarawak                      0\n",
      "Sabah                        0\n",
      "WPLabuan                     0\n",
      "Total                        0\n",
      "Weeks                        0\n",
      "dtype: int64\n"
     ]
    }
   ],
   "source": [
    "# Check if any Null value left\n",
    "print(\"\\nDataset 2019\\n\")\n",
    "print(dengue19.isnull().sum())\n",
    "print(\"\\nDataset 2020\\n\")\n",
    "print(dengue20.isnull().sum())\n",
    "print(\"\\nDataset 2021\\n\")\n",
    "print(dengue21.isnull().sum())"
   ]
  },
  {
   "cell_type": "code",
   "execution_count": 28,
   "metadata": {
    "id": "jGFEkhGG2ysW"
   },
   "outputs": [],
   "source": [
    "# Writing excel file for the cleaned dataset\n",
    "with pd.ExcelWriter('dengue_withStates19-21.xlsx') as writer:\n",
    "    dengue19.to_excel(writer, sheet_name='Dengue 2019')\n",
    "    dengue20.to_excel(writer, sheet_name='Dengue 2020')\n",
    "    dengue21.to_excel(writer, sheet_name='Dengue 2021')"
   ]
  },
  {
   "cell_type": "code",
   "execution_count": 29,
   "metadata": {
    "colab": {
     "base_uri": "https://localhost:8080/",
     "height": 270
    },
    "id": "XdD8uQWP21od",
    "outputId": "db18ca58-de13-4e0f-dce1-75c019149a19"
   },
   "outputs": [
    {
     "data": {
      "text/html": [
       "<div>\n",
       "<style scoped>\n",
       "    .dataframe tbody tr th:only-of-type {\n",
       "        vertical-align: middle;\n",
       "    }\n",
       "\n",
       "    .dataframe tbody tr th {\n",
       "        vertical-align: top;\n",
       "    }\n",
       "\n",
       "    .dataframe thead th {\n",
       "        text-align: right;\n",
       "    }\n",
       "</style>\n",
       "<table border=\"1\" class=\"dataframe\">\n",
       "  <thead>\n",
       "    <tr style=\"text-align: right;\">\n",
       "      <th></th>\n",
       "      <th>Perlis</th>\n",
       "      <th>Kedah</th>\n",
       "      <th>PulauPinang</th>\n",
       "      <th>Perak</th>\n",
       "      <th>Selangor</th>\n",
       "      <th>WPKualaLumpur&amp;\\nPutrajaya</th>\n",
       "      <th>NegeriSembilan</th>\n",
       "      <th>Melaka</th>\n",
       "      <th>Johor</th>\n",
       "      <th>Pahang</th>\n",
       "      <th>Terengganu</th>\n",
       "      <th>Kelantan</th>\n",
       "      <th>Sarawak</th>\n",
       "      <th>Sabah</th>\n",
       "      <th>WPLabuan</th>\n",
       "      <th>Total</th>\n",
       "      <th>Weeks</th>\n",
       "    </tr>\n",
       "  </thead>\n",
       "  <tbody>\n",
       "    <tr>\n",
       "      <th>1</th>\n",
       "      <td>1.0</td>\n",
       "      <td>3.0</td>\n",
       "      <td>20.0</td>\n",
       "      <td>21.0</td>\n",
       "      <td>369.0</td>\n",
       "      <td>77.0</td>\n",
       "      <td>21.0</td>\n",
       "      <td>28.0</td>\n",
       "      <td>87.0</td>\n",
       "      <td>33.0</td>\n",
       "      <td>1.0</td>\n",
       "      <td>7.0</td>\n",
       "      <td>15.0</td>\n",
       "      <td>34.0</td>\n",
       "      <td>0.0</td>\n",
       "      <td>717</td>\n",
       "      <td>1</td>\n",
       "    </tr>\n",
       "    <tr>\n",
       "      <th>2</th>\n",
       "      <td>0.0</td>\n",
       "      <td>9.0</td>\n",
       "      <td>14.0</td>\n",
       "      <td>15.0</td>\n",
       "      <td>388.0</td>\n",
       "      <td>69.0</td>\n",
       "      <td>24.0</td>\n",
       "      <td>21.0</td>\n",
       "      <td>72.0</td>\n",
       "      <td>11.0</td>\n",
       "      <td>2.0</td>\n",
       "      <td>4.0</td>\n",
       "      <td>15.0</td>\n",
       "      <td>37.0</td>\n",
       "      <td>0.0</td>\n",
       "      <td>681</td>\n",
       "      <td>2</td>\n",
       "    </tr>\n",
       "    <tr>\n",
       "      <th>3</th>\n",
       "      <td>0.0</td>\n",
       "      <td>10.0</td>\n",
       "      <td>6.0</td>\n",
       "      <td>8.0</td>\n",
       "      <td>232.0</td>\n",
       "      <td>46.0</td>\n",
       "      <td>9.0</td>\n",
       "      <td>9.0</td>\n",
       "      <td>28.0</td>\n",
       "      <td>6.0</td>\n",
       "      <td>1.0</td>\n",
       "      <td>3.0</td>\n",
       "      <td>7.0</td>\n",
       "      <td>28.0</td>\n",
       "      <td>0.0</td>\n",
       "      <td>0.0</td>\n",
       "      <td>3</td>\n",
       "    </tr>\n",
       "    <tr>\n",
       "      <th>4</th>\n",
       "      <td>0.0</td>\n",
       "      <td>10.0</td>\n",
       "      <td>6.0</td>\n",
       "      <td>8.0</td>\n",
       "      <td>232.0</td>\n",
       "      <td>46.0</td>\n",
       "      <td>9.0</td>\n",
       "      <td>9.0</td>\n",
       "      <td>28.0</td>\n",
       "      <td>6.0</td>\n",
       "      <td>1.0</td>\n",
       "      <td>3.0</td>\n",
       "      <td>7.0</td>\n",
       "      <td>28.0</td>\n",
       "      <td>0.0</td>\n",
       "      <td>0.0</td>\n",
       "      <td>4</td>\n",
       "    </tr>\n",
       "    <tr>\n",
       "      <th>5</th>\n",
       "      <td>0.0</td>\n",
       "      <td>8.0</td>\n",
       "      <td>6.0</td>\n",
       "      <td>17.0</td>\n",
       "      <td>324.0</td>\n",
       "      <td>61.0</td>\n",
       "      <td>20.0</td>\n",
       "      <td>29.0</td>\n",
       "      <td>68.0</td>\n",
       "      <td>18.0</td>\n",
       "      <td>3.0</td>\n",
       "      <td>4.0</td>\n",
       "      <td>8.0</td>\n",
       "      <td>41.0</td>\n",
       "      <td>0.0</td>\n",
       "      <td>607</td>\n",
       "      <td>5</td>\n",
       "    </tr>\n",
       "  </tbody>\n",
       "</table>\n",
       "</div>"
      ],
      "text/plain": [
       "   Perlis  Kedah  PulauPinang  Perak  Selangor  WPKualaLumpur&\\nPutrajaya  \\\n",
       "1     1.0    3.0         20.0   21.0     369.0                       77.0   \n",
       "2     0.0    9.0         14.0   15.0     388.0                       69.0   \n",
       "3     0.0   10.0          6.0    8.0     232.0                       46.0   \n",
       "4     0.0   10.0          6.0    8.0     232.0                       46.0   \n",
       "5     0.0    8.0          6.0   17.0     324.0                       61.0   \n",
       "\n",
       "   NegeriSembilan  Melaka  Johor  Pahang  Terengganu  Kelantan  Sarawak  \\\n",
       "1            21.0    28.0   87.0    33.0         1.0       7.0     15.0   \n",
       "2            24.0    21.0   72.0    11.0         2.0       4.0     15.0   \n",
       "3             9.0     9.0   28.0     6.0         1.0       3.0      7.0   \n",
       "4             9.0     9.0   28.0     6.0         1.0       3.0      7.0   \n",
       "5            20.0    29.0   68.0    18.0         3.0       4.0      8.0   \n",
       "\n",
       "   Sabah  WPLabuan Total Weeks  \n",
       "1   34.0       0.0   717     1  \n",
       "2   37.0       0.0   681     2  \n",
       "3   28.0       0.0   0.0     3  \n",
       "4   28.0       0.0   0.0     4  \n",
       "5   41.0       0.0   607     5  "
      ]
     },
     "execution_count": 29,
     "metadata": {},
     "output_type": "execute_result"
    }
   ],
   "source": [
    "dengue21.head()"
   ]
  },
  {
   "cell_type": "markdown",
   "metadata": {
    "id": "n2EYIBZgIGZ9"
   },
   "source": [
    "##  Summary of Data Preprocessing\n",
    "### A -  Dengue19\n",
    "Dataset for dengue from 2019 have 1 whole rows of missing data.\n",
    "\n",
    "### B -  Dengue20\n",
    "Dataset for dengue from 2020 have 4 whole rows of missing data.\n",
    "\n",
    "### C -  Dengue21\n",
    "Dataset for dengue from 2021 have 12 whole rows of missing data.\n",
    "\n",
    "We used the mean to replace the values as median and mode were not suitable."
   ]
  },
  {
   "cell_type": "markdown",
   "metadata": {
    "id": "PSJEfnBPyHW6"
   },
   "source": [
    "## Section C - Data Visualization and T-test "
   ]
  },
  {
   "cell_type": "markdown",
   "metadata": {},
   "source": [
    "### Part A: Number of Dengue Cases per State in 2019, 2020, and 2021"
   ]
  },
  {
   "cell_type": "code",
   "execution_count": 30,
   "metadata": {
    "colab": {
     "base_uri": "https://localhost:8080/",
     "height": 475
    },
    "id": "sM5sN3QsXhnG",
    "outputId": "06ce0525-93e9-4a38-d737-e98fd86cbcf0"
   },
   "outputs": [
    {
     "data": {
      "image/png": "[encoded data removed]",
      "text/plain": [
       "<Figure size 2016x1152 with 1 Axes>"
      ]
     },
     "metadata": {
      "needs_background": "light"
     },
     "output_type": "display_data"
    }
   ],
   "source": [
    "# Modifying data to make it suitable for visualization\n",
    "Total = dengue19.iloc[:, [15]]\n",
    "df1_transposed = dengue19.T \n",
    "df = df1_transposed.iloc[1:]\n",
    "df = df.rename_axis(\"States\").reset_index()\n",
    "first_column = df.iloc[:, 0]\n",
    "df = df.iloc[: , 1:]\n",
    "df = pd.concat([df,pd.DataFrame(df.sum(axis=1),columns=['Total'])],axis=1)\n",
    "Total1 = df.iloc[:14 , -1]\n",
    "States_name = first_column\n",
    "Total_case = df.iloc[:14 , -1]\n",
    "\n",
    "data = {'States_name':  States_name ,\n",
    "        'Total_case': Total_case}\n",
    " \n",
    "# Create DataFrame\n",
    "dfq = pd.DataFrame(data)\n",
    "\n",
    "dfq = dfq.sort_values('Total_case')\n",
    "name = dfq['States_name'].head(14)\n",
    "price = dfq['Total_case'].head(14)\n",
    " \n",
    "# Figure Size\n",
    "fig = plt.figure(figsize =(28, 16))\n",
    " \n",
    "# Horizontal Bar Plot\n",
    "plt.bar(name, price)\n",
    "\n",
    "plt.title('Total Number of Dengue Cases in year 2019 by different states in Malaysia', fontsize=24)\n",
    "plt.xlabel('States',fontsize=20)\n",
    "plt.ylabel('dengue Total cases' ,fontsize=24)\n",
    " \n",
    "# Show Plot\n",
    "plt.show()\n"
   ]
  },
  {
   "cell_type": "code",
   "execution_count": 31,
   "metadata": {
    "colab": {
     "base_uri": "https://localhost:8080/",
     "height": 475
    },
    "id": "qUdWq66oYkTO",
    "outputId": "e7fcc9e0-55bb-4200-bf2c-dc5159459963"
   },
   "outputs": [
    {
     "data": {
      "image/png": "[encoded data removed]",
      "text/plain": [
       "<Figure size 2016x1152 with 1 Axes>"
      ]
     },
     "metadata": {
      "needs_background": "light"
     },
     "output_type": "display_data"
    }
   ],
   "source": [
    "Total = dengue20.iloc[:, [15]]\n",
    "df1_transposed = dengue20.T \n",
    "df = df1_transposed.iloc[1:]\n",
    "df = df.rename_axis(\"States\").reset_index()\n",
    "first_column = df.iloc[:, 0]\n",
    "df = df.iloc[: , 1:]\n",
    "df = pd.concat([df,pd.DataFrame(df.sum(axis=1),columns=['Total'])],axis=1)\n",
    "Total1 = df.iloc[:14 , -1]\n",
    "\n",
    "States_name = first_column\n",
    "Total_case = df.iloc[:14 , -1]\n",
    "\n",
    "\n",
    "data = {'States_name':  States_name ,\n",
    "        'Total_case': Total_case}\n",
    " \n",
    "# Create DataFrame\n",
    "dfq = pd.DataFrame(data)\n",
    "dfq = dfq.sort_values('Total_case')\n",
    "\n",
    "name = dfq['States_name'].head(14)\n",
    "price = dfq['Total_case'].head(14)\n",
    " \n",
    "# Figure Size\n",
    "fig = plt.figure(figsize =(28, 16))\n",
    " \n",
    "# Horizontal Bar Plot\n",
    "plt.bar(name, price)\n",
    "\n",
    "plt.title('Total Number of Dengue Cases in year 2020 by different states in Malaysia', fontsize=24)\n",
    "plt.xlabel('States',fontsize=20)\n",
    "plt.ylabel('dengue Total cases' ,fontsize=24)\n",
    " \n",
    "# Show Plot\n",
    "plt.show()"
   ]
  },
  {
   "cell_type": "code",
   "execution_count": 32,
   "metadata": {
    "colab": {
     "base_uri": "https://localhost:8080/",
     "height": 475
    },
    "id": "kCDMNSPpZWfm",
    "outputId": "ba529d2f-a5b6-4ee4-a2d0-9a5b89c568d0"
   },
   "outputs": [
    {
     "data": {
      "image/png": "[encoded data removed]",
      "text/plain": [
       "<Figure size 2016x1152 with 1 Axes>"
      ]
     },
     "metadata": {
      "needs_background": "light"
     },
     "output_type": "display_data"
    }
   ],
   "source": [
    "Total = dengue21.iloc[:, [15]]\n",
    "df1_transposed = dengue21.T \n",
    "df = df1_transposed.iloc[1:]\n",
    "df = df.rename_axis(\"States\").reset_index()\n",
    "first_column = df.iloc[:, 0]\n",
    "df = df.iloc[: , 1:]\n",
    "df = pd.concat([df,pd.DataFrame(df.sum(axis=1),columns=['Total'])],axis=1)\n",
    "Total1 = df.iloc[:14 , -1]\n",
    "States_name = first_column\n",
    "Total_case = df.iloc[:14 , -1]\n",
    "\n",
    "data = {'States_name':  States_name ,\n",
    "        'Total_case': Total_case}\n",
    " \n",
    "# Create DataFrame\n",
    "dfq = pd.DataFrame(data)\n",
    "dfq = dfq.sort_values('Total_case')\n",
    "\n",
    "name = dfq['States_name'].head(14)\n",
    "price = dfq['Total_case'].head(14)\n",
    " \n",
    "# Figure Size\n",
    "fig = plt.figure(figsize =(28, 16))\n",
    " \n",
    "# Horizontal Bar Plot\n",
    "plt.bar(name, price)\n",
    "\n",
    "plt.title('Total Number of Dengue Cases in year 2021 by different states in Malaysia', fontsize=24)\n",
    "plt.xlabel('States',fontsize=20)\n",
    "plt.ylabel('dengue Total cases' ,fontsize=24)\n",
    " \n",
    "# Show Plot\n",
    "plt.show()"
   ]
  },
  {
   "cell_type": "markdown",
   "metadata": {},
   "source": [
    "### Insights from the 3 bar charts above:\n",
    "#### A - We observe the Selengor State is the most state with Dengue cases in Malaysia.\n",
    "#### B - Most cases in Malaysia are from Selengor.\n",
    "#### C - WPLabuan is the least state with Degnue cases."
   ]
  },
  {
   "cell_type": "markdown",
   "metadata": {},
   "source": [
    "### Part B: Line chart for Total number of cases of Dengue and Chikungunya"
   ]
  },
  {
   "cell_type": "code",
   "execution_count": 33,
   "metadata": {},
   "outputs": [
    {
     "data": {
      "text/html": [
       "<div>\n",
       "<style scoped>\n",
       "    .dataframe tbody tr th:only-of-type {\n",
       "        vertical-align: middle;\n",
       "    }\n",
       "\n",
       "    .dataframe tbody tr th {\n",
       "        vertical-align: top;\n",
       "    }\n",
       "\n",
       "    .dataframe thead th {\n",
       "        text-align: right;\n",
       "    }\n",
       "</style>\n",
       "<table border=\"1\" class=\"dataframe\">\n",
       "  <thead>\n",
       "    <tr style=\"text-align: right;\">\n",
       "      <th></th>\n",
       "      <th>Unnamed: 0</th>\n",
       "      <th>Weeks</th>\n",
       "      <th>2019</th>\n",
       "      <th>2020</th>\n",
       "    </tr>\n",
       "  </thead>\n",
       "  <tbody>\n",
       "    <tr>\n",
       "      <th>0</th>\n",
       "      <td>0</td>\n",
       "      <td>1</td>\n",
       "      <td>2587.0</td>\n",
       "      <td>2838.0</td>\n",
       "    </tr>\n",
       "    <tr>\n",
       "      <th>1</th>\n",
       "      <td>1</td>\n",
       "      <td>2</td>\n",
       "      <td>3202.0</td>\n",
       "      <td>3239.0</td>\n",
       "    </tr>\n",
       "    <tr>\n",
       "      <th>2</th>\n",
       "      <td>2</td>\n",
       "      <td>3</td>\n",
       "      <td>3330.0</td>\n",
       "      <td>3387.0</td>\n",
       "    </tr>\n",
       "    <tr>\n",
       "      <th>3</th>\n",
       "      <td>3</td>\n",
       "      <td>4</td>\n",
       "      <td>3127.0</td>\n",
       "      <td>3128.0</td>\n",
       "    </tr>\n",
       "    <tr>\n",
       "      <th>4</th>\n",
       "      <td>4</td>\n",
       "      <td>5</td>\n",
       "      <td>3223.0</td>\n",
       "      <td>2770.0</td>\n",
       "    </tr>\n",
       "  </tbody>\n",
       "</table>\n",
       "</div>"
      ],
      "text/plain": [
       "   Unnamed: 0  Weeks    2019    2020\n",
       "0           0      1  2587.0  2838.0\n",
       "1           1      2  3202.0  3239.0\n",
       "2           2      3  3330.0  3387.0\n",
       "3           3      4  3127.0  3128.0\n",
       "4           4      5  3223.0  2770.0"
      ]
     },
     "metadata": {},
     "output_type": "display_data"
    },
    {
     "data": {
      "text/html": [
       "<div>\n",
       "<style scoped>\n",
       "    .dataframe tbody tr th:only-of-type {\n",
       "        vertical-align: middle;\n",
       "    }\n",
       "\n",
       "    .dataframe tbody tr th {\n",
       "        vertical-align: top;\n",
       "    }\n",
       "\n",
       "    .dataframe thead th {\n",
       "        text-align: right;\n",
       "    }\n",
       "</style>\n",
       "<table border=\"1\" class=\"dataframe\">\n",
       "  <thead>\n",
       "    <tr style=\"text-align: right;\">\n",
       "      <th></th>\n",
       "      <th>Unnamed: 0</th>\n",
       "      <th>Weeks</th>\n",
       "      <th>2019</th>\n",
       "      <th>2020</th>\n",
       "    </tr>\n",
       "  </thead>\n",
       "  <tbody>\n",
       "    <tr>\n",
       "      <th>0</th>\n",
       "      <td>0</td>\n",
       "      <td>1</td>\n",
       "      <td>2</td>\n",
       "      <td>42</td>\n",
       "    </tr>\n",
       "    <tr>\n",
       "      <th>1</th>\n",
       "      <td>1</td>\n",
       "      <td>2</td>\n",
       "      <td>15</td>\n",
       "      <td>51</td>\n",
       "    </tr>\n",
       "    <tr>\n",
       "      <th>2</th>\n",
       "      <td>2</td>\n",
       "      <td>3</td>\n",
       "      <td>2</td>\n",
       "      <td>46</td>\n",
       "    </tr>\n",
       "    <tr>\n",
       "      <th>3</th>\n",
       "      <td>3</td>\n",
       "      <td>4</td>\n",
       "      <td>10</td>\n",
       "      <td>31</td>\n",
       "    </tr>\n",
       "    <tr>\n",
       "      <th>4</th>\n",
       "      <td>4</td>\n",
       "      <td>5</td>\n",
       "      <td>11</td>\n",
       "      <td>22</td>\n",
       "    </tr>\n",
       "  </tbody>\n",
       "</table>\n",
       "</div>"
      ],
      "text/plain": [
       "   Unnamed: 0  Weeks  2019  2020\n",
       "0           0      1     2    42\n",
       "1           1      2    15    51\n",
       "2           2      3     2    46\n",
       "3           3      4    10    31\n",
       "4           4      5    11    22"
      ]
     },
     "metadata": {},
     "output_type": "display_data"
    },
    {
     "data": {
      "text/html": [
       "<div>\n",
       "<style scoped>\n",
       "    .dataframe tbody tr th:only-of-type {\n",
       "        vertical-align: middle;\n",
       "    }\n",
       "\n",
       "    .dataframe tbody tr th {\n",
       "        vertical-align: top;\n",
       "    }\n",
       "\n",
       "    .dataframe thead th {\n",
       "        text-align: right;\n",
       "    }\n",
       "</style>\n",
       "<table border=\"1\" class=\"dataframe\">\n",
       "  <thead>\n",
       "    <tr style=\"text-align: right;\">\n",
       "      <th></th>\n",
       "      <th>2019</th>\n",
       "      <th>2020</th>\n",
       "    </tr>\n",
       "    <tr>\n",
       "      <th>Weeks</th>\n",
       "      <th></th>\n",
       "      <th></th>\n",
       "    </tr>\n",
       "  </thead>\n",
       "  <tbody>\n",
       "    <tr>\n",
       "      <th>1</th>\n",
       "      <td>2587</td>\n",
       "      <td>2838</td>\n",
       "    </tr>\n",
       "    <tr>\n",
       "      <th>2</th>\n",
       "      <td>3202</td>\n",
       "      <td>3239</td>\n",
       "    </tr>\n",
       "    <tr>\n",
       "      <th>3</th>\n",
       "      <td>3330</td>\n",
       "      <td>3387</td>\n",
       "    </tr>\n",
       "    <tr>\n",
       "      <th>4</th>\n",
       "      <td>3127</td>\n",
       "      <td>3128</td>\n",
       "    </tr>\n",
       "    <tr>\n",
       "      <th>5</th>\n",
       "      <td>3223</td>\n",
       "      <td>2770</td>\n",
       "    </tr>\n",
       "  </tbody>\n",
       "</table>\n",
       "</div>"
      ],
      "text/plain": [
       "       2019  2020\n",
       "Weeks            \n",
       "1      2587  2838\n",
       "2      3202  3239\n",
       "3      3330  3387\n",
       "4      3127  3128\n",
       "5      3223  2770"
      ]
     },
     "execution_count": 33,
     "metadata": {},
     "output_type": "execute_result"
    }
   ],
   "source": [
    "cleaned_dengue = pd.read_excel('weeks_dataset19-20.xlsx',\n",
    "                   sheet_name='Dengue')\n",
    "cleaned_chikungunya = pd.read_excel('weeks_dataset19-20.xlsx',\n",
    "                   sheet_name='Chikungunya')\n",
    "display(cleaned_dengue.head())\n",
    "display(cleaned_chikungunya.head())\n",
    "cleaned_dengue = cleaned_dengue.iloc[:,1:4]\n",
    "cleaned_dengue = cleaned_dengue.astype(int)\n",
    "cleaned_dengue.set_index('Weeks', inplace=True)\n",
    "cleaned_dengue.head()"
   ]
  },
  {
   "cell_type": "code",
   "execution_count": 34,
   "metadata": {},
   "outputs": [
    {
     "data": {
      "image/png": "[encoded data removed]",
      "text/plain": [
       "<Figure size 1152x576 with 1 Axes>"
      ]
     },
     "metadata": {
      "needs_background": "light"
     },
     "output_type": "display_data"
    }
   ],
   "source": [
    "cleaned_dengue.plot(kind='line', marker='o', figsize=(16, 8))\n",
    "plt.title('Total number of Dengue Cases in Malaysia 2019 and 2020')\n",
    "plt.ylabel('Number of Cases')\n",
    "plt.xlabel('Weeks')\n",
    "plt.xticks(list(range(1,53)))\n",
    "\n",
    "plt.show() "
   ]
  },
  {
   "cell_type": "code",
   "execution_count": 35,
   "metadata": {},
   "outputs": [
    {
     "data": {
      "text/html": [
       "<div>\n",
       "<style scoped>\n",
       "    .dataframe tbody tr th:only-of-type {\n",
       "        vertical-align: middle;\n",
       "    }\n",
       "\n",
       "    .dataframe tbody tr th {\n",
       "        vertical-align: top;\n",
       "    }\n",
       "\n",
       "    .dataframe thead th {\n",
       "        text-align: right;\n",
       "    }\n",
       "</style>\n",
       "<table border=\"1\" class=\"dataframe\">\n",
       "  <thead>\n",
       "    <tr style=\"text-align: right;\">\n",
       "      <th></th>\n",
       "      <th>2019</th>\n",
       "      <th>2020</th>\n",
       "    </tr>\n",
       "    <tr>\n",
       "      <th>Weeks</th>\n",
       "      <th></th>\n",
       "      <th></th>\n",
       "    </tr>\n",
       "  </thead>\n",
       "  <tbody>\n",
       "    <tr>\n",
       "      <th>1</th>\n",
       "      <td>2</td>\n",
       "      <td>42</td>\n",
       "    </tr>\n",
       "    <tr>\n",
       "      <th>2</th>\n",
       "      <td>15</td>\n",
       "      <td>51</td>\n",
       "    </tr>\n",
       "    <tr>\n",
       "      <th>3</th>\n",
       "      <td>2</td>\n",
       "      <td>46</td>\n",
       "    </tr>\n",
       "    <tr>\n",
       "      <th>4</th>\n",
       "      <td>10</td>\n",
       "      <td>31</td>\n",
       "    </tr>\n",
       "    <tr>\n",
       "      <th>5</th>\n",
       "      <td>11</td>\n",
       "      <td>22</td>\n",
       "    </tr>\n",
       "  </tbody>\n",
       "</table>\n",
       "</div>"
      ],
      "text/plain": [
       "       2019  2020\n",
       "Weeks            \n",
       "1         2    42\n",
       "2        15    51\n",
       "3         2    46\n",
       "4        10    31\n",
       "5        11    22"
      ]
     },
     "execution_count": 35,
     "metadata": {},
     "output_type": "execute_result"
    }
   ],
   "source": [
    "cleaned_chikungunya = cleaned_chikungunya.iloc[:,1:4]\n",
    "cleaned_chikungunya = cleaned_chikungunya.astype(int)\n",
    "cleaned_chikungunya.set_index('Weeks', inplace=True)\n",
    "cleaned_chikungunya.head()"
   ]
  },
  {
   "cell_type": "code",
   "execution_count": 36,
   "metadata": {},
   "outputs": [
    {
     "data": {
      "image/png": "[encoded data removed]",
      "text/plain": [
       "<Figure size 1152x576 with 1 Axes>"
      ]
     },
     "metadata": {
      "needs_background": "light"
     },
     "output_type": "display_data"
    }
   ],
   "source": [
    "cleaned_chikungunya.plot(kind='line', marker='o', figsize=(16, 8))\n",
    "plt.title('Total number of Chikungunya Cases in Malaysia 2019 & 2020')\n",
    "plt.ylabel('Number of Cases')\n",
    "plt.xlabel('Weeks')\n",
    "plt.xticks(list(range(1,52)))\n",
    "plt.show() "
   ]
  },
  {
   "cell_type": "markdown",
   "metadata": {},
   "source": [
    "### Insights from the line charts:\n",
    "#### A - For Dengue, the number of cases decreased dramatically after the Covid-19 Pandamic outbreak\n",
    "#### B - For Chikungun, the number of cases are similar most of the time, but there is surge from week 20 to 30 in 2020."
   ]
  },
  {
   "cell_type": "markdown",
   "metadata": {
    "id": "6W2B4JcIX6V5"
   },
   "source": [
    "# Two Sample Independant T-test \n",
    "## Dengue Sample\n",
    "\n",
    "![image.png](data:image/png;base64,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)\n",
    "\n",
    "\n",
    "Ho = There is no difference between cases before and after COVID-19\n",
    "  \n",
    "H1 = There is a difference between cases before and after COVID-19\n",
    "\n",
    "We are doing an independant two sample t-test to check whether COVID-19 has affect on the dengue cases in Malaysia. Therefore we took cases from 2019 and 2020, sum all the state cases and performed the t-test. The result for the p-value is 6.65 and the critical value is 1.98. Since the p-value is greater than the critical value we can conclude that there is a significant differnece thus reject the null hypothesis. COVID-19 did affect the number of dengue cases in Malaysia. Possibilties for lower cases could be communities sanitise regularly and the surrondings are kept clean. \n",
    "\n"
   ]
  },
  {
   "cell_type": "markdown",
   "metadata": {
    "id": "ProvrvA4dJgA"
   },
   "source": [
    "## Chikungunya Sample\n",
    "\n",
    "\n",
    "\n",
    "![image.png](data:image/png;base64,iVBORw0KGgoAAAANSUhEUgAAAWsAAADFCAIAAAAdRUQFAAAAAXNSR0IArs4c6QAAAERlWElmTU0AKgAAAAgAAYdpAAQAAAABAAAAGgAAAAAAA6ABAAMAAAABAAEAAKACAAQAAAABAAABa6ADAAQAAAABAAAAxQAAAABLLO1TAAA8XElEQVR4Ae2dC7xVRfXHT5ZaWf8se0MmlQqUDxRFS3mYT5SHCJiGiAaCiBKipoJIn8xQMnvhx8gXHwQpRVHzBUqSqYhoaKmlhoKYFvSwh1r2+H8367rO3Fl7n7Pv5dzLOfuu/bmfc2fPXrNm1tqz114ze/1mSiU/XAOuAddAazXwll/96lef/vSnW1vcy7kGNkkDTzzxROG7X4FlRLQtNun+e2HXgGugY2vALUjHvv8uvWtg0zTgFmTT9Oel608Df/7znx977LG//e1v2rRXX32VnD/+8Y+aQ2L9+vV/+tOfNAcaRvRhjl6qq0Qe6fLQ1EwotPY/P1wDm0kDNe9+U6dO3WKL5L347ne/e+XKlYh1xx13/N///R85W2211e23307Oyy+/PHr0aMgmTJggcs+fPx96aN7+9rffe++9tVVGDWXMI10emloJiGjug9TMFjujetAAz8ZNN92EgcAHueeee/AsRo4cue+++/7mN7/Zcsst582bRyNPOeWUFStW/Pe//91jjz04xTeBfuDAgWvWrKH4woUL60GQ1DbkkS4PTSrz1mW6BWmd3rxUnWrgggsuwBb885//pH377LPPLbfcwmjl3HPP3Wmnnd773ve+8cYb5F911VWnn346iT333JNfrAmGZtSoUR/96Eff+ta3vuUtbyGzPo880uWhqaF0bkFqqExnVRca+OEPfzh37tyTTjqpd+/e9913H4MXfJC///3vv/vd7z7xiU/QRAY1jzzyCAOW7t27c9q5c2esBhbkYx/7GKZk5513rgsxMhpRVTrK5aHJYN/ibLcgLVaZF6hnDcyYMWPs2LFjxoy57LLLaOfzzz/fpUsXxi9Lly5l2NKnTx9pPBZkt912e9vb3sbpLrvs8uCDD5533nmf//znMSWHHXZY3QqYR7o8NLUUsIbTPAzA/HANtEgDte1+Z5xxBs/GQQcdtHjxYowCLRk6dOh73vOe+++/f6+99sIBYRTz4osvcumd73zngAEDnnzySWiWL1/+zDPP3Hzzzdtttx2TJi1qfx7iWsmYR7o8NHnanJMG0Uq1Ei9nlU7mGgg1UNvut/XWW+vbdb/99qOiJUuWbLPNNmR+8pOffPjhh8k59thjlQYjQg7GhRz8kRNOOOG1114Lm1eTdK1kzCNdHpqaCCVMEM2j2rU7eWIzaKAdIr7xO1555ZX3v//9WeL95z//4fvuBz/4QQY7WTSbkt+mMlaVjpbnoWmdgIiWjAP9cA0UWAPYhQrmA8H5/tKpU6cG1UBV6ZArD02rxfeZ1Farzgu6BlwDrgHXgGvANbAJGvB5kE1QnhfdZA206RzBJreuNgwKLCOi+SimNr3EubgGOqYG3IJ0zPvuUrsGaqOBZhYEUPC///3vkDGfwf71r3+FOZ52DbS/Bv7xj3/85S9/0XqJLl29enUWEj8ihgzsHAexHsqB6HWwdoS6Sw4fdGH40ksvKQGJiIYHISzy+uuvC1v5lYKpdYU8bZrACurV5w5Ez69//eu//vWvljJqgBBsRmGbWqjhLsT/kkVIrwacAHMm5+yzz9YcT7gGaqsB7X4V2P7oRz/6wAc+MG7cOKEhqLRr166f+9znyLz66qujghExTyP4l09tPGbOnCnEBLx/5CMfIYb94IMPJgcT0K1bN2B4O+yww+TJk1NpHn30UXB3xL8TzCpLBHznO98hSo3j4x//OI8JoJvUuuBWWUb4UPzHP/4xlNQCNgfR3vWud0kt0hi5FDWAzM0orDQM0coxqc8++yyfzd/3vveRkMtHHnkk0CPiZDnFKLLOAvG/cumpp54CBP3LX/6SU/wUGFEKmTHqQuC/roE8Gqj8dMGBWK8vfOELLOShFmTKlCmA8blE6Pr2228f1mKJmerjgQxpeFMC0l27dq1mLliwAOgdpwStfuhDHyJhaTAQHFxiZYCjjjpKy5Lg4d99991J2LqErIKMv//97zFAGC+xIJxizig1adIkAmSluPzaBmxeYVW0ZqOYd7zjHccccwzAPoziunXrgA8AKyCNb8ZKCosWLQKwhEEhUvjEE0/8+c9/fuCBB2JWWP3pgAMOOProo4H0HHHEEdD74RqolQZ4pK+77joshTKkN5LJKXHrGALceL1kibn0hz/8AQ5A+IXs7rvv/uxnP4uxIJPHlcwePXrgPuDOfP3rX8c6kGNp8Fk4uMRwA/iMsJLfb33rWxMnTpR0VFdIlprGwcdYiDgQEBfLM/j000//7Gc/69mzZ1jENmCzCyvNi2NSse6HHHLI1772tcsvv/y4444jzJ7R4LXXXoszwpIK4Ah4IXzzm98EvMSkCaPHBx54AFcQuDQGhVMShNC2UXRwqFBPd1gNDB48mE7Iqh88aShBZxBSFcJjxnIhIHFZuYuOzfiF9zydlnEQsw/nnHMOUxssHfLFL34RNwdgLrYDPpZG8CYQY3dYMUDrgtVvf/tb3rvk2LqULDXx0EMP0bDZs2f/9Kc/VYKTTz4Z/pg2oMOaqQnbAL1EwjbAClIrYcv1qovFMIQxGM4Jy65gMj784Q+Tg1XG6TjrrLNYkv/4jQfQaQYvtIMZk8985jMYUewlRl28GsacrA0laf91DVTVgHa/ypQXX3yxjmKgfO655xgyg7hlaUJmVaOyEbFcZcVDiEnz/qMjSyYzKTQAp5tRDDO1N9xwA69AXo2WBnqexh133JEHXsrKLz4LywKEOaS1LsnPkpFXL69k3taYM1x4pnKVD5MjjG70VBKpDdi8wiJas1GM2BXckPHjx++6667MEkkOisOgsLLTNddcc8kll7CoJMJzC3Ej63lBp7KZ9FSBNIDJYMqTF9iNN97IE0gP5LMII+tUEXnqcI25BJBfwC940zgOfNd44YUX8K/p2AzDeReyCACDcVgxr2dpsC+4MKxCxEBeK8KQ3XbbbXgNkmPrUsrUBE/Z4YcfjhVjDSSsG547iwzI5yFmaqSIipbagIitbYAVpFbClqtWA4kzJvNStJUJZxabxPJdeOGFZ555Jp/BMBkYFDyrYcOG4XQx58rsEXrHD8QH0ckqCvpkavTq8NMKGtDul0WDR8C6HjxRPGN8UWGMjINMV8SIsFwQ8w4UZCxAx8OyWOIf/OAH2AgeJOiXLVsGMRywPrjbzCx897vfJWfVqlW88GHOZwRZe9nSzJo1i2eGeQoOLBFWiYK45yNGjCAhh61L8qvKyLjs+uuvh5h3M/xpLeMR1ishR0WzDdi8wqpozaLaGVLKqk2a4K6gOFn8WkwDN5IcTDha5rbBiKtKr4myifKUayBbA62L+ObLIIBaWfhDeNMbs2bfiLBgthXrELaC1yQ9GSaayQQt31BxBzTH0uglSWBH6PyhG55aV1UZ4aMt4QmiXiZrlW0F0aL2cJraACtITYSlOkRrNpMq5oMLmhDbIQ1Fv5LgF0WLrkVOpdeEUnrCNVBzDTBbEfHMMh+QMQkq86BhkW233TY8JR2ZGHIsTVREH3vNT61Lr2YlQj48QdFaBBVEswxTG2AFqYmwUnvKPIhtlue4BlwDroFUDSSjmNQLnukacA24BqpqIBnFFH7z9KpacILNpYGqcwSbq2E1rLfAMiKaj2Jq2FWclWugw2nALUiHu+UusGughhooWxDChCX2RrgTncKX2qya+DxGZGrWVc93DbSpBlIh8HTXECbPB0tiwzlCUL+0yha3OVBGDIlssEsKABTmW6kKmwrA16upiRCen7pigOWZ2hJhbonJD6vg1NKk6iqP+EmlGu4CQJCoU4pxoJfKsWHABwBHC7H/ugZarQHtfvk5ZEHgQ5h8FtCeWmxxmyONCRnaJQWIZyWGlaBKItMIvBTOFoBPfgUZI3g+NRIsx6ErBtC2iKdtibQ2qwFRFZZhlq4qiy+VJt9hVLxLL72UuF25QKweqFzSFsUPYJc4OUJ6fvGLXwixpYmQ/gTPEfwLWEDoo4UCJNN/O6YGtPvlFx/vGM8C+hACT2YIk2eGT+OkI862uM2hSMTQLinA67Zfv35Q0tt53QIHswB8qTpLRgvP16bqigGWp22JlrLEtgpLk6qrquKraOVRDNgelhTasGEDjgkxtmztZVH8AGFA1hFvSyAwCyVAaWkipD9xx3zrISYXZNSdd96JvxQuFJB4QX64BlqiAeK+LQQ+gsnDLwtob4vbHIpHDOm3RJqTr0sKgKw99NBDycFlIAYMO2IB+FytcMAwWrhAiXXFAMvTtkRLWWJbhaWhuNVVVfG10nJMKqz3339/QSthNfv37098W4TiJ44YQCTBqQpwhiCiiZD+7KKOybj11lsZvBGfC3aAsP9woQBtiidcAzk1EEHgLUyeJycC9Yeco+JcinIsQ7ukAJ61RmkTIC+IOFhVBuCHzchKhysGCE3I07Yk4hMSR5f0NKSxusojvrIqWxCy8Dt44JlooZWYD+wI4GVMLChGWToIR1G1JiwsDRYdjD9XCXtngophGzBfTgmQhyenQPgYN5LDogzCxH9dAy3SABhx6Blr04VYT2zatGn0TBa44sFg6TzW5unSpQsIfWhYuYOxBsuChPyj4lyKcixDkKXMIDBgB8KL68FrkoTOoTIwl8hxXubAhala+nxYaf40DggOOw+LFIl42paEnCPi8JKmIxowOJGu8oiv3MqjGLKGDBmC+UHdsjtxHhR/VRqAlfBk1MQ8OWjoaKEAbYcnXAM5NWAh8BYmzzBePiwqqF9h8ra4zbEM8aCjJQXwrFmgj3wmBGG+8847Y1DsCgA5hVKyaMUAy9O2REWzxMpWE5bG6iqP+MqwPJMqUyM4Hcz9AhDktAKKXxH9FWjkaw6rLfTq1QswdefOnVlpLlooQCr13w6rgaxZxgoKsRB4JVaYvAXaK0zeFrc5lqFdUgC/A+8G3wewP44PRSwAX/hkyWjh+dBHKwZYnrYlKpoltlVYGqurPOKraM3Q/dgVLByHQmwZ0aSi+KFUIH8WjRJAjCSMFZVtuFBA2Zh5quNpoHUR3xYCL5oLYfKMoCNQv8LkbXGbYxliMgDRhksKQEMmHVuR+Kk3sEUyIkK0YoDlaVuiolniPDlWV1Iq1KetFBpEazYPQhat59BaN4L4kxUTIhQ/OWoOsmiUAGJdc0k4R5Mpkum/roGcGqBrRRB4KRjC5JlH0KkEuaoweVvc5liGdkkBaFIzpWzrfkMRsjjYSlW0rCKV862uhD5sjK1UaMrGonIdftU14BpwDVgNOLrf6sRzXAOugbwacHR/Xk05XVtooEVzBG3RgHbgWWAZEc1HMe3QhbwK10BhNeAWpLC31gVzDbSDBmILwqdcYkb5ciN1k2a/4jZthy8U0KbqdeZtp4FUUHwEpW+72tuUc37RmlmQefPmESRPUBlBwewLQ/QXSD62y615W/nOfO655wpbdvMGZFnzKpyha6BNNUAEPbFkrInBIWFaVAemlmeHTZTatOq2Zt4i0crxIOALwN0CzwVWAFSZ7XzQC+GkNBeOOCPg7gie4ZS1hThlp0sgMFCCtSPcA0o8FxA05BAhQpgZ0ADCUjFDxOTttddeLENAiDHbZbKkAsGpF110EeA9YoH33ntvCcuHM/Ybg0JACtBsmAhDUDbskNq7d28J5glrb2tVOn/XQJYGeAuyPyzbRSsB4eHs0wbGnfg0zWzERItEK/sgQO+xGrJjOJaC3f2IWEd+tskbOXIky41ga1EN0H72PWaVEHBNuDohVB9Khf+zmSjhtxRfsGDB+eefHy0CwAalRMVeccUVmAZdKABu7InHvqRs1osFoS4YRmsFhLU34r3xNhdJA0DUgOfzOhShLJS+cYXNL1rZB2HAIhuLitj4FzzSpEH9g+Un6A33DMMB8gfgDNH77PeJEQmh+oMGDVL4P2BHYL4nnXQSSyQdd9xx0SIA2AjKCiBSFwqYM2cORh16jEu3bt2wX3gfRMJh5jGKJAjdDWtv3NvjLS+ABiwovgBCiQgtEq3sg1Bs3bp1qoU1a9aAheMUU8KAgqh20HEA+zAKu+yyC4sGMfRQqD4rEglUX+H/AvPlczHAXPBODGQYsECzdOnSLB+P2qGhRuoCB8k6VFI7dgTDRBuI3g9r16Z6wjXQ/hoQUDxPAXMf4m63fxvaqMYWiVa2ILgJvPbxMmgWD/P3v//94cOHk2bKY+3atUDjsAJg8wHFsX4BqxZCUAGqj8vAvuSYDBYW4fmPFgEg3h63ghmTUAVsfczeyORTF4hppkvCq5IOa7dXPcc10G4asKD4dqu6rStqmWgh9PjKK68EsMSwhW01p0+fzpddUPysMIQzgifCqgGML1h9pGvXrqz68dWvfjWC6ivkX5C/rEuGqHfddRen2CY477777tgFZqrJ6du3L5uqY7+1FNaB1Zu33357RknUDo1eIi1rBYS1k+lHo2sg7H6NJYsFxVsovUjUcDK2SLQY3c8zjyJCKC1OAQffVhRQy5IfTIvwSIstDKH6jFBCSC6lGH0IWbQIAMqlItkBOCyFY8IqmMpEL2kiql2Y+2+DaqChI76zQPHRvWhEGfOLVp5JVbFD80EmIw4ONQTksL6bEpNQy0Jan3whCEuRllNZKIBf3UA8LCUfjJW/XtJEVLtSesI10M4ayALFt3Mz2qK6/KKV50Haoh3O0zXgGii2BhzdX+z769K5BtpWA8kohk+zbVuJc3cNZGigEecIMkTJzC6wjIjmo5jMG+8XXAOugaoacAtSVUVO4BpwDWRqwC1Ipmr8gmvANVBVA25BqqrICVwDroFMDbgFyVSNX3ANuAaqasAtSFUVOYFrwDWQqQG3IJmq8QuuAddAVQ24BamqIidwDbgGMjXgFiRTNX7BNeAaqKoBtyBVVeQErgHXQKYG3IJkqsYvuAZcA1U14BakqoqcwDXgGsjUgFuQTNX4BdeAa6CqBhzdX1VFTuAacA1kasDR/Zmq8QvtoIECI99VewWW0dH9epc94RpwDbRGAz4P0hqteRnXgGtANNDMgrB4Ovs8sUxzfu2wm8zMmTMr03/5y19mtXehWb9+vabJYWcKFm3PKs42uuySm3XV8zuOBugJ7HYWystuZ2EOnZaNmdloWWhef/11erIeYUHSbBvAVtDsMVCBOA/DiA/cUre8j2ov2qluZsGGkqzJznbZrNV+6qmn5ty8gy1d2IK7MjHLsnM/hIbNd6+66ipJ0wlkF5is4nfffTc7yGRd9fwCaEC7XwVZ2AiVLVbHjRsnNK+++iq7KbPxEBsbXXjhhWQ++uijbKjIXstsG3D77beTwzbP7HPEwSaKPLHs6Kr8IWZDIvZdpO9lEedhaPlgwthfkY3TOHitao15ZFTixkogWknFe/bZZ9lWCgFeeuklFMHLnzR2mseYrSrVBEQ5oQXhDXDHHXcsX75ctIC78ZOf/AQzEVqQSy+99JBDDhECts4dOnQo6aeeemrhwoVSI9vB0CS2znvkkUdgyOZ1QmxpaDA9QHargQYHip30Vq5cKfRRYyTTf+tNA9r9shr28ssvs9P7hAkT1ILwBurXrx/0dACsABsM4cnibpAzadKkE044IWTFlmbscxbmYE3EoJxyyilHHXVUeEmJ8zC0fJhWxIqFDCVdVUZbpFFyEK3ZKEb8K7ZxwYIgAy7ZbrvtNnv2bDbKRjXs+WRz1CXj0h577LFo0aIxY8awLzc3nrcEm2mLE6FkRx999L333rthwwZy2G332GOPXbJkyYknnsj22gceeCAG6LHHHttvv/3Gjh178803r1q1itsMpaXhLQSrGTNmsKsmBGw1znrRs2bNop/deeedUWO0dk80nAbYzvm6665jJ0NtOTsxH3rooZziYrARorz52KXs6aef5n3Ws2dPpSTBDq0TJ04Mc/BcOMihP7NBbHhJiXmVVmWYyifa8j5kXtR0sx2neJ+fddZZPMyMNXj+v/3tb++55574kFiTbt26sXMlJifKwdaIath8uHv37qeffvqAAQN4aXDLe/fujVHHB8HDVPWh9/333//GG2+EDG79+/dnbxu27MWDYH7kgQceOPjgg9ln9/7778cjve+++6QgBBEN+/LSToqQeOONN+bOnYv9Yp9NdurklG37wsawPbI2wBONrgG6im5yxv5kdFokOvnkk+kteCK881RAuhPzdMccc4zmaIJ5EAyTdjDyI+KcDEM+LdryXlvS6IlmFoR94Xr06DFo0CCmNhh6sP/2zjvvjISkd9hhB26PzenUqZOoAEvB3WJcyikbbuODMBokrQRCxi9+Bw88s1CDBw/GfGBHcCZ5n7zwwgviUDB21S4ipSwNbwkxXuyDxwiL2pnBgXiLLbaAZ9QYrdoTBdAAmxbqHCpj1W233RahrrnmGn4ZF9P3nn/+edIc+BT4pPQHOdVfPAVeYLxXpM9IfkSch2HER7a8hxs2i3HWZZddpjUWONFsFMMzifAMWDAZyIwJWLZsGe95rD7zEXglNkdVs+OOO7KTNmNUVH/JJZdgBZjL4CoccGGUjMSQIUNwRNEvpoTT+fPn43cwo8HgReoNiSVdlYadwOFJRUziMCUcNcYy9JzG1QDOJqNdnE36JN9ceMk988wz4omEG7bSDZgXw5UQSaFkLEwa68NM3KhRoxhuqxIi4jwMLZ+WbXmvdTd6gtc7Dx4HHgQmQNLyy11hFoPxCHPX06dPJ9PmMPKU2aPXXnsNQ4ArgRs5bNgw9Mud7tKlC2MZ3hI6ESuccTrgyUCUUwZHjGaZ7sJCnXPOOcqQS5quQCNfc5h/7dWrF8Olzp07r1ixImqMVOq/dagB7X5ZbePtxesB08CAhRcYQ1T8Dt7wvKJwb5mApyAvGHxSxq2MI5g+E1ZMxo0YMULZMjFPV8HuMFnGMws9Bxx4QUITEedhaPnYLe+l9qoyaiMbLoFoCS5G96zjkdYNrtUyMtfNrFKYH+WEpTAxaEF3z+ZmM08REghbbiSH8mREQ8/gBlOWYUhIr+ksGiWAM72NqpVt1BiVyBP1o4FWR3zTtbjX6rTSDXhpMY7QHEwDfUlPEZk+tuWWW6bKbonzMLSseFMSuqJbygtBq2W0/OstB9HieRDbRDUHeinK0ScWgmj+AvNBZkggTLi1HMqQuQwOTuV+h/SazqJRAoqHTiynUWO0Ok8UQAPStVQQugGerJ6SILgpPCWdZT5SifMwjPhzypyLnXaxZEXKKT/GRZLKZXENuAbaRwOO7m8fPXstroFiaiAZxeg8SDFFdKnqWAMFniNQrRdYRkTzUYzeaE+4BlwDLdaAW5AWq8wLuAZcA6qBsgXhSypYOL1AvJ2mW53Ig/1X5i3F8oeLBsCET7l8gVNuJAgS4RtwmNOiNOAawnD5PqelwhYCOATOc9ddd2lCyTzRkTVAPDTflTuOBsoWZPXq1cR0ieREfBBd1jot8Gn93HPPlbLgF8Ha5eQDqBdsZU5iyAhhpi6hX7NmDR/hBw4cqMWJhSWS7fzzz9ecFiWIjCbiqG/fvgB5+vTpAzKY4mELR44cSVwTcXGaaBF/Jy6eBohjJAIT1B+xbd/4xjeKJ2CqRGULknqZZ4blGLiEdoj1JIznySefBE1EEDppKcKb+Z577iFsVF74kF100UXA3tSjwRMhDBkyocc8AZ8lCF1OAfVjZXB59t57b4HAgb6hOMfjjz8OTUQPrpdoZWyTFJdfvA/CAeBJXZLDChHcSPFKIg6s4wC0j1A6KJGC2aCoheRjmwhPom24IYTVghVCOm0hAY6EzxOtS6YkwA2FtQhbtMcqEnCzl6IaeWuhUthK40N6yfHf+tfAggULcOTpMwD2LrjgAgIa67/NNWihhtyCkuY1ztPFwSobBHehDhCxAFhIAHgBR0uYOWu97LXXXgSwg9YlyI8HjEj24cOHY30BVpMDPJeyxx9/PCYAesK6gPPyEPI+hw/0xCYD3meJl8mTJ2M7eM4BBE+ZMgViWayITOKRiY7nNKLncSVymaj5rl27IrwGy9N4QtpZCuArX/kKtQDSw4eaNm0a0coRh8WLF++77744O/DhoaVSfI2whRTnEMy4pDFDSI1l1BZSC7XjfWgCqxrKBSUeEMAt2hA1wNYIngJfBvWiQExtRC9tKOqvdr8CCEiv5t0pgvB20aVtiiRjdJuS17CKxzNDHB5PFwc2QiwImH2BvWAyAAvQ+3lOeG6JSeety0gBRCPmA77kgHHi+cRbgY/UJPTkYI8JQuWNjWvAWIPnjcWHMC4sOMSyIDgg0EOsy53h+FAR3CJ6TjEfEOOn0MLIgnDPMAfUgj0688wzWdYECxJxkIYxx3HaaadNnTrVtlAIQgtCDuaMpQO0hTJ64lcTUS1QgrnAlaCsvYRooU7wvAAlQwk3AGARvbSnqL/a/QogIA8CYBkRhAgJPBFJF0nG6DYhWrOodnwQVkng7UrXB0NNAhwtL/aHNx433XQTbjaPqESgg2FjqtLi/SkVHtBHMHwceF0E4KSTTlq7di3qxg0BGqcFAfJhTfCAmKcM6SssGkBZ4Hl4IixKcuWVV+IBsbIJmRHSH5mjxQSiFtrYZxwrGonFZLJWWxglolq4qmsU2EtRjRD40gSRPhvxNHXZgUYUpEVtbmZBbEkwdSxEyJoLrKcA8g0CnmceJ9wHxnuA6LEgDP94eTLyxwXgdQoegVNsUASfEeaKu8clYWYE3wQvhiUF8CzUgjB3wAIi8KdIRI9PRHXk20UDhP/o0aPHjx/PCkmMrVJrxDHBn/re974H7hsvRmgq/OIUgBjGa2C0xbpHWZRRO2X6I7UB4SUhAHvKwA3rjn2kuohVVo2eX28aAIw+b968s88+m3X2uI+ytk69NbLm7SnPpPI46RNFQpFvLDzJcgnHHXec1M1ohYU8mIYgh1/mAnhp8wzwHYdHl19O+Xix0047sYghRZQnDEkzwYGJ4Sr+Apzx+phPYU0zvowqMbeBmUUmBaCJ6KHEVFEd8wuytIy0Cs4cpDFGTFvIqhCSGXHAfGCDWEgJJ0XLSkJaKGnwUcxH8CGG55kHm5lXUYjUAo0w10RUi+QLqwqXpEZ0iCXFZ2GmlnliSy98/LfONcCLVp4FXreXX365dWbrvP2tbF44SMNd13GOpvnAwTwfbgWXZCKA2QcZ4SsxT7XSk4mV4fGTq5qvCfIpThEhwFjgjETEcqq/IT2ZjJ74DRmGp5pPm6XZXA050H6eWBopV5VeE9BnHUpjExQJa1ECYZV6KaRhaiY8DemzGlOA/LD7FUAcRKBz0rVCWYono0qHaM1GMcyAqh3S9A033PClL31J3sCYVcYvCrRX4mjAwvtZl0hQPpqgFEy0rEy4yGlIowQRPaepiwZoWU1Im4VPWKO2XxwKpddEWHWUVhqbgDKsRQlsA/SSJqDxpQkiVTfoabTsQINKkb/ZZZORVebiiy/WS8wvEIWpp55wDbgGOrgGHN3fwTuAi+8a2CQNJD6Io/s3SYVeeBM0UGDku2qlwDI6ul/vsidcA66B1mig/DW3NaW9jGvANdCxNZBuQRQ479D1jt09XPpmGiDsIELuE09cNacZi8KdpFsQBc47dL1wd9wFaqUGQEuw/xEBylIeZFOE5bc5raypoYo1syARcF4x7EBCGkoob6xroMYaAD8NLozN3pWvxfLbHCUucKJsQYjdJiZ9zpw5WFZizpBZwtLB9YOpL7AKXDTXQFUNsBYEO3WD2VdKYrVZTIhTEFisTQOY2+YocYETZQuCk8YqHvwy9yHBmoKgvfrqq4GxFFgFLpproBUaAKitIcjEZIOTsDmtYNtwRcoWpDJwvuEE8wa7BtpUAxbLb3PatAF1wrxsQcCGPvjggzQrCzhfJy32ZrgG6kEDYPlZUA4QHYtaCJbf5tRDO9u6DWVcDMD52bNnA5xnkR4FziuGva3b4fxdA/WsAT7ZshSm7AfAMJ+Vt8HyM+TneWE1CcHy25x6lqhWbStbEHwwPr4AugdciFIENsqKgTInUqv6nI9roBE1wDuVtbXCljP3sXTpUp4XEvKM2JyQvqjpsgURCSPgfAg/L6oKXC7XQKs1YLH8NqfVzBuiYHkepCGa6410DbgG6koDju6vq9vhjXENNJgGHN3fYDesYM0tMPJd71SBZXR0v95lT7gGXAOt0YDPg7RGa17GNeAaEA1UsSCsHv70009X2GnJ9egaaGsNsLY+O7Hy3TSqiDgutgTQg6s2h0wiEtgjkahzLZ4nB2I2TtSCqZxTG2ZXANB6i5nQpeiJAQG5rOu4k1i9ejVQIjbBZA9aNta2BEpc4ZLSeMI1YDWg3c9ekhw26CLEka1XAaGwz3FIxvagoNo4CKfm4WQzdptDcfYqYZNm9kuT4nlyqIXtotktCJQpGwxxmsrZNoxtEtliedy4cWE7q8oYEjdWGtHK++ay3yXbI7DZp+xiiyRsI8wGTiQwxsTkRQSE5S1cuJCd5SCILjWWFry1m1EDVZ8uYPV4GbSQzdLZoiy1qcSGsjlZeElzMCscXGLzVnY7JZEn5/nnn2fzDfZmDHlKWjnbhoEsI7B7woQJHcqClEcx7AuDjq644gqGLeJusW0fkf9s18bGt0SshgRLlixhlzm2fWPfbGjCS8V01VyqzaQB9hhm61X6JLudsY1haivYOHXixInhJc3Bj+DgEm7ydtttRyJPDnHrbNvMbtEg+rFfqZxtw+wKAGHBwqb1JcAKS0SgRkYXpAwaBzL03HPPWQK2WTvttNOmTp1qL0V8/NQ1kKoB7X7RVfobD/DKlSuBrh1//PHAT3iH8caKyDhlM2MGDsxT6CWbwzQKoaJsZ6s0lXPYXBkfZPLkycceeyxDJGUecU5tGPsrdSgfpDyKybIC5A8aNAhlhQQMXlg05LDDDmNRIrYaDi/pTfKEa6CqBrIsyKWXXsqCYAwKmPUUJsxE8DBbhoxNzjvvvDA/ymG4webHvAuVpmoOG8jT4YUe86SNjDgLQdSwjmZByqMYNsRmH1m2a1V3i9kNJpYZwrBzPdihkGD+/PnMMDE1xS7c0SUt7gnXQKs1wFrfLBrIIIIpCfmMoruC4hEwiBbOuCq33XabbLSemsP83SGHHDJq1KgxY8YIQZ6c7t270/kxXi+88AKTgHxJoGxUF9vRRw0T/h3uV+0rBrVv374oi7kiMa4zZszgtrFIardu3RiIhgR8mmFlN6av8EHkC05UVjj4r2ugsgbC7pdKybuKGQceaWYZbr75ZmhAkPNhRXa3PuOMM0aMGBEWjHJmzZrFIw0Hjk6dOvGOzJNDEAP+NZ9aGMKz6rjwjzjbhhH0wGiLRwaQLi9d3Ue9qoxh+xsrjWgJLkb3rKP1aEE3zUb1fPHGBqv5Dwmw0OiIe0kmH3HCSx3ODLvArdVAnohvJkFxHJgH1YUm6HhsAk+dWAT6nuan5rS2aSUqxRbgegsHW5dtWGpdeWRMLVj/mYjWDN3PnQjNBwJsvfFQSUKCrTYeXJL7F15Sek+4BjZdA0zw4/CGfMR8kKOPt161OXqppQldZ0sKWs62YS2togD05XmQAgjjIrgGXAPtrAFH97ezwr0610ChNODo/kLdzoYTpsBzBHovCiwjovkoRm+0J1wDroEWa8AtSItV5gVcA64B1UAzC8KnXFAAfMHVy0QWT5s2TfIVRs1HLCWonGAxaxAKlWk2/Sphb8TIwofVtGfOnLnpDJ1DvWngxRdf5NtqaqvspTw5EQY/wumnYvmpPSplVwkgSgVEO2iP1KYWM1PDXQi543vVrrvuSvTHqaeeSnwHB2HFwJzBxRDSwyc09i4nQUSgXE39xb7oKgGgFQlR08DkVPqcmSHbqAg4KNnrF/AVgKjoqp/Wswa0+2U1knCkAw44gMBFgrvYhjUks5fy5MAhwuDbBQQslj+1VLRuAJara9euLERAIDx7xWpTq8qolA2XQLQyLoatg4nbQwb22SaSnbc6lhg8koL9gerikoRCovrhw4eHOaQjpD+3/5ZbblEaAoF54PFNsPpkvvLKKzSCqgmQ55KQsZYMeN/ly5drKRIR23BtAejZNwwatyChxhoiXfXpYuP3fv36IQudhPBFUBcql72UJ8di8C1OX6tQLL8tZVcJmDJlyujRoym7ePFiFtZRJlVlVMqGSyBas1GMeFkElWFBEAYjggXBoFrvC5jjkUceyeohRxxxBFpmty45Ro4cGSH9iXx//PHHhQPe3W677QbGCewjphq3Aj6YGDBURNDDCjJocHkWLVoEkIE4Yq06ZButLbBq1SpWf1BKTxRJAw899NChhx6KRKwkRFwZdkSls5fy5FgMPi/OrAUEdJUAW8quEkDXhYzmARZjbRGGPNrUAieaxaTiBZx11llgqPfZZx/8RmAInTt3tsIDhZwzZw7rD+GAMPABfYQ2hYxTnn+gBNdcc43kwAFDJWlKsXUgPiTmCawN4BpMFUaKGgkZJkG08rXXXstA6fTTTx8wYICs17JhwwYCXjE6IduDDjqI2RlK4ZuA8RP+/ls8DXCXWZ1M5CLGXMBscmov5clJVRHYPNbWYqaPN5wS0LWYWeM1qTk2wTKIwP8oy6XBgwfTY9evXy8r7OSfLrRsGyinmQUhSrdHjx5g+ZlN4KEVIIAVhnUPWZ0MNwFADfMmuBgMTIRMLEhYBNgC2H/JWbduHUMh0jAHsMcNA+zEGwA7QiZR8gxtGExy2xjxkoNfQy0MZ6BnYClM+MUkgbPmpYTxEs9FL3miYBpgWRCdQ2W4Gkaa20t5clL1Iy88XlF0OdDAQoMDwkof4DpSi5DJAJ/3HEsB8BRwypuMcT3ja5qB38QbMatgkfKbjWJ4krG4jC94YhGSSVAeUStt//79GeAcfvjhQ4cOHTJkCHhE3DY9MCKYHl0lAKuBjRAmABaXLVvGVd4VzFzg5ljmLOVAvQxouamXXHKJorxDttHaApaJ5xRGA7i0TIrxjYMOw8QcbyBF99tLeXKsZlJx+hGW35bCrkXrBtBI3ouAelnWD8siD5EtWLQcnebhzc+jG87lYAWwKYzuJJN5ZtaMCgkYdPAwhzmSDpH+GOO5c+dKPi4oH02YZGISe/r06WQy94nBkqvMk0GAw4Itx7/Anxw2bJhckl9lG60toEw0EZbydD1rQLtfViPxO5hJZW0h3FU8X8gU3W8v5cnh7RVh8C1On1oiLL8tZVcJYABOv8WI9OnTR78/wKqqjFmy138+opW/xdBcLELUaAwq7oBk2qsRsZ5ijBmhcIr1YRArab3KbQ5ZaVoTUGK8INMiklC2nDLewdyQg0fDqZbVRFTWT+tTAzmfLr7Zca9VhDA+ILoETZ4cZSUJug3zF2EVzGKEpxF91ilV0y2jqzlljEo1xCmixfMgkYuFJWY+VTKZJYmuZp3iv8kqAcyNM5KMVgxgPiwsqGw1wVWdPAsplS2Z0doCWlYTYUFPN7oGojkFRfcjV3QpZ06kELpNtIAAo+aIJs+pbUyeUg1NU8Uo8KmVo9USMoThaHVxL+gacA3UuQYc3V/nN8ib5xqoaw0kPoiucljXLfXGFVEDBUa+6+0qsIyO7te77AnXgGugNRpoFg/SGgZexjXgGujAGqhuQfimRXQN36giLSmmPsxPzQwJJN0+MHxtTPtUZ8X0nFppgFupkakRT/C4hJaH/dPmRHh/i8qP0P1SBd9TQZlqcLqlsXwoaGuPGly0U/1YjaYUla/foq+//nq+cjFRwlr74a5fECimPiyomcohNVFDEG1Ye1SXNqaG1UVV+OkmakC7XwU+ERg/pGTpCTBZhCkShSj5UY7F+xN4HqHyyWFrGCIbiSEAI678wfjztMv2SZbG8qFgVLuwyiOjVtpYCUQrR5SBIwLDAkZIw+kIad9mm22IQ0cq3gBsGkrADGUefPBB4gKJ+BJMfVhQMylCGB/7iWkYa4jHt4807xAeeEf9N1YH2vTWVn26LKxeKwXAwlo2oGAr5Fi8v0Xlp6L7ySQQFoipWBBLY/nY9kjDqsqo7W+4BKKVRzEhfF4cLexxr169evfuzSlgIeB2gPHBv4wdO5YwM8XUhwU1EzOE50LkLxFld955Z4THjxw5Qlcd9R/pxE9FAxZWr5rhlUOfZM0a0LHEPZNvcyze36LyU9H97AY9adIkQevD2dJYPrZ2bWqBE+WIsgg+j8xYdzAskfB4JTgj+HuCaOZqWFAzwcIAc7r11luZRiFkGIBjBTy+o/4jJftpHg3gF+D/AtditoIBOLMhNgdHWOObw8UBQlQ+dUXofuwOXjbDdhBY2pKIRvJDPrb2CrheZdvoibIFsZJgZRmwRPm4dnpLokvhKXNXAnlmZIQe8XYq4PEd9R+qztM5NUC/GjhwIOB66PERWHzI5li8P8QRKp+cCN3P2sD0c1a9wkAA5+vZsyfre0Y0lo+tvSNEWpVHMSF8Hu1wAF7G3WAMQprh6F133bUxO/6xBaEA/oghZ1zH+4FPOZXx+I76j3Xq59kaUHQ/K1Hhg/BBhAk7ZkxBltsci/e3qHyL7h8/fjyLV7A6H/ArPBdgOJbG8rG1ZwtRoCvhNI/C53VGZ968eQwFUSW/pEP4fJjWgprJnCtzKExxs0bZihUrsvD4UhHTqI76V513qETY/VIFt7B6RfczOgY7Th/DWWZxIIrbHKb2o8UBLCo/Fd0vjWHZMT5HkrY0lo+tXZhUlVHIGvEX0RJcjPpayMANi6C0WEtuA5ZYVkzh66niXzUdFtRMCsKNgkLPuwIVswgIxAxtQjIxyCD6Wa7SMg8psTUUh2dow8Pas2oJmYRlPb15NdC6iG86ksJz8QXoDyGU1uaEHThVXroHpQhZiJYFYu0I5ZxFEzG0tbdOxohtfZ4iWrN5kBA+H7Y4xCzrEw6BpsOCmgkBH9uUTxYeXwkiu6B8NAFl6hRMWHtWLSETrdETDaoBNR+0P1z3UMSxOWEHThWZ7hGh+4VMzQenWTQRQ1t7RFCw0/I8SMEEc3FcA66BdtCA+CDJqqh+uAbaXwOf/nT719neNSLjE080bVfQ3nW3fX3NRjFtX53X4BroiBrQqcaCCe/o/oLdUBfHNdDeGvB5kPbWuNfnGiiSBppZkD//uQS84J//LAv48MOladP4KJvk69+//10mqJxaurT0rW9VJqnNVTYY/OUvE1a//W1p5sza8HQu9aOBF18s/eUv6c2xl6rm/Otfpd/8pqTrVbz+erlvb4TXNFX0v/+VXnqppL09KgXRn/7UVPDNLdVK//lPafXqpFQHOjaGu5RQ1nPPlViems23+AJ76qlJDn9f+ELpsstKe+xR6t69tOWWpS5dksSSJU1XhSb6RePnnNNE8PLLbFtVQvVCE16KSuU5rVCcPfM+//mklp/9rPTZz1ZqXp6KnKZ+NPDqqyWW+mZvMjZWZSPDsGH2Up6cRx8tffSjpV12Kb3znaXbb08YAuL/5CeTv49/PHnwf/e7plo2gvtB9yenttSvf11iq8VPfSr546UFDdanW7fSPvuUdtihNHlyE5M3G0zQUgEPrIeg+xNp2dKYveVIYEFRDa90bDMb9/3hD026YL9KXJI3NZIkUOvw4c1yyHzggdIWW5TYSFQKcvtvuaWJJrz0yCOJawP900+XeGmQ+P3vS089lSR4OWAR8F/whjjVv7A4mRAvXJi0k/Rf/1r6xS+ShFsQVVcxElddVerXL7mz9E+e+b/9rdwf7KU8ORgIsRFs1n7UUWVuVIGx2H33phx6IwYFcyAWxJZ64onS5z7XrPiCBaV9901yeEzYgbu5/gtoPhAJC9JsFCOu1/vel1gQ5OfhxIJ84AMpHtljj5WOPLLEnsRHHJGo+ItfbPobObJ0ww1J2SuuSEwDB7fk8cebOISXwENdeWWSP2ZMMlDiIOfaaxPPkM2PZ88G8pvcIfUhIQiL4wedeGLp5z8vHXhg6Y47SqtWlegQfhRPAw89VJL9QvAR3v/+xI7oYS/lycGXkX3i6VrbbafMkgQj7okTm3LOPrs0aVJiCORILcU78rrrSitWNNH06FHCMWF/Z7outqmDHM2+5vLyP+us5LHE9OI3stVU584pejjvvNKcOaWLLkocEAY+bK0rtwRSThnyfPe7gB2bCsIBT0cONKuXKIWZGDcusS/SLXAp0T6c99yz9KMfJWYInxB09Y47ljZsYLPu5MZocRgedFDixTDyxDc5+OCmKvxfwTTALX7Xu5pkAsygkxdk2Ut5coQX8yA8/HjKetCLmETjpciBJcJHpn8G4P4kPyyFcRk4MCGbOhUMajLY32mn5D06YULSV9/cij4pVeyjmQVhUzrs6KBByVQCWuDhZDxiD1w1hg+LFrFNRDJvgglQfYkFCYvAQeeZwvzDDiuNHl269dbEi8GDYKTD7e/Zs4QryHCJgwYwnmRsibu4fHlyin3RA6uEmee9hCWCgx9F1cB73lOeQ2Wsuu22ZUHtpTw5lMd3GDAg8XnpvXrggPA+23rrJAOnmCHMjBmJyaCr0y2ZAYxK4b9sXFcgMTqMs7Ag+N0YFMY7PA7YlDVrmrVWKypYopmFYPCCOhg78LhyMAnK82mP/v2TAc7hh5eGDi0NGQKQv7TffuU/jAimh/GqHOvWJdMrcoSXuNlYInxFXAkY4j1i0amXeallyxIOGBSmNnCFvvzlxKzwxgiLz5+f+B24LVQtrW2qw/8VSwO4tIxS//vfpDMwMcfbhV/GsBz2Up4cvunweI8alQyf9eAzwm23sc5QU8b48Un3Zvy+1VYlHB++IdhSTJTQSzmefLLUqVOSYGhPd6VjM/dHI195Jcks/qHfYnDhMBnh9A9WAJvCxIRkdu1aWrmyGcEbb5R4ksMiku7bN2ElU1AMYufOLdOEl2bNSh5+bLY4kyw/QnHcVL6qsDQaE+bTp5cLRpxxLxkVM8nCPePTDxOoMq2lCdsqz2lEDeB38IbHI+ApxR1ABN7zTKliU+ylPDn0Og7eavzBEysAzzPOKI0YEXc28gcPLl1/fZJvS/3gB0kn59MknjLvPGhwpWknr0BmEhnLkBP8FXYmVdD9nxFLydxStLs23sGwYaUTTkiu26tSyv6iODwI9MgvtgB3jrQceklOsUEYeA6++GLv9cB4veMdcWO4GhanCMXpTGQyVtLmaUK5eaLRNYBpwBdQZ1O7DXJFl3LmRArBjtCFlL9eJR/PN+vgWyGBSNq3hYw3LhM3YWfemP+/LCYNnR+j+yPzgWzYZuZT5bBXs4TnTohamZFibBmqWC9JWTEfpCONN18ApFxPWJwiUkpuvDZPE+VinmpwDfBNMDy025AZXcqZE3IjnWUmsvKlOJMmMm8Scgt7e5hf1HQzH6SoQrpcroHNrYGO4YNsbi17/a6BYmoAb7+YgrHwUlEFc7lcA/WjAUf318+98Ja4BlwDdaSBZvEgddQub4prwDXQCBqobkH48E68TRhNLHIpoD4UMzUzJJB0u2HwtT3tVqMV1nM2XQPcx1R0P50TND0fUPXg+2uEr+ebK3AVPvrqEZUi+ktXrgjR/VGl1CJkYYx1RBNx1hqLnNCIMsIoFJVPhIX8EU5D4BbR68TwAhPQfBKE7gqgPiyomSGlTUcI2pCDJa6aU6G4tieqsSpPJ6gfDQCSIjyUsICoSUC6iXIkkpCrIB64yhMe4euBj3/sYwkNMRqC5belUtH9UaUWy091EY3lHDS4sBFlZXR/hJ1HeELat9mmKd6ON8D99yeBugBS2AmTuECMugDqw4KaSXHCyYgU1jDWEIwfPc8hBzhTkOKO+g/6X/zwdJxLLDHDIjWEeFoLMmVKAq1CFYsXJ4GLJCy+nthzzAqXANoSGEnCliJT/hTdbyu1WH5LU4FzMe1HhO4PsfPidGGze/Uq9e6dnBHtD9yOyH9wKGPHJmFmCqgPC2omMCQ8F2KBufFsmxmB8SOnLuTgqP9IOR38FAgskCizAXyiFYYVgr6nT65dm4SHWnw9oesEN/M24qUFQC61VJK78VB0f2qlEZbf0tj2vMm4yP/LX3Mj7DxCc1fsncMrwRnBJ1RkdFhQM8HCAHMCesvIkBhkQvcqgPFDDo76L3J3q6lsgFZwT9avb1qJhsFsKr4evBzdEk+EdWc4bClpVIjut83EXkRYfkuTxdlSFimnbEGsVKz6wYAlOsAO6XoN0aXwlDGhQKeBG2A+8oPxHfUfqtHTFTQAOJtpDkbHOMgAOAlvT8XXy1I1rCzD4h3PP59AuqNSUkWI7reVWiy/pcnibCmLlFP+FgMEgHlsReUjJCBo3A3GIByM+sDOph62IGRA/gHFMLxkzUQ+5VQG44ccHPWfqmTPVA0ouh/3Flwsr5wbb0zW+wAeZfH1zzzT9BlR91+1peAcofu1Lk1YLL9e0kQqZ71a2IR+i+FpD6H3Mrc0b14y1GSum1/SDCYFRM/VMK0FNZM5V+ZQmAZnjTKWgcsC40stUdWO+le1eIJpdd5GPP+ALQHOMyJWdD9rYrLEFEakT5+mRXktvp5XF1MhYPDpwEzeoU9biswI3W8rtVh+S5PK+c07WMy5VKxHM2Qd0qIXCy4MAdSMNhX8qumwoGZidOHGjRf6LDC+2OaQAzkK33bUf2HfXZsgmHYPeiYOLHNz4cGMZoivp0PyJZFhiGC4obSlstD9IdtULH9IkMr5TYLCIuuaWZA3pfX/rgHXQG01UFgLUp4Hqa3CnJtrwDXgGnANuAZcA64B14BrwDXgGmgbDfw/kktxuKQ9ZOMAAAAASUVORK5CYII=)\n",
    "\n",
    "\n",
    "Ho = There is no difference between the cases before and after COVID-19\n",
    "\n",
    "H1 = There is a difference between the cases before and after COVID-19\n",
    "\n",
    "A two-sample independant t-test have been performed on the dataset of Chikungunya from 2019 and 2020. The results for the p-value is 0.000274 and the criticl value is 1.984. The p-value is below the critical value therefore there is no significant difference. Thus the null hypothesis is valid for the cases from 2019 and 2020. There is no difference between the cases before and after COVID-19. "
   ]
  },
  {
   "cell_type": "markdown",
   "metadata": {
    "id": "dtAvsB4c3G-8"
   },
   "source": [
    "# Chapter 3 - Modeling and Comparitive Analysis Between Models\n",
    "## Section A - Mosquitoes Density Based on Weather Attributes - Regression\n"
   ]
  },
  {
   "cell_type": "code",
   "execution_count": 37,
   "metadata": {
    "colab": {
     "background_save": true
    },
    "id": "ZjFSkGiDBUng"
   },
   "outputs": [],
   "source": [
    "mosquitoes = 'mosquito_Indicator.csv'\n",
    "mosquito_data = pd.read_csv(mosquitoes)"
   ]
  },
  {
   "cell_type": "markdown",
   "metadata": {
    "id": "nU7RkBdzB7_F"
   },
   "source": [
    "The data set provides six features about misquitoes and wheather. Data were measured for Specific area in Seoul.\n",
    "Attributes of the data set are as follows,\n",
    "\n",
    "1- date: ata were measured every day between 2016-05 and 2019-12 (yy-mm-dd).\n",
    "\n",
    "2- mosquito_indicator: number of mosquitoes in per specific area.\n",
    "\n",
    "3- rain(mm): daily percipitation.\n",
    "\n",
    "4- mean_T(°C): mean temperature of day.\n",
    "\n",
    "5- min_T(°C): min temperature of day.\n",
    "\n",
    "6- max_T(°C): max temperature of day."
   ]
  },
  {
   "cell_type": "code",
   "execution_count": 38,
   "metadata": {
    "colab": {
     "background_save": true
    },
    "id": "SxrSzEBcByKQ"
   },
   "outputs": [
    {
     "name": "stdout",
     "output_type": "stream",
     "text": [
      "Data frame first three rows\n"
     ]
    },
    {
     "data": {
      "text/html": [
       "<div>\n",
       "<style scoped>\n",
       "    .dataframe tbody tr th:only-of-type {\n",
       "        vertical-align: middle;\n",
       "    }\n",
       "\n",
       "    .dataframe tbody tr th {\n",
       "        vertical-align: top;\n",
       "    }\n",
       "\n",
       "    .dataframe thead th {\n",
       "        text-align: right;\n",
       "    }\n",
       "</style>\n",
       "<table border=\"1\" class=\"dataframe\">\n",
       "  <thead>\n",
       "    <tr style=\"text-align: right;\">\n",
       "      <th></th>\n",
       "      <th>date</th>\n",
       "      <th>mosquito_Indicator</th>\n",
       "      <th>rain(mm)</th>\n",
       "      <th>mean_T(℃)</th>\n",
       "      <th>min_T(℃)</th>\n",
       "      <th>max_T(℃)</th>\n",
       "    </tr>\n",
       "  </thead>\n",
       "  <tbody>\n",
       "    <tr>\n",
       "      <th>0</th>\n",
       "      <td>01/05/2016</td>\n",
       "      <td>254.4</td>\n",
       "      <td>0.0</td>\n",
       "      <td>18.8</td>\n",
       "      <td>12.2</td>\n",
       "      <td>26.0</td>\n",
       "    </tr>\n",
       "    <tr>\n",
       "      <th>1</th>\n",
       "      <td>02/05/2016</td>\n",
       "      <td>273.5</td>\n",
       "      <td>16.5</td>\n",
       "      <td>21.1</td>\n",
       "      <td>16.5</td>\n",
       "      <td>28.4</td>\n",
       "    </tr>\n",
       "    <tr>\n",
       "      <th>2</th>\n",
       "      <td>03/05/2016</td>\n",
       "      <td>304.0</td>\n",
       "      <td>27.0</td>\n",
       "      <td>12.9</td>\n",
       "      <td>8.9</td>\n",
       "      <td>17.6</td>\n",
       "    </tr>\n",
       "  </tbody>\n",
       "</table>\n",
       "</div>"
      ],
      "text/plain": [
       "         date  mosquito_Indicator  rain(mm)  mean_T(℃)  min_T(℃)  max_T(℃)\n",
       "0  01/05/2016               254.4       0.0       18.8      12.2      26.0\n",
       "1  02/05/2016               273.5      16.5       21.1      16.5      28.4\n",
       "2  03/05/2016               304.0      27.0       12.9       8.9      17.6"
      ]
     },
     "metadata": {},
     "output_type": "display_data"
    },
    {
     "name": "stdout",
     "output_type": "stream",
     "text": [
      "\n",
      "----------------------------------------\n",
      "Data frame last thee rows\n"
     ]
    },
    {
     "data": {
      "text/html": [
       "<div>\n",
       "<style scoped>\n",
       "    .dataframe tbody tr th:only-of-type {\n",
       "        vertical-align: middle;\n",
       "    }\n",
       "\n",
       "    .dataframe tbody tr th {\n",
       "        vertical-align: top;\n",
       "    }\n",
       "\n",
       "    .dataframe thead th {\n",
       "        text-align: right;\n",
       "    }\n",
       "</style>\n",
       "<table border=\"1\" class=\"dataframe\">\n",
       "  <thead>\n",
       "    <tr style=\"text-align: right;\">\n",
       "      <th></th>\n",
       "      <th>date</th>\n",
       "      <th>mosquito_Indicator</th>\n",
       "      <th>rain(mm)</th>\n",
       "      <th>mean_T(℃)</th>\n",
       "      <th>min_T(℃)</th>\n",
       "      <th>max_T(℃)</th>\n",
       "    </tr>\n",
       "  </thead>\n",
       "  <tbody>\n",
       "    <tr>\n",
       "      <th>1339</th>\n",
       "      <td>29/12/2019</td>\n",
       "      <td>5.5</td>\n",
       "      <td>1.4</td>\n",
       "      <td>3.8</td>\n",
       "      <td>1.1</td>\n",
       "      <td>6.2</td>\n",
       "    </tr>\n",
       "    <tr>\n",
       "      <th>1340</th>\n",
       "      <td>30/12/2019</td>\n",
       "      <td>5.5</td>\n",
       "      <td>0.4</td>\n",
       "      <td>2.7</td>\n",
       "      <td>-5.7</td>\n",
       "      <td>6.8</td>\n",
       "    </tr>\n",
       "    <tr>\n",
       "      <th>1341</th>\n",
       "      <td>31/12/2019</td>\n",
       "      <td>5.5</td>\n",
       "      <td>0.0</td>\n",
       "      <td>-7.9</td>\n",
       "      <td>-10.9</td>\n",
       "      <td>-4.5</td>\n",
       "    </tr>\n",
       "  </tbody>\n",
       "</table>\n",
       "</div>"
      ],
      "text/plain": [
       "            date  mosquito_Indicator  rain(mm)  mean_T(℃)  min_T(℃)  max_T(℃)\n",
       "1339  29/12/2019                 5.5       1.4        3.8       1.1       6.2\n",
       "1340  30/12/2019                 5.5       0.4        2.7      -5.7       6.8\n",
       "1341  31/12/2019                 5.5       0.0       -7.9     -10.9      -4.5"
      ]
     },
     "metadata": {},
     "output_type": "display_data"
    }
   ],
   "source": [
    "print(\"Data frame first three rows\")\n",
    "display(mosquito_data.head(3))\n",
    "print(\"\")\n",
    "print(\"----------------------------------------\")\n",
    "print(\"Data frame last thee rows\")\n",
    "display(mosquito_data.tail(3))"
   ]
  },
  {
   "cell_type": "code",
   "execution_count": 39,
   "metadata": {
    "colab": {
     "background_save": true
    },
    "id": "WnUYxdT9CHrc"
   },
   "outputs": [
    {
     "data": {
      "text/plain": [
       "date                  0\n",
       "mosquito_Indicator    0\n",
       "rain(mm)              4\n",
       "mean_T(℃)             9\n",
       "min_T(℃)              6\n",
       "max_T(℃)              1\n",
       "dtype: int64"
      ]
     },
     "execution_count": 39,
     "metadata": {},
     "output_type": "execute_result"
    }
   ],
   "source": [
    "mosquito_data.isnull().sum() #Checking for missing values\n"
   ]
  },
  {
   "cell_type": "markdown",
   "metadata": {
    "id": "4G3vGeLeCMnN"
   },
   "source": [
    "Since the total missing values is less than 10%, we decided to remove the instances with missing values.\n",
    "\n"
   ]
  },
  {
   "cell_type": "code",
   "execution_count": 40,
   "metadata": {
    "colab": {
     "background_save": true
    },
    "id": "VokpDpPqCKc3"
   },
   "outputs": [
    {
     "data": {
      "text/plain": [
       "date                  0\n",
       "mosquito_Indicator    0\n",
       "rain(mm)              0\n",
       "mean_T(℃)             0\n",
       "min_T(℃)              0\n",
       "max_T(℃)              0\n",
       "dtype: int64"
      ]
     },
     "execution_count": 40,
     "metadata": {},
     "output_type": "execute_result"
    }
   ],
   "source": [
    "mosquito_data.dropna(axis = 0, inplace= True) # '0' Removes the rows,\n",
    "#'inplace' donates that missing values should be removed from the same df.\n",
    "mosquito_data.isnull().sum()"
   ]
  },
  {
   "cell_type": "code",
   "execution_count": 41,
   "metadata": {
    "colab": {
     "background_save": true
    },
    "id": "NisI2kPdCR7V"
   },
   "outputs": [],
   "source": [
    "# Removing date as it would not help in the prediction process.\n",
    "mosquito_data.drop('date', axis = 1, inplace = True) "
   ]
  },
  {
   "cell_type": "code",
   "execution_count": 42,
   "metadata": {
    "colab": {
     "background_save": true
    },
    "id": "p6rdN3jqCTLt"
   },
   "outputs": [
    {
     "name": "stdout",
     "output_type": "stream",
     "text": [
      "Data Set dimensions (1322, 5)\n",
      "\n",
      "<class 'pandas.core.frame.DataFrame'>\n",
      "Int64Index: 1322 entries, 0 to 1341\n",
      "Data columns (total 5 columns):\n",
      " #   Column              Non-Null Count  Dtype  \n",
      "---  ------              --------------  -----  \n",
      " 0   mosquito_Indicator  1322 non-null   float64\n",
      " 1   rain(mm)            1322 non-null   float64\n",
      " 2   mean_T(℃)           1322 non-null   float64\n",
      " 3   min_T(℃)            1322 non-null   float64\n",
      " 4   max_T(℃)            1322 non-null   float64\n",
      "dtypes: float64(5)\n",
      "memory usage: 62.0 KB\n"
     ]
    }
   ],
   "source": [
    "print('Data Set dimensions', mosquito_data.shape) # Number of rows and columns\n",
    "print('')\n",
    "mosquito_data.info() #General summary about the column"
   ]
  },
  {
   "cell_type": "code",
   "execution_count": 43,
   "metadata": {
    "colab": {
     "background_save": true
    },
    "id": "N9DETcmTCWB-"
   },
   "outputs": [
    {
     "data": {
      "text/html": [
       "<div>\n",
       "<style scoped>\n",
       "    .dataframe tbody tr th:only-of-type {\n",
       "        vertical-align: middle;\n",
       "    }\n",
       "\n",
       "    .dataframe tbody tr th {\n",
       "        vertical-align: top;\n",
       "    }\n",
       "\n",
       "    .dataframe thead th {\n",
       "        text-align: right;\n",
       "    }\n",
       "</style>\n",
       "<table border=\"1\" class=\"dataframe\">\n",
       "  <thead>\n",
       "    <tr style=\"text-align: right;\">\n",
       "      <th></th>\n",
       "      <th>count</th>\n",
       "      <th>mean</th>\n",
       "      <th>std</th>\n",
       "      <th>min</th>\n",
       "      <th>25%</th>\n",
       "      <th>50%</th>\n",
       "      <th>75%</th>\n",
       "      <th>max</th>\n",
       "    </tr>\n",
       "  </thead>\n",
       "  <tbody>\n",
       "    <tr>\n",
       "      <th>mosquito_Indicator</th>\n",
       "      <td>1322.0</td>\n",
       "      <td>251.032224</td>\n",
       "      <td>295.898803</td>\n",
       "      <td>0.0</td>\n",
       "      <td>5.500</td>\n",
       "      <td>90.5</td>\n",
       "      <td>478.825</td>\n",
       "      <td>1000.0</td>\n",
       "    </tr>\n",
       "    <tr>\n",
       "      <th>rain(mm)</th>\n",
       "      <td>1322.0</td>\n",
       "      <td>3.563691</td>\n",
       "      <td>13.947215</td>\n",
       "      <td>0.0</td>\n",
       "      <td>0.000</td>\n",
       "      <td>0.0</td>\n",
       "      <td>0.400</td>\n",
       "      <td>144.5</td>\n",
       "    </tr>\n",
       "    <tr>\n",
       "      <th>mean_T(℃)</th>\n",
       "      <td>1322.0</td>\n",
       "      <td>14.138805</td>\n",
       "      <td>10.959202</td>\n",
       "      <td>-14.8</td>\n",
       "      <td>4.500</td>\n",
       "      <td>16.5</td>\n",
       "      <td>23.300</td>\n",
       "      <td>33.7</td>\n",
       "    </tr>\n",
       "    <tr>\n",
       "      <th>min_T(℃)</th>\n",
       "      <td>1322.0</td>\n",
       "      <td>9.988275</td>\n",
       "      <td>11.139700</td>\n",
       "      <td>-17.8</td>\n",
       "      <td>0.300</td>\n",
       "      <td>11.4</td>\n",
       "      <td>19.500</td>\n",
       "      <td>30.3</td>\n",
       "    </tr>\n",
       "    <tr>\n",
       "      <th>max_T(℃)</th>\n",
       "      <td>1322.0</td>\n",
       "      <td>19.060514</td>\n",
       "      <td>11.061162</td>\n",
       "      <td>-10.7</td>\n",
       "      <td>9.225</td>\n",
       "      <td>21.9</td>\n",
       "      <td>28.075</td>\n",
       "      <td>39.6</td>\n",
       "    </tr>\n",
       "  </tbody>\n",
       "</table>\n",
       "</div>"
      ],
      "text/plain": [
       "                     count        mean         std   min    25%   50%  \\\n",
       "mosquito_Indicator  1322.0  251.032224  295.898803   0.0  5.500  90.5   \n",
       "rain(mm)            1322.0    3.563691   13.947215   0.0  0.000   0.0   \n",
       "mean_T(℃)           1322.0   14.138805   10.959202 -14.8  4.500  16.5   \n",
       "min_T(℃)            1322.0    9.988275   11.139700 -17.8  0.300  11.4   \n",
       "max_T(℃)            1322.0   19.060514   11.061162 -10.7  9.225  21.9   \n",
       "\n",
       "                        75%     max  \n",
       "mosquito_Indicator  478.825  1000.0  \n",
       "rain(mm)              0.400   144.5  \n",
       "mean_T(℃)            23.300    33.7  \n",
       "min_T(℃)             19.500    30.3  \n",
       "max_T(℃)             28.075    39.6  "
      ]
     },
     "execution_count": 43,
     "metadata": {},
     "output_type": "execute_result"
    }
   ],
   "source": [
    "mosquito_data.describe().T #General statistics about the data set\n"
   ]
  },
  {
   "cell_type": "code",
   "execution_count": 44,
   "metadata": {
    "colab": {
     "background_save": true
    },
    "id": "QyJNJqmmCYfV"
   },
   "outputs": [
    {
     "data": {
      "text/plain": [
       "<AxesSubplot:>"
      ]
     },
     "execution_count": 44,
     "metadata": {},
     "output_type": "execute_result"
    },
    {
     "data": {
      "image/png": "[encoded data removed]",
      "text/plain": [
       "<Figure size 576x432 with 2 Axes>"
      ]
     },
     "metadata": {
      "needs_background": "light"
     },
     "output_type": "display_data"
    }
   ],
   "source": [
    "#Plotting Correlation map to identify attributes' relationships\n",
    "corr=mosquito_data.corr()\n",
    "\n",
    "plt.figure(figsize=(8,6))\n",
    "sns.heatmap(corr,annot=True,cmap=\"GnBu\")"
   ]
  },
  {
   "cell_type": "markdown",
   "metadata": {
    "id": "y9jwv2fcCd3w"
   },
   "source": [
    "As expected. There is high multicollinearity between mean_T(℃) and [max_T(℃),min_T(℃)]\n",
    "\n"
   ]
  },
  {
   "cell_type": "code",
   "execution_count": 45,
   "metadata": {
    "colab": {
     "background_save": true
    },
    "id": "l9SAYVNgCbaU"
   },
   "outputs": [],
   "source": [
    "mosquito_data.drop('mean_T(℃)', axis = 1, inplace = True) # removing it to avoid multicollinearity\n"
   ]
  },
  {
   "cell_type": "code",
   "execution_count": 46,
   "metadata": {
    "colab": {
     "background_save": true
    },
    "id": "K2Oka2XMCgm7"
   },
   "outputs": [
    {
     "data": {
      "text/plain": [
       "<seaborn.axisgrid.PairGrid at 0x7fa6c6b21e50>"
      ]
     },
     "execution_count": 46,
     "metadata": {},
     "output_type": "execute_result"
    },
    {
     "data": {
      "image/png": "[encoded data removed]",
      "text/plain": [
       "<Figure size 720x720 with 20 Axes>"
      ]
     },
     "metadata": {
      "needs_background": "light"
     },
     "output_type": "display_data"
    }
   ],
   "source": [
    "#Overview over data\n",
    "sns.pairplot(mosquito_data)"
   ]
  },
  {
   "cell_type": "code",
   "execution_count": 47,
   "metadata": {
    "colab": {
     "background_save": true
    },
    "id": "-oRpT8Z6Cl7W"
   },
   "outputs": [
    {
     "data": {
      "text/html": [
       "<div>\n",
       "<style scoped>\n",
       "    .dataframe tbody tr th:only-of-type {\n",
       "        vertical-align: middle;\n",
       "    }\n",
       "\n",
       "    .dataframe tbody tr th {\n",
       "        vertical-align: top;\n",
       "    }\n",
       "\n",
       "    .dataframe thead th {\n",
       "        text-align: right;\n",
       "    }\n",
       "</style>\n",
       "<table border=\"1\" class=\"dataframe\">\n",
       "  <thead>\n",
       "    <tr style=\"text-align: right;\">\n",
       "      <th></th>\n",
       "      <th>Skew</th>\n",
       "    </tr>\n",
       "  </thead>\n",
       "  <tbody>\n",
       "    <tr>\n",
       "      <th>rain(mm)</th>\n",
       "      <td>6.610684</td>\n",
       "    </tr>\n",
       "    <tr>\n",
       "      <th>min_T(℃)</th>\n",
       "      <td>-0.261844</td>\n",
       "    </tr>\n",
       "    <tr>\n",
       "      <th>max_T(℃)</th>\n",
       "      <td>-0.417867</td>\n",
       "    </tr>\n",
       "  </tbody>\n",
       "</table>\n",
       "</div>"
      ],
      "text/plain": [
       "              Skew\n",
       "rain(mm)  6.610684\n",
       "min_T(℃) -0.261844\n",
       "max_T(℃) -0.417867"
      ]
     },
     "execution_count": 47,
     "metadata": {},
     "output_type": "execute_result"
    }
   ],
   "source": [
    "# Checking for skewness\n",
    "skew_vals = mosquito_data.iloc[:,1:4].skew()\n",
    "\n",
    "skew_cols =  (skew_vals\n",
    "             .sort_values(ascending=False)\n",
    "             .to_frame()\n",
    "             .rename(columns={0:'Skew'}))\n",
    "\n",
    "skew_cols"
   ]
  },
  {
   "cell_type": "markdown",
   "metadata": {
    "id": "OjORGH6iCpIs"
   },
   "source": [
    "Only rain(mm) skewness is alarming. We will use Polynomial transofrmation to mitigate the skewness effect\n",
    "\n"
   ]
  },
  {
   "cell_type": "code",
   "execution_count": 48,
   "metadata": {
    "colab": {
     "background_save": true
    },
    "id": "tbCTt0chCqIx"
   },
   "outputs": [
    {
     "data": {
      "image/png": "[encoded data removed]",
      "text/plain": [
       "<Figure size 720x432 with 3 Axes>"
      ]
     },
     "metadata": {
      "needs_background": "light"
     },
     "output_type": "display_data"
    }
   ],
   "source": [
    "# Checking data skewness visually\n",
    "plt.figure(figsize=(10,6))\n",
    "plt.subplot(3,1,1)\n",
    "plt.hist(mosquito_data['max_T(℃)'])\n",
    "plt.title('max_T(℃)')\n",
    "plt.subplot(3,1,2)\n",
    "plt.hist(mosquito_data['min_T(℃)'])\n",
    "plt.title('min_T(℃)')\n",
    "plt.subplot(3,1,3)\n",
    "plt.hist(mosquito_data['rain(mm)'])\n",
    "plt.title('rain(mm)')\n",
    "plt.show()"
   ]
  },
  {
   "cell_type": "code",
   "execution_count": 49,
   "metadata": {
    "colab": {
     "background_save": true
    },
    "id": "DD9T03KuCuuw"
   },
   "outputs": [],
   "source": [
    "# Import the necessary libraries for ML-Regression\n",
    "\n",
    "from sklearn.model_selection import train_test_split # for splitting the data \n",
    "from sklearn.preprocessing import PolynomialFeatures, StandardScaler # For feature transformation\n",
    "from sklearn.model_selection import KFold # to find the best parameters\n",
    "from sklearn.linear_model import LinearRegression, Lasso, Ridge # for regression\n",
    "from sklearn.ensemble import GradientBoostingRegressor # for regression\n",
    "from sklearn.metrics import r2_score, mean_squared_error # for evaluation\n",
    "from sklearn.pipeline import Pipeline # for ML automation\n",
    "from sklearn.model_selection import GridSearchCV # to find the best parameters\n",
    "import os, seaborn as sns, pandas as pd, numpy as np, matplotlib.pyplot as plt\n",
    "\n",
    "\n",
    "# Mute the sklearn warning about regularization\n",
    "import warnings\n",
    "warnings.filterwarnings('ignore', module='sklearn')"
   ]
  },
  {
   "cell_type": "code",
   "execution_count": 50,
   "metadata": {
    "colab": {
     "background_save": true
    },
    "id": "2jiXMnHTC1KT"
   },
   "outputs": [],
   "source": [
    "# Define a root mean sequare error function\n",
    "def rmse(ytrue, ypredicted):\n",
    "    return np.sqrt(mean_squared_error(ytrue, ypredicted))"
   ]
  },
  {
   "cell_type": "markdown",
   "metadata": {
    "id": "JT1a9TPwC5SP"
   },
   "source": [
    "### First: ML using train/test split and without hyperparameters tuning.\n",
    "#### To have general understanding of the models performances\n"
   ]
  },
  {
   "cell_type": "code",
   "execution_count": 51,
   "metadata": {
    "colab": {
     "background_save": true
    },
    "id": "63SpRopxC8PA"
   },
   "outputs": [],
   "source": [
    "# Create X & y\n",
    "X = mosquito_data.drop('mosquito_Indicator', axis = 1) # prediction attributes\n",
    "y = mosquito_data['mosquito_Indicator'] # Targer variable"
   ]
  },
  {
   "cell_type": "code",
   "execution_count": 52,
   "metadata": {
    "colab": {
     "background_save": true
    },
    "id": "kW-iYUkNC-eU"
   },
   "outputs": [],
   "source": [
    "pf = PolynomialFeatures(degree=3, include_bias=False) #Create a polynomial features instance with degree '3'\n",
    "X_pf = pf.fit_transform(X) #Apply the transformation (we fit the x data frame into the pf instance)"
   ]
  },
  {
   "cell_type": "code",
   "execution_count": 53,
   "metadata": {
    "colab": {
     "background_save": true
    },
    "id": "kbeWcE_NDBLS"
   },
   "outputs": [],
   "source": [
    "X_train, X_test, y_train, y_test = train_test_split(X_pf, y, test_size=0.3, random_state=7218)\n"
   ]
  },
  {
   "cell_type": "code",
   "execution_count": 54,
   "metadata": {
    "colab": {
     "background_save": true
    },
    "id": "pjrfC-1VDDFO"
   },
   "outputs": [],
   "source": [
    "s = StandardScaler() #Creating a standardscaler instance\n",
    "X_train_s = s.fit_transform(X_train)\n",
    "X_test_s = s.transform(X_test) # We apply standardscalar transformation also on the testing set, in order to let X_train and X_test have the same transformation"
   ]
  },
  {
   "cell_type": "code",
   "execution_count": 55,
   "metadata": {
    "colab": {
     "background_save": true
    },
    "id": "VMxjgJvcDJ5L"
   },
   "outputs": [
    {
     "name": "stdout",
     "output_type": "stream",
     "text": [
      "r2 value is 0.5931780749960296\n",
      "rmse value is 189.4817793631367\n"
     ]
    }
   ],
   "source": [
    "## Linear Regression\n",
    "lr1 = LinearRegression()\n",
    "lr1.fit(X_train_s, y_train) #We are fitting the standardscalar X_train data and the y_train\n",
    "lr1_pred = lr1.predict(X_test_s)\n",
    "print('r2 value is', r2_score(y_test,lr1_pred))\n",
    "print('rmse value is', rmse(y_test,lr1_pred))"
   ]
  },
  {
   "cell_type": "code",
   "execution_count": 56,
   "metadata": {
    "colab": {
     "background_save": true
    },
    "id": "cXtLW-7rDNxj"
   },
   "outputs": [
    {
     "name": "stdout",
     "output_type": "stream",
     "text": [
      "r2 value is 0.6269526279495339\n",
      "rmse value is 181.44594696447473\n"
     ]
    }
   ],
   "source": [
    "## Lasso\n",
    "lasso1 = Lasso()\n",
    "lasso1 = lasso1.fit(X_train_s, y_train)\n",
    "lasso1_pred = lasso1.predict(X_test_s)\n",
    "print('r2 value is', r2_score(y_test,lasso1_pred))\n",
    "print('rmse value is', rmse(y_test,lasso1_pred))"
   ]
  },
  {
   "cell_type": "code",
   "execution_count": 57,
   "metadata": {
    "colab": {
     "background_save": true
    },
    "id": "QPRpffKtDSr7"
   },
   "outputs": [
    {
     "name": "stdout",
     "output_type": "stream",
     "text": [
      "r2 value is 0.631023739282156\n",
      "rmse value is 180.45316009183475\n"
     ]
    }
   ],
   "source": [
    "## Ridge\n",
    "rr1 = Ridge()\n",
    "rr1 = rr1.fit(X_train_s, y_train)\n",
    "rr1_pred = rr1.predict(X_test_s)\n",
    "print('r2 value is', r2_score(y_test,rr1_pred))\n",
    "print('rmse value is', rmse(y_test,rr1_pred))"
   ]
  },
  {
   "cell_type": "markdown",
   "metadata": {
    "id": "UHWaf04hDhoR"
   },
   "source": [
    "### Secondly, using GridSearch CV\n",
    "\n",
    "We are using GridSearch Cross Validation to find the most suitable parameters.\n",
    "\n",
    "We are also using pipelines, according to IBM, \"A pipeline contains a series of steps, where a step is (\"name of step\", actual_model). The \"name of step\" string is only used to help you identify which step you are on, and to allow you to specify parameters at that step.\""
   ]
  },
  {
   "cell_type": "code",
   "execution_count": 58,
   "metadata": {
    "colab": {
     "background_save": true
    },
    "id": "rP1vpgHTDgzL"
   },
   "outputs": [],
   "source": [
    "# initiate kf object >> 6 splits = 6 folds \n",
    "kf = KFold(shuffle=True, random_state=7218, n_splits=6)"
   ]
  },
  {
   "cell_type": "code",
   "execution_count": 59,
   "metadata": {
    "colab": {
     "background_save": true
    },
    "id": "iE0uaIHWDmWj"
   },
   "outputs": [
    {
     "name": "stdout",
     "output_type": "stream",
     "text": [
      "0.6167488712836326 {'polynomial_features__degree': 3}\n"
     ]
    }
   ],
   "source": [
    "#Regular Linear Regression\n",
    "estimator = Pipeline([\n",
    "        (\"polynomial_features\", PolynomialFeatures()),\n",
    "        (\"scaler\", StandardScaler()),\n",
    "        (\"linear_regression\", LinearRegression())])\n",
    "\n",
    "params = {\n",
    "    'polynomial_features__degree': [1, 2, 3], # Two under scores (__) are used to specify the hyperparameters\n",
    "}\n",
    "\n",
    "grid = GridSearchCV(estimator, params, cv=kf)\n",
    "grid.fit(X, y)\n",
    "print(grid.best_score_, grid.best_params_)"
   ]
  },
  {
   "cell_type": "code",
   "execution_count": 60,
   "metadata": {
    "colab": {
     "background_save": true
    },
    "id": "DvyUS3OLDruR"
   },
   "outputs": [
    {
     "name": "stdout",
     "output_type": "stream",
     "text": [
      "In-sample and out-sample combined score is 0.642504265518383\n"
     ]
    }
   ],
   "source": [
    "best_LR_estimator = Pipeline([\n",
    "            (\"polynomial_features\", PolynomialFeatures(3)),\n",
    "            (\"scaler\", StandardScaler()),\n",
    "            (\"linear_regression\", LinearRegression())])\n",
    "\n",
    "best_LR_estimator.fit(X, y)\n",
    "print('In-sample and out-sample combined score is', best_LR_estimator.score(X, y))"
   ]
  },
  {
   "cell_type": "code",
   "execution_count": 61,
   "metadata": {
    "colab": {
     "background_save": true
    },
    "id": "ALBY2PXyDtFn"
   },
   "outputs": [
    {
     "name": "stdout",
     "output_type": "stream",
     "text": [
      "0.6291164357029215 {'lasso_regression__alpha': 0.3018367159658668, 'polynomial_features__degree': 3}\n"
     ]
    }
   ],
   "source": [
    "# Lasso\n",
    "estimator = Pipeline([\n",
    "        (\"polynomial_features\", PolynomialFeatures()),\n",
    "        (\"scaler\", StandardScaler()),\n",
    "        (\"lasso_regression\", Lasso())])\n",
    "\n",
    "params = {\n",
    "    'polynomial_features__degree': [1, 2, 3], # Two under scores (__) are used to specify the hyperparameters\n",
    "    'lasso_regression__alpha': np.geomspace(0.01, 20, 30) #30 values here, 3 in the polynomial, implies 90 different output\n",
    "}\n",
    "\n",
    "grid = GridSearchCV(estimator, params, cv=kf)\n",
    "grid.fit(X, y)\n",
    "print(grid.best_score_, grid.best_params_)"
   ]
  },
  {
   "cell_type": "code",
   "execution_count": 62,
   "metadata": {
    "colab": {
     "background_save": true
    },
    "id": "m2aUr46ND2rn"
   },
   "outputs": [
    {
     "name": "stdout",
     "output_type": "stream",
     "text": [
      "In-sample and out-sample combined score is 0.639293812752828\n"
     ]
    }
   ],
   "source": [
    "best_lasso_estimator = Pipeline([\n",
    "                    (\"scaler\", StandardScaler()),\n",
    "                    (\"make_higher_degree\", PolynomialFeatures(degree=3)),\n",
    "                    (\"lasso_regression\", Lasso(alpha=0.3))])\n",
    "\n",
    "best_lasso_estimator.fit(X, y)\n",
    "print('In-sample and out-sample combined score is', best_lasso_estimator.score(X, y))"
   ]
  },
  {
   "cell_type": "code",
   "execution_count": 63,
   "metadata": {
    "colab": {
     "background_save": true
    },
    "id": "4ciltxXpD5Ux"
   },
   "outputs": [
    {
     "data": {
      "text/plain": [
       "(0.6289107675018193,\n",
       " {'polynomial_features__degree': 3,\n",
       "  'ridge_regression__alpha': 0.895674774455836})"
      ]
     },
     "execution_count": 63,
     "metadata": {},
     "output_type": "execute_result"
    }
   ],
   "source": [
    "# Ridge \n",
    "estimator = Pipeline([\n",
    "        (\"polynomial_features\", PolynomialFeatures()),\n",
    "        (\"scaler\", StandardScaler()),\n",
    "        (\"ridge_regression\", Ridge())])\n",
    "\n",
    "params = {\n",
    "    'polynomial_features__degree': [1, 2, 3], # Two under scores (__) are used to specify the hyperparameters\n",
    "    'ridge_regression__alpha': np.geomspace(0.1, 20, 30) #30 values here, 3 in the polynomial, implies 90 different output\n",
    "}\n",
    "\n",
    "\n",
    "grid = GridSearchCV(estimator, params, cv=kf)\n",
    "grid.fit(X, y)\n",
    "grid.best_score_, grid.best_params_"
   ]
  },
  {
   "cell_type": "code",
   "execution_count": 64,
   "metadata": {
    "colab": {
     "background_save": true
    },
    "id": "TXkrcQF9D-AX"
   },
   "outputs": [
    {
     "name": "stdout",
     "output_type": "stream",
     "text": [
      "In-sample and out-sample combined score is 0.6386584433208746\n"
     ]
    }
   ],
   "source": [
    "#Create a pipeline named estimator\n",
    "best_ridge_estimator = Pipeline([\n",
    "        (\"polynomial_features\", PolynomialFeatures(3)),\n",
    "        (\"scaler\", StandardScaler()),\n",
    "        (\"ridge_regression\", Ridge(0.9))])\n",
    "\n",
    "best_ridge_estimator.fit(X, y)\n",
    "print('In-sample and out-sample combined score is', best_ridge_estimator.score(X, y))"
   ]
  },
  {
   "cell_type": "markdown",
   "metadata": {
    "id": "nVXJUuTREPwl"
   },
   "source": [
    "### Lastly, Cross Validation\n"
   ]
  },
  {
   "cell_type": "code",
   "execution_count": 65,
   "metadata": {
    "colab": {
     "background_save": true
    },
    "id": "rxANG2zRESx-"
   },
   "outputs": [
    {
     "name": "stdout",
     "output_type": "stream",
     "text": [
      "189.4817793631035\n",
      "0.593178074996172\n"
     ]
    }
   ],
   "source": [
    "# Regular Linear Regression \n",
    "linearRegression = LinearRegression().fit(X_train, y_train)\n",
    "linearRegression_rmse = rmse(y_test, linearRegression.predict(X_test))\n",
    "linearRegression_R2 = r2_score(y_test, linearRegression.predict(X_test)) \n",
    "print(linearRegression_rmse)\n",
    "print(linearRegression_R2)"
   ]
  },
  {
   "cell_type": "code",
   "execution_count": 66,
   "metadata": {
    "colab": {
     "background_save": true
    },
    "id": "h_SrlDYyEVCd"
   },
   "outputs": [
    {
     "name": "stdout",
     "output_type": "stream",
     "text": [
      "Lasso best alpha is  4.150097237467682\n",
      "Lasso rmse is  180.39235315159053\n",
      "Lasso R2 is  0.6312723637702515\n"
     ]
    }
   ],
   "source": [
    "from sklearn.linear_model import LassoCV\n",
    "\n",
    "alphas = np.geomspace(0.01, 20, 30)\n",
    "lassoCV = LassoCV(alphas=alphas,\n",
    "                  max_iter=100000,\n",
    "                  cv=3).fit(X_train, y_train)\n",
    "\n",
    "lassoCV_rmse = rmse(y_test, lassoCV.predict(X_test))\n",
    "lassoCV_R2 = r2_score(y_test, lassoCV.predict(X_test)) \n",
    "\n",
    "print('Lasso best alpha is ', lassoCV.alpha_)\n",
    "print('Lasso rmse is ', lassoCV_rmse)  \n",
    "print('Lasso R2 is ', lassoCV_R2)"
   ]
  },
  {
   "cell_type": "code",
   "execution_count": 67,
   "metadata": {
    "colab": {
     "background_save": true
    },
    "id": "NhVCaLO8EaJC"
   },
   "outputs": [
    {
     "name": "stdout",
     "output_type": "stream",
     "text": [
      "Ridge best alpha is  181.58364372009143\n",
      "Ridge rmse is  180.43950650162046\n",
      "Ridge R2 is  0.6310795727191671\n"
     ]
    }
   ],
   "source": [
    "from sklearn.linear_model import RidgeCV\n",
    "\n",
    "alphas = np.geomspace(0.001, 400, 50)\n",
    "ridgeCV = RidgeCV(alphas=alphas, cv=3).fit(X_train, y_train)\n",
    "\n",
    "ridgeCV_rmse = rmse(y_test, ridgeCV.predict(X_test))\n",
    "ridgeCV_R2 = r2_score(y_test, ridgeCV.predict(X_test)) \n",
    "\n",
    "print('Ridge best alpha is ', ridgeCV.alpha_)\n",
    "print('Ridge rmse is ', ridgeCV_rmse)  \n",
    "print('Ridge R2 is ', ridgeCV_R2)"
   ]
  },
  {
   "cell_type": "code",
   "execution_count": 68,
   "metadata": {
    "colab": {
     "background_save": true
    },
    "id": "pXBEIFoEEcxd"
   },
   "outputs": [
    {
     "name": "stdout",
     "output_type": "stream",
     "text": [
      "ElasticNet alpha is  2.0\n",
      "ElasticNet l1 ratio is  0.9\n",
      "ElasticNet rmse is  180.72260208951894\n",
      "ElasticNet R2 is  0.6299210495530996\n"
     ]
    }
   ],
   "source": [
    "from sklearn.linear_model import ElasticNetCV\n",
    "alphas = np.geomspace(0.01, 2, 100)\n",
    "l1_ratios = np.linspace(0.1, 0.9, 10)\n",
    "\n",
    "elasticNetCV = ElasticNetCV(alphas=alphas, \n",
    "                            l1_ratio=l1_ratios,\n",
    "                            cv = 3,\n",
    "                            max_iter=10000).fit(X_train, y_train)\n",
    "\n",
    "elasticNetCV_rmse = rmse(y_test, elasticNetCV.predict(X_test))\n",
    "elasticNetCV_R2 = r2_score(y_test, elasticNetCV.predict(X_test)) \n",
    "\n",
    "print('ElasticNet alpha is ',elasticNetCV.alpha_)\n",
    "print('ElasticNet l1 ratio is ', elasticNetCV.l1_ratio_)\n",
    "print('ElasticNet rmse is ', elasticNetCV_rmse)\n",
    "print('ElasticNet R2 is ', elasticNetCV_R2)"
   ]
  },
  {
   "cell_type": "code",
   "execution_count": 69,
   "metadata": {
    "colab": {
     "background_save": true
    },
    "id": "CSrgs1LYEfqK"
   },
   "outputs": [
    {
     "data": {
      "text/html": [
       "<div>\n",
       "<style scoped>\n",
       "    .dataframe tbody tr th:only-of-type {\n",
       "        vertical-align: middle;\n",
       "    }\n",
       "\n",
       "    .dataframe tbody tr th {\n",
       "        vertical-align: top;\n",
       "    }\n",
       "\n",
       "    .dataframe thead th {\n",
       "        text-align: right;\n",
       "    }\n",
       "</style>\n",
       "<table border=\"1\" class=\"dataframe\">\n",
       "  <thead>\n",
       "    <tr style=\"text-align: right;\">\n",
       "      <th></th>\n",
       "      <th>RMSE</th>\n",
       "      <th>R2</th>\n",
       "    </tr>\n",
       "  </thead>\n",
       "  <tbody>\n",
       "    <tr>\n",
       "      <th>Linear Regression</th>\n",
       "      <td>189.481779</td>\n",
       "      <td>0.593178</td>\n",
       "    </tr>\n",
       "    <tr>\n",
       "      <th>Lasso</th>\n",
       "      <td>180.392353</td>\n",
       "      <td>0.631272</td>\n",
       "    </tr>\n",
       "    <tr>\n",
       "      <th>Ridge</th>\n",
       "      <td>180.439507</td>\n",
       "      <td>0.631080</td>\n",
       "    </tr>\n",
       "    <tr>\n",
       "      <th>ElasticNet</th>\n",
       "      <td>180.722602</td>\n",
       "      <td>0.629921</td>\n",
       "    </tr>\n",
       "  </tbody>\n",
       "</table>\n",
       "</div>"
      ],
      "text/plain": [
       "                         RMSE        R2\n",
       "Linear Regression  189.481779  0.593178\n",
       "Lasso              180.392353  0.631272\n",
       "Ridge              180.439507  0.631080\n",
       "ElasticNet         180.722602  0.629921"
      ]
     },
     "execution_count": 69,
     "metadata": {},
     "output_type": "execute_result"
    }
   ],
   "source": [
    "rmse_vals = [linearRegression_rmse, lassoCV_rmse, ridgeCV_rmse, elasticNetCV_rmse]\n",
    "R2_vals = [linearRegression_R2, lassoCV_R2, ridgeCV_R2, elasticNetCV_R2] \n",
    "\n",
    "labels = ['Linear Regression', 'Lasso', 'Ridge', 'ElasticNet']\n",
    "metric_df = pd.Series(rmse_vals, index=labels).to_frame()\n",
    "metric_df.rename(columns={0: 'RMSE'}, inplace=1)\n",
    "metric_df['R2'] = R2_vals\n",
    "metric_df"
   ]
  },
  {
   "cell_type": "markdown",
   "metadata": {
    "id": "zt8EhrhJEisA"
   },
   "source": [
    "### Recommended lgorithm:\n",
    "\n",
    "**Since Lasso and Ridge regressions have the highest R^2 values, we recommend to use Ridge regression in the final prediction model. Because Ridge has less time complexity compared with Lasso, thus, it would be faster to use. However, The 3 attributes i.e., [Max_T, Min_T, rain(mm)], are not sufficient to gain +0.7 scores in R^2. Hence, additional data is required to obtain more accurate results.**\n",
    "\n",
    "### Insights from the model\n",
    "\n",
    "**1- Although wheather attributes are used to predict mosquitoes infestation. they are still insufficient to make acurate prediction.**\n",
    "\n",
    "**2 - Mosquitoes are more active in warmer temperatures wheathers.**\n",
    "\n",
    "**3 - There is no direct correlation between rain precipitation and mosquitoes infestation.**\n",
    "\n",
    "### Future work\n",
    "\n",
    "**Knowing what environmental circumstances that allow mosquitoes to breed/live can help us in preventing dengue disease borne. It is highly recommended to further investigate/identify what are the other causes of mosquitoes infestation to accurately predict their volumes.**\n",
    "\n",
    "**Furthermore, because each vector-borne disease is caused by a specific type of mosquitoes. Further data collection and research are required to predict moquitoes by their kind to accurately predict the possible risk of vector-borne diseases. Below is a list of the vector borne-disease and what kind of mosquitoes that causes them,**\n",
    "\n",
    "**1 - Denge (Aedes aegypti and Aedes albopictu).** <br>\n",
    "\n",
    "**2 - Chikungunya (Aedes aegypti and Aedes albopictu)**<br>\n",
    "\n",
    "**3 - Zika (Aedes aegypti and Aedes albopictu)**<br>\n",
    "\n",
    "**4 - Yellow fever (Aedes or Haemagogus species mosquitoes)**<br>\n",
    "\n",
    "**5 - Raft Valley Fever (Aedes species)**<br>\n",
    "\n",
    "**6 - West Nile Fever (Culex species)**<br>\n",
    "\n",
    "**7 - Malaria (female Anopheles mosquito)**<br>\n",
    "\n",
    "**8 - Japanese Encephalitis (Culex species mosquitoes)**<br>\n",
    "\n",
    "**9 - Plague (Aedes aegypti mosquitoes)**<br>"
   ]
  },
  {
   "cell_type": "markdown",
   "metadata": {
    "id": "Lmz_LUzhBWsR"
   },
   "source": [
    "## Section B - Vector-Borne Diseases Logistic Regression MultiClassification"
   ]
  },
  {
   "cell_type": "code",
   "execution_count": 70,
   "metadata": {
    "colab": {
     "background_save": true
    },
    "id": "G9lz92T-b0Qe"
   },
   "outputs": [],
   "source": [
    "VBD_data = 'vector_borne_diseases.csv'\n",
    "VBD = pd.read_csv(VBD_data)"
   ]
  },
  {
   "cell_type": "code",
   "execution_count": 71,
   "metadata": {
    "colab": {
     "background_save": true
    },
    "id": "7xtOCG4Fd3N8"
   },
   "outputs": [
    {
     "data": {
      "text/html": [
       "<div>\n",
       "<style scoped>\n",
       "    .dataframe tbody tr th:only-of-type {\n",
       "        vertical-align: middle;\n",
       "    }\n",
       "\n",
       "    .dataframe tbody tr th {\n",
       "        vertical-align: top;\n",
       "    }\n",
       "\n",
       "    .dataframe thead th {\n",
       "        text-align: right;\n",
       "    }\n",
       "</style>\n",
       "<table border=\"1\" class=\"dataframe\">\n",
       "  <thead>\n",
       "    <tr style=\"text-align: right;\">\n",
       "      <th></th>\n",
       "      <th>sudden_fever</th>\n",
       "      <th>headache</th>\n",
       "      <th>mouth_bleed</th>\n",
       "      <th>nose_bleed</th>\n",
       "      <th>muscle_pain</th>\n",
       "      <th>joint_pain</th>\n",
       "      <th>vomiting</th>\n",
       "      <th>rash</th>\n",
       "      <th>diarrhea</th>\n",
       "      <th>hypotension</th>\n",
       "      <th>...</th>\n",
       "      <th>breathing_restriction</th>\n",
       "      <th>toe_inflammation</th>\n",
       "      <th>finger_inflammation</th>\n",
       "      <th>lips_irritation</th>\n",
       "      <th>itchiness</th>\n",
       "      <th>ulcers</th>\n",
       "      <th>toenail_loss</th>\n",
       "      <th>speech_problem</th>\n",
       "      <th>bullseye_rash</th>\n",
       "      <th>prognosis</th>\n",
       "    </tr>\n",
       "  </thead>\n",
       "  <tbody>\n",
       "    <tr>\n",
       "      <th>0</th>\n",
       "      <td>0</td>\n",
       "      <td>1</td>\n",
       "      <td>1</td>\n",
       "      <td>1</td>\n",
       "      <td>1</td>\n",
       "      <td>0</td>\n",
       "      <td>1</td>\n",
       "      <td>0</td>\n",
       "      <td>0</td>\n",
       "      <td>0</td>\n",
       "      <td>...</td>\n",
       "      <td>0</td>\n",
       "      <td>0</td>\n",
       "      <td>0</td>\n",
       "      <td>0</td>\n",
       "      <td>0</td>\n",
       "      <td>0</td>\n",
       "      <td>0</td>\n",
       "      <td>0</td>\n",
       "      <td>0</td>\n",
       "      <td>Chikungunya</td>\n",
       "    </tr>\n",
       "    <tr>\n",
       "      <th>1</th>\n",
       "      <td>1</td>\n",
       "      <td>1</td>\n",
       "      <td>1</td>\n",
       "      <td>1</td>\n",
       "      <td>1</td>\n",
       "      <td>0</td>\n",
       "      <td>1</td>\n",
       "      <td>1</td>\n",
       "      <td>1</td>\n",
       "      <td>0</td>\n",
       "      <td>...</td>\n",
       "      <td>0</td>\n",
       "      <td>0</td>\n",
       "      <td>0</td>\n",
       "      <td>0</td>\n",
       "      <td>0</td>\n",
       "      <td>0</td>\n",
       "      <td>0</td>\n",
       "      <td>0</td>\n",
       "      <td>0</td>\n",
       "      <td>Chikungunya</td>\n",
       "    </tr>\n",
       "  </tbody>\n",
       "</table>\n",
       "<p>2 rows × 65 columns</p>\n",
       "</div>"
      ],
      "text/plain": [
       "   sudden_fever  headache  mouth_bleed  nose_bleed  muscle_pain  joint_pain  \\\n",
       "0             0         1            1           1            1           0   \n",
       "1             1         1            1           1            1           0   \n",
       "\n",
       "   vomiting  rash  diarrhea  hypotension  ...  breathing_restriction  \\\n",
       "0         1     0         0            0  ...                      0   \n",
       "1         1     1         1            0  ...                      0   \n",
       "\n",
       "   toe_inflammation  finger_inflammation  lips_irritation  itchiness  ulcers  \\\n",
       "0                 0                    0                0          0       0   \n",
       "1                 0                    0                0          0       0   \n",
       "\n",
       "   toenail_loss  speech_problem  bullseye_rash    prognosis  \n",
       "0             0               0              0  Chikungunya  \n",
       "1             0               0              0  Chikungunya  \n",
       "\n",
       "[2 rows x 65 columns]"
      ]
     },
     "execution_count": 71,
     "metadata": {},
     "output_type": "execute_result"
    }
   ],
   "source": [
    "VBD.head(2)"
   ]
  },
  {
   "cell_type": "code",
   "execution_count": 72,
   "metadata": {
    "colab": {
     "background_save": true
    },
    "id": "w6GkI90pd52a"
   },
   "outputs": [
    {
     "data": {
      "text/plain": [
       "int64     64\n",
       "object     1\n",
       "dtype: int64"
      ]
     },
     "execution_count": 72,
     "metadata": {},
     "output_type": "execute_result"
    }
   ],
   "source": [
    "VBD.dtypes.value_counts()"
   ]
  },
  {
   "cell_type": "code",
   "execution_count": 73,
   "metadata": {
    "colab": {
     "background_save": true
    },
    "id": "fH_YRCqHd8hA"
   },
   "outputs": [
    {
     "data": {
      "text/plain": [
       "Index(['sudden_fever', 'headache', 'mouth_bleed', 'nose_bleed', 'muscle_pain',\n",
       "       'joint_pain', 'vomiting', 'rash', 'diarrhea', 'hypotension',\n",
       "       'pleural_effusion', 'ascites', 'gastro_bleeding', 'swelling', 'nausea',\n",
       "       'chills', 'myalgia', 'digestion_trouble', 'fatigue', 'skin_lesions',\n",
       "       'stomach_pain', 'orbital_pain', 'neck_pain', 'weakness', 'back_pain',\n",
       "       'weight_loss', 'gum_bleed', 'jaundice', 'coma', 'diziness',\n",
       "       'inflammation', 'red_eyes', 'loss_of_appetite', 'urination_loss',\n",
       "       'slow_heart_rate', 'abdominal_pain', 'light_sensitivity', 'yellow_skin',\n",
       "       'yellow_eyes', 'facial_distortion', 'microcephaly', 'rigor',\n",
       "       'bitter_tongue', 'convulsion', 'anemia', 'cocacola_urine',\n",
       "       'hypoglycemia', 'prostraction', 'hyperpyrexia', 'stiff_neck',\n",
       "       'irritability', 'confusion', 'tremor', 'paralysis', 'lymph_swells',\n",
       "       'breathing_restriction', 'toe_inflammation', 'finger_inflammation',\n",
       "       'lips_irritation', 'itchiness', 'ulcers', 'toenail_loss',\n",
       "       'speech_problem', 'bullseye_rash', 'prognosis'],\n",
       "      dtype='object')"
      ]
     },
     "execution_count": 73,
     "metadata": {},
     "output_type": "execute_result"
    }
   ],
   "source": [
    "VBD.columns"
   ]
  },
  {
   "cell_type": "code",
   "execution_count": 74,
   "metadata": {
    "colab": {
     "background_save": true
    },
    "id": "Q8SfAnEGeCVU"
   },
   "outputs": [
    {
     "data": {
      "text/plain": [
       "Chikungunya              24\n",
       "Dengue                   24\n",
       "Rift Valley fever        24\n",
       "Yellow Fever             24\n",
       "Zika                     24\n",
       "Malaria                  24\n",
       "Japanese encephalitis    24\n",
       "West Nile fever          24\n",
       "Plague                   24\n",
       "Tungiasis                24\n",
       "Lyme disease             23\n",
       "Name: prognosis, dtype: int64"
      ]
     },
     "execution_count": 74,
     "metadata": {},
     "output_type": "execute_result"
    }
   ],
   "source": [
    "VBD['prognosis'].value_counts() # differnt types of error metrics are going to work better for different types of dataets. Whether they're balanced or unbalanced.\n",
    "# In our case, they are balanced"
   ]
  },
  {
   "cell_type": "markdown",
   "metadata": {
    "id": "E8Mo714ceIjt"
   },
   "source": [
    "Use `LabelEncoder` to fit_transform the categorical columns into integers"
   ]
  },
  {
   "cell_type": "code",
   "execution_count": 75,
   "metadata": {
    "colab": {
     "background_save": true
    },
    "id": "RRc_GF6weKk-"
   },
   "outputs": [
    {
     "data": {
      "text/plain": [
       "['Chikungunya',\n",
       " 'Dengue',\n",
       " 'Rift Valley fever',\n",
       " 'Yellow Fever',\n",
       " 'Zika',\n",
       " 'Malaria',\n",
       " 'Japanese encephalitis',\n",
       " 'West Nile fever',\n",
       " 'Plague',\n",
       " 'Tungiasis',\n",
       " 'Lyme disease']"
      ]
     },
     "execution_count": 75,
     "metadata": {},
     "output_type": "execute_result"
    }
   ],
   "source": [
    "diseases = list(VBD.prognosis.unique())\n",
    "diseases"
   ]
  },
  {
   "cell_type": "code",
   "execution_count": 76,
   "metadata": {
    "colab": {
     "background_save": true
    },
    "id": "PhK_il_NeOBv"
   },
   "outputs": [
    {
     "data": {
      "text/plain": [
       "11"
      ]
     },
     "execution_count": 76,
     "metadata": {},
     "output_type": "execute_result"
    }
   ],
   "source": [
    "len(diseases)"
   ]
  },
  {
   "cell_type": "code",
   "execution_count": 77,
   "metadata": {
    "colab": {
     "background_save": true
    },
    "id": "J1hpyIlZePw4"
   },
   "outputs": [],
   "source": [
    "from sklearn.preprocessing import LabelEncoder\n",
    "le = LabelEncoder()\n",
    "VBD.prognosis = le.fit_transform(VBD.prognosis)"
   ]
  },
  {
   "cell_type": "code",
   "execution_count": 78,
   "metadata": {
    "colab": {
     "background_save": true
    },
    "id": "24NCL-kceRdo"
   },
   "outputs": [
    {
     "data": {
      "text/plain": [
       "int64    65\n",
       "dtype: int64"
      ]
     },
     "execution_count": 78,
     "metadata": {},
     "output_type": "execute_result"
    }
   ],
   "source": [
    "VBD.dtypes.value_counts()"
   ]
  },
  {
   "cell_type": "code",
   "execution_count": 79,
   "metadata": {
    "colab": {
     "background_save": true
    },
    "id": "PHszxoBfeU37"
   },
   "outputs": [
    {
     "data": {
      "text/plain": [
       "array([ 0,  1,  6,  9, 10,  4,  2,  8,  5,  7,  3])"
      ]
     },
     "execution_count": 79,
     "metadata": {},
     "output_type": "execute_result"
    }
   ],
   "source": [
    "VBD.prognosis.unique()"
   ]
  },
  {
   "cell_type": "markdown",
   "metadata": {
    "id": "TU1Lj3KxeZRt"
   },
   "source": [
    "* Calculate the correlations between the dependent variables.\n",
    "* Create a histogram of the correlation values\n",
    "* Identify those that are most correlated (either positively or negatively)."
   ]
  },
  {
   "cell_type": "code",
   "execution_count": 80,
   "metadata": {
    "colab": {
     "background_save": true
    },
    "id": "YuhHVY5zeaNW"
   },
   "outputs": [
    {
     "name": "stdout",
     "output_type": "stream",
     "text": [
      "<class 'pandas.core.frame.DataFrame'>\n",
      "RangeIndex: 2016 entries, 0 to 2015\n",
      "Data columns (total 4 columns):\n",
      " #   Column           Non-Null Count  Dtype  \n",
      "---  ------           --------------  -----  \n",
      " 0   feature1         2016 non-null   object \n",
      " 1   feature2         2016 non-null   object \n",
      " 2   correlation      2016 non-null   float64\n",
      " 3   abs_correlation  2016 non-null   float64\n",
      "dtypes: float64(2), object(2)\n",
      "memory usage: 63.1+ KB\n"
     ]
    }
   ],
   "source": [
    "# Calculate the correlation values\n",
    "feature_cols = VBD.columns[:-1]\n",
    "corr_values = VBD[feature_cols].corr()\n",
    "\n",
    "# Simplify by emptying all the data below the diagonal\n",
    "tril_index = np.tril_indices_from(corr_values) # The lower triangle\n",
    "\n",
    "# Make the unused values NaNs\n",
    "corr_array = np.array(corr_values) # Changing the df to an array\n",
    "corr_array[tril_index] = np.nan # Assigning the lower traingle to nan\n",
    "    \n",
    "# Recreate Pandas correlation data frame\n",
    "corr_values = pd.DataFrame(corr_array,columns = corr_values.columns, index= corr_values.index)\n",
    "\n",
    "# Stack the data and convert to a data frame\n",
    "corr_values = (corr_values\n",
    "               .stack()\n",
    "               .to_frame()\n",
    "               .reset_index()\n",
    "               .rename(columns={'level_0':'feature1',\n",
    "                                'level_1':'feature2',\n",
    "                                0:'correlation'}))\n",
    "\n",
    "# Get the absolute values for sorting\n",
    "corr_values['abs_correlation'] = corr_values.correlation.abs()\n",
    "corr_values.info()"
   ]
  },
  {
   "cell_type": "code",
   "execution_count": 81,
   "metadata": {
    "colab": {
     "background_save": true
    },
    "id": "ULgJCYBfec1Z"
   },
   "outputs": [
    {
     "data": {
      "image/png": "[encoded data removed]",
      "text/plain": [
       "<Figure size 864x576 with 1 Axes>"
      ]
     },
     "metadata": {},
     "output_type": "display_data"
    }
   ],
   "source": [
    "sns.set_context('talk')\n",
    "sns.set_style('white')\n",
    "\n",
    "ax = corr_values.abs_correlation.hist(bins=50, figsize=(12, 8))\n",
    "ax.set(xlabel='Absolute Correlation', ylabel='Frequency');"
   ]
  },
  {
   "cell_type": "code",
   "execution_count": 82,
   "metadata": {
    "colab": {
     "background_save": true
    },
    "id": "V3s2T_zYegog"
   },
   "outputs": [
    {
     "data": {
      "text/html": [
       "<div>\n",
       "<style scoped>\n",
       "    .dataframe tbody tr th:only-of-type {\n",
       "        vertical-align: middle;\n",
       "    }\n",
       "\n",
       "    .dataframe tbody tr th {\n",
       "        vertical-align: top;\n",
       "    }\n",
       "\n",
       "    .dataframe thead th {\n",
       "        text-align: right;\n",
       "    }\n",
       "</style>\n",
       "<table border=\"1\" class=\"dataframe\">\n",
       "  <thead>\n",
       "    <tr style=\"text-align: right;\">\n",
       "      <th></th>\n",
       "      <th>feature1</th>\n",
       "      <th>feature2</th>\n",
       "      <th>correlation</th>\n",
       "      <th>abs_correlation</th>\n",
       "    </tr>\n",
       "  </thead>\n",
       "  <tbody>\n",
       "    <tr>\n",
       "      <th>2010</th>\n",
       "      <td>ulcers</td>\n",
       "      <td>toenail_loss</td>\n",
       "      <td>0.695390</td>\n",
       "      <td>0.695390</td>\n",
       "    </tr>\n",
       "    <tr>\n",
       "      <th>2015</th>\n",
       "      <td>speech_problem</td>\n",
       "      <td>bullseye_rash</td>\n",
       "      <td>0.693565</td>\n",
       "      <td>0.693565</td>\n",
       "    </tr>\n",
       "    <tr>\n",
       "      <th>2007</th>\n",
       "      <td>itchiness</td>\n",
       "      <td>toenail_loss</td>\n",
       "      <td>0.677852</td>\n",
       "      <td>0.677852</td>\n",
       "    </tr>\n",
       "    <tr>\n",
       "      <th>1995</th>\n",
       "      <td>finger_inflammation</td>\n",
       "      <td>lips_irritation</td>\n",
       "      <td>0.663475</td>\n",
       "      <td>0.663475</td>\n",
       "    </tr>\n",
       "    <tr>\n",
       "      <th>2006</th>\n",
       "      <td>itchiness</td>\n",
       "      <td>ulcers</td>\n",
       "      <td>0.646395</td>\n",
       "      <td>0.646395</td>\n",
       "    </tr>\n",
       "  </tbody>\n",
       "</table>\n",
       "</div>"
      ],
      "text/plain": [
       "                 feature1         feature2  correlation  abs_correlation\n",
       "2010               ulcers     toenail_loss     0.695390         0.695390\n",
       "2015       speech_problem    bullseye_rash     0.693565         0.693565\n",
       "2007            itchiness     toenail_loss     0.677852         0.677852\n",
       "1995  finger_inflammation  lips_irritation     0.663475         0.663475\n",
       "2006            itchiness           ulcers     0.646395         0.646395"
      ]
     },
     "execution_count": 82,
     "metadata": {},
     "output_type": "execute_result"
    }
   ],
   "source": [
    "# The most highly correlated values\n",
    "corr_values.sort_values('correlation', ascending=False).head()\n",
    "# This indicates that there is no high multicollinearity"
   ]
  },
  {
   "cell_type": "markdown",
   "metadata": {
    "id": "OhcUBXZSenT3"
   },
   "source": [
    "* Split the data into train and test data sets. This can be done using any method, but consider using Scikit-learn's `StratifiedShuffleSplit` to maintain the same ratio of predictor classes.\n",
    "* Regardless of methods used to split the data, compare the ratio of classes in both the train and test splits.\n"
   ]
  },
  {
   "cell_type": "code",
   "execution_count": 83,
   "metadata": {
    "colab": {
     "background_save": true
    },
    "id": "tYGkomdHejIJ"
   },
   "outputs": [],
   "source": [
    "from sklearn.model_selection import StratifiedShuffleSplit\n",
    "\n",
    "# Get the split indexes\n",
    "strat_shuf_split = StratifiedShuffleSplit(n_splits=1, \n",
    "                                          test_size=0.3, \n",
    "                                          random_state=42)\n",
    "\n",
    "# We use 'next' to get the arrays from the generator object.\n",
    "train_idx, test_idx = next(strat_shuf_split.split(VBD[feature_cols], VBD['prognosis']))\n",
    "# next(strat_shuf_split.split(dataframe[feature_cols], dataframe['class']))"
   ]
  },
  {
   "cell_type": "code",
   "execution_count": 84,
   "metadata": {
    "colab": {
     "background_save": true
    },
    "id": "wf0FB1NDeqIl"
   },
   "outputs": [],
   "source": [
    "# Create the train and test sets\n",
    "X_train = VBD.loc[train_idx, feature_cols] # loc[index,column]\n",
    "y_train = VBD.loc[train_idx, 'prognosis']\n",
    "\n",
    "X_test  = VBD.loc[test_idx, feature_cols]\n",
    "y_test  = VBD.loc[test_idx, 'prognosis']"
   ]
  },
  {
   "cell_type": "code",
   "execution_count": 85,
   "metadata": {
    "colab": {
     "background_save": true
    },
    "id": "zNdHKzQ7eudU"
   },
   "outputs": [
    {
     "data": {
      "text/plain": [
       "8     0.092391\n",
       "1     0.092391\n",
       "10    0.092391\n",
       "5     0.092391\n",
       "6     0.092391\n",
       "2     0.092391\n",
       "0     0.092391\n",
       "9     0.092391\n",
       "4     0.086957\n",
       "7     0.086957\n",
       "3     0.086957\n",
       "Name: prognosis, dtype: float64"
      ]
     },
     "execution_count": 85,
     "metadata": {},
     "output_type": "execute_result"
    }
   ],
   "source": [
    "y_train.value_counts(normalize=True) # Normalize gives us the proportial rather than the true count."
   ]
  },
  {
   "cell_type": "code",
   "execution_count": 86,
   "metadata": {
    "colab": {
     "background_save": true
    },
    "id": "zPz7I0v-evVD"
   },
   "outputs": [
    {
     "data": {
      "text/plain": [
       "4     0.101266\n",
       "7     0.101266\n",
       "0     0.088608\n",
       "8     0.088608\n",
       "1     0.088608\n",
       "2     0.088608\n",
       "10    0.088608\n",
       "3     0.088608\n",
       "5     0.088608\n",
       "9     0.088608\n",
       "6     0.088608\n",
       "Name: prognosis, dtype: float64"
      ]
     },
     "execution_count": 86,
     "metadata": {},
     "output_type": "execute_result"
    }
   ],
   "source": [
    "y_test.value_counts(normalize=True)\n"
   ]
  },
  {
   "cell_type": "markdown",
   "metadata": {
    "id": "Ko2KwxRYe0B4"
   },
   "source": [
    "* Fit a logistic regression model without any regularization using all of the features.\n",
    "* Using cross validation to determine the hyperparameters, fit models using L1, and L2 regularization. Store each of these models as well. Note the limitations on multi-class models, solvers, and regularizations. The regularized models, in particular the L1 model, will probably take a while to fit."
   ]
  },
  {
   "cell_type": "code",
   "execution_count": 87,
   "metadata": {
    "colab": {
     "background_save": true
    },
    "id": "W7B_XNrte2oL"
   },
   "outputs": [],
   "source": [
    "from sklearn.linear_model import LogisticRegression\n",
    "\n",
    "# Standard logistic regression\n",
    "lr = LogisticRegression(solver='liblinear').fit(X_train, y_train)\n",
    "\n",
    "# The solver method is one against the rest. So in this case it will run 11 times for each one of the eleven different classes."
   ]
  },
  {
   "cell_type": "code",
   "execution_count": 88,
   "metadata": {
    "colab": {
     "background_save": true
    },
    "id": "lVCOtXJie4IP"
   },
   "outputs": [],
   "source": [
    "from sklearn.linear_model import LogisticRegressionCV # Cross validation allow us to loop through many different hyperparameters\n",
    "\n",
    "# L1 regularized logistic regression\n",
    "lr_l1 = LogisticRegressionCV(Cs=10, cv=4, penalty='l1', solver='liblinear').fit(X_train, y_train)\n",
    "# Cs is the inverse of lambda (it is going to check across against 10 different default values of that c value.)"
   ]
  },
  {
   "cell_type": "code",
   "execution_count": 89,
   "metadata": {
    "colab": {
     "background_save": true
    },
    "id": "WDJgTVx0e6H7"
   },
   "outputs": [],
   "source": [
    "# L2 regularized logistic regression ~ Generally speaking, L2 tends to run a bit faster\n",
    "lr_l2 = LogisticRegressionCV(Cs=10, cv=4, penalty='l2', solver='liblinear').fit(X_train, y_train)"
   ]
  },
  {
   "cell_type": "markdown",
   "metadata": {
    "id": "6iVWEghZe99E"
   },
   "source": [
    "* Predict and store the class for each model.\n",
    "* Store the probability for the predicted class for each model. "
   ]
  },
  {
   "cell_type": "code",
   "execution_count": 90,
   "metadata": {
    "colab": {
     "background_save": true
    },
    "id": "PJCvnGnYe-0m"
   },
   "outputs": [],
   "source": [
    "# Predict the class and the probability for each\n",
    "y_pred = list()\n",
    "y_prob = list()\n",
    "\n",
    "coeff_labels = ['lr', 'l1', 'l2']\n",
    "coeff_models = [lr, lr_l1, lr_l2]\n",
    "\n",
    "for lab,mod in zip(coeff_labels, coeff_models):\n",
    "    y_pred.append(pd.Series(mod.predict(X_test), name=lab))\n",
    "    y_prob.append(pd.Series(mod.predict_proba(X_test).max(axis=1), name=lab))\n",
    "    \n",
    "y_pred = pd.concat(y_pred, axis=1)\n",
    "y_prob = pd.concat(y_prob, axis=1)"
   ]
  },
  {
   "cell_type": "code",
   "execution_count": 91,
   "metadata": {
    "colab": {
     "background_save": true
    },
    "id": "Squ1ABMQfBTP"
   },
   "outputs": [
    {
     "data": {
      "text/html": [
       "<div>\n",
       "<style scoped>\n",
       "    .dataframe tbody tr th:only-of-type {\n",
       "        vertical-align: middle;\n",
       "    }\n",
       "\n",
       "    .dataframe tbody tr th {\n",
       "        vertical-align: top;\n",
       "    }\n",
       "\n",
       "    .dataframe thead th {\n",
       "        text-align: right;\n",
       "    }\n",
       "</style>\n",
       "<table border=\"1\" class=\"dataframe\">\n",
       "  <thead>\n",
       "    <tr style=\"text-align: right;\">\n",
       "      <th></th>\n",
       "      <th>lr</th>\n",
       "      <th>l1</th>\n",
       "      <th>l2</th>\n",
       "    </tr>\n",
       "  </thead>\n",
       "  <tbody>\n",
       "    <tr>\n",
       "      <th>0</th>\n",
       "      <td>0</td>\n",
       "      <td>0</td>\n",
       "      <td>0</td>\n",
       "    </tr>\n",
       "    <tr>\n",
       "      <th>1</th>\n",
       "      <td>0</td>\n",
       "      <td>0</td>\n",
       "      <td>0</td>\n",
       "    </tr>\n",
       "    <tr>\n",
       "      <th>2</th>\n",
       "      <td>8</td>\n",
       "      <td>8</td>\n",
       "      <td>2</td>\n",
       "    </tr>\n",
       "    <tr>\n",
       "      <th>3</th>\n",
       "      <td>1</td>\n",
       "      <td>2</td>\n",
       "      <td>1</td>\n",
       "    </tr>\n",
       "    <tr>\n",
       "      <th>4</th>\n",
       "      <td>8</td>\n",
       "      <td>8</td>\n",
       "      <td>8</td>\n",
       "    </tr>\n",
       "  </tbody>\n",
       "</table>\n",
       "</div>"
      ],
      "text/plain": [
       "   lr  l1  l2\n",
       "0   0   0   0\n",
       "1   0   0   0\n",
       "2   8   8   2\n",
       "3   1   2   1\n",
       "4   8   8   8"
      ]
     },
     "execution_count": 91,
     "metadata": {},
     "output_type": "execute_result"
    }
   ],
   "source": [
    "y_pred.head()"
   ]
  },
  {
   "cell_type": "code",
   "execution_count": 92,
   "metadata": {
    "colab": {
     "background_save": true
    },
    "id": "S66byh87fDWm"
   },
   "outputs": [
    {
     "data": {
      "text/html": [
       "<div>\n",
       "<style scoped>\n",
       "    .dataframe tbody tr th:only-of-type {\n",
       "        vertical-align: middle;\n",
       "    }\n",
       "\n",
       "    .dataframe tbody tr th {\n",
       "        vertical-align: top;\n",
       "    }\n",
       "\n",
       "    .dataframe thead th {\n",
       "        text-align: right;\n",
       "    }\n",
       "</style>\n",
       "<table border=\"1\" class=\"dataframe\">\n",
       "  <thead>\n",
       "    <tr style=\"text-align: right;\">\n",
       "      <th></th>\n",
       "      <th>lr</th>\n",
       "      <th>l1</th>\n",
       "      <th>l2</th>\n",
       "    </tr>\n",
       "  </thead>\n",
       "  <tbody>\n",
       "    <tr>\n",
       "      <th>3</th>\n",
       "      <td>1</td>\n",
       "      <td>2</td>\n",
       "      <td>1</td>\n",
       "    </tr>\n",
       "    <tr>\n",
       "      <th>15</th>\n",
       "      <td>9</td>\n",
       "      <td>10</td>\n",
       "      <td>10</td>\n",
       "    </tr>\n",
       "    <tr>\n",
       "      <th>19</th>\n",
       "      <td>2</td>\n",
       "      <td>8</td>\n",
       "      <td>2</td>\n",
       "    </tr>\n",
       "    <tr>\n",
       "      <th>20</th>\n",
       "      <td>8</td>\n",
       "      <td>0</td>\n",
       "      <td>8</td>\n",
       "    </tr>\n",
       "    <tr>\n",
       "      <th>28</th>\n",
       "      <td>1</td>\n",
       "      <td>3</td>\n",
       "      <td>1</td>\n",
       "    </tr>\n",
       "    <tr>\n",
       "      <th>37</th>\n",
       "      <td>6</td>\n",
       "      <td>3</td>\n",
       "      <td>6</td>\n",
       "    </tr>\n",
       "    <tr>\n",
       "      <th>39</th>\n",
       "      <td>10</td>\n",
       "      <td>3</td>\n",
       "      <td>10</td>\n",
       "    </tr>\n",
       "    <tr>\n",
       "      <th>50</th>\n",
       "      <td>0</td>\n",
       "      <td>5</td>\n",
       "      <td>0</td>\n",
       "    </tr>\n",
       "    <tr>\n",
       "      <th>59</th>\n",
       "      <td>1</td>\n",
       "      <td>8</td>\n",
       "      <td>1</td>\n",
       "    </tr>\n",
       "    <tr>\n",
       "      <th>70</th>\n",
       "      <td>2</td>\n",
       "      <td>8</td>\n",
       "      <td>2</td>\n",
       "    </tr>\n",
       "    <tr>\n",
       "      <th>75</th>\n",
       "      <td>6</td>\n",
       "      <td>9</td>\n",
       "      <td>2</td>\n",
       "    </tr>\n",
       "  </tbody>\n",
       "</table>\n",
       "</div>"
      ],
      "text/plain": [
       "    lr  l1  l2\n",
       "3    1   2   1\n",
       "15   9  10  10\n",
       "19   2   8   2\n",
       "20   8   0   8\n",
       "28   1   3   1\n",
       "37   6   3   6\n",
       "39  10   3  10\n",
       "50   0   5   0\n",
       "59   1   8   1\n",
       "70   2   8   2\n",
       "75   6   9   2"
      ]
     },
     "execution_count": 92,
     "metadata": {},
     "output_type": "execute_result"
    }
   ],
   "source": [
    "y_pred[y_pred['lr'] != y_pred['l1']] # To check for different predicted outcomes"
   ]
  },
  {
   "cell_type": "code",
   "execution_count": 93,
   "metadata": {
    "colab": {
     "background_save": true
    },
    "id": "6KQ4hXVVfGc1"
   },
   "outputs": [
    {
     "data": {
      "text/html": [
       "<div>\n",
       "<style scoped>\n",
       "    .dataframe tbody tr th:only-of-type {\n",
       "        vertical-align: middle;\n",
       "    }\n",
       "\n",
       "    .dataframe tbody tr th {\n",
       "        vertical-align: top;\n",
       "    }\n",
       "\n",
       "    .dataframe thead th {\n",
       "        text-align: right;\n",
       "    }\n",
       "</style>\n",
       "<table border=\"1\" class=\"dataframe\">\n",
       "  <thead>\n",
       "    <tr style=\"text-align: right;\">\n",
       "      <th></th>\n",
       "      <th>lr</th>\n",
       "      <th>l1</th>\n",
       "      <th>l2</th>\n",
       "    </tr>\n",
       "  </thead>\n",
       "  <tbody>\n",
       "    <tr>\n",
       "      <th>0</th>\n",
       "      <td>0.530986</td>\n",
       "      <td>0.867728</td>\n",
       "      <td>0.659105</td>\n",
       "    </tr>\n",
       "    <tr>\n",
       "      <th>1</th>\n",
       "      <td>0.792171</td>\n",
       "      <td>0.957772</td>\n",
       "      <td>0.906055</td>\n",
       "    </tr>\n",
       "    <tr>\n",
       "      <th>2</th>\n",
       "      <td>0.327751</td>\n",
       "      <td>0.730687</td>\n",
       "      <td>0.392465</td>\n",
       "    </tr>\n",
       "    <tr>\n",
       "      <th>3</th>\n",
       "      <td>0.648324</td>\n",
       "      <td>0.509898</td>\n",
       "      <td>0.783382</td>\n",
       "    </tr>\n",
       "    <tr>\n",
       "      <th>4</th>\n",
       "      <td>0.846805</td>\n",
       "      <td>0.960869</td>\n",
       "      <td>0.947200</td>\n",
       "    </tr>\n",
       "  </tbody>\n",
       "</table>\n",
       "</div>"
      ],
      "text/plain": [
       "         lr        l1        l2\n",
       "0  0.530986  0.867728  0.659105\n",
       "1  0.792171  0.957772  0.906055\n",
       "2  0.327751  0.730687  0.392465\n",
       "3  0.648324  0.509898  0.783382\n",
       "4  0.846805  0.960869  0.947200"
      ]
     },
     "execution_count": 93,
     "metadata": {},
     "output_type": "execute_result"
    }
   ],
   "source": [
    "y_prob.head()"
   ]
  },
  {
   "cell_type": "markdown",
   "metadata": {
    "id": "sraRx_w3fJ24"
   },
   "source": [
    "\n",
    "For each model, calculate the following error metrics: \n",
    "\n",
    "* Accuracy\n",
    "* Precision\n",
    "* Recall\n",
    "* F-score\n",
    "* Confusion Matrix\n"
   ]
  },
  {
   "cell_type": "code",
   "execution_count": 94,
   "metadata": {
    "colab": {
     "background_save": true
    },
    "id": "73-lppg-fK3T"
   },
   "outputs": [],
   "source": [
    "from sklearn.metrics import precision_recall_fscore_support as score\n",
    "from sklearn.metrics import confusion_matrix, accuracy_score, roc_auc_score\n",
    "from sklearn.preprocessing import label_binarize # To do one-hot encoding\n",
    "\n",
    "metrics = list()\n",
    "cm = dict()\n",
    "\n",
    "for lab in coeff_labels:\n",
    "\n",
    "    # Preciision, recall, f-score from the multi-class support function\n",
    "    precision, recall, fscore, _ = score(y_test, y_pred[lab], average='weighted')\n",
    "    \n",
    "    # The usual way to calculate accuracy\n",
    "    accuracy = accuracy_score(y_test, y_pred[lab])\n",
    "    \n",
    "    # ROC-AUC scores can be calculated by binarizing the data\n",
    "    auc = roc_auc_score(label_binarize(y_test, classes=[0,1]),\n",
    "              label_binarize(y_pred[lab], classes=[0,1]), \n",
    "              average='weighted')\n",
    "    \n",
    "    # Last, the confusion matrix\n",
    "    cm[lab] = confusion_matrix(y_test, y_pred[lab])\n",
    "    \n",
    "    metrics.append(pd.Series({'precision':precision, 'recall':recall, \n",
    "                              'fscore':fscore, 'accuracy':accuracy,\n",
    "                              'auc':auc}, \n",
    "                             name=lab))\n",
    "\n",
    "metrics = pd.concat(metrics, axis=1)"
   ]
  },
  {
   "cell_type": "code",
   "execution_count": 95,
   "metadata": {
    "colab": {
     "background_save": true
    },
    "id": "tjxAOD7lfNl9"
   },
   "outputs": [
    {
     "data": {
      "text/html": [
       "<div>\n",
       "<style scoped>\n",
       "    .dataframe tbody tr th:only-of-type {\n",
       "        vertical-align: middle;\n",
       "    }\n",
       "\n",
       "    .dataframe tbody tr th {\n",
       "        vertical-align: top;\n",
       "    }\n",
       "\n",
       "    .dataframe thead th {\n",
       "        text-align: right;\n",
       "    }\n",
       "</style>\n",
       "<table border=\"1\" class=\"dataframe\">\n",
       "  <thead>\n",
       "    <tr style=\"text-align: right;\">\n",
       "      <th></th>\n",
       "      <th>lr</th>\n",
       "      <th>l1</th>\n",
       "      <th>l2</th>\n",
       "    </tr>\n",
       "  </thead>\n",
       "  <tbody>\n",
       "    <tr>\n",
       "      <th>precision</th>\n",
       "      <td>0.881857</td>\n",
       "      <td>0.833285</td>\n",
       "      <td>0.865436</td>\n",
       "    </tr>\n",
       "    <tr>\n",
       "      <th>recall</th>\n",
       "      <td>0.873418</td>\n",
       "      <td>0.822785</td>\n",
       "      <td>0.848101</td>\n",
       "    </tr>\n",
       "    <tr>\n",
       "      <th>fscore</th>\n",
       "      <td>0.872201</td>\n",
       "      <td>0.805090</td>\n",
       "      <td>0.845326</td>\n",
       "    </tr>\n",
       "    <tr>\n",
       "      <th>accuracy</th>\n",
       "      <td>0.873418</td>\n",
       "      <td>0.822785</td>\n",
       "      <td>0.848101</td>\n",
       "    </tr>\n",
       "    <tr>\n",
       "      <th>auc</th>\n",
       "      <td>0.921627</td>\n",
       "      <td>0.814484</td>\n",
       "      <td>0.921627</td>\n",
       "    </tr>\n",
       "  </tbody>\n",
       "</table>\n",
       "</div>"
      ],
      "text/plain": [
       "                 lr        l1        l2\n",
       "precision  0.881857  0.833285  0.865436\n",
       "recall     0.873418  0.822785  0.848101\n",
       "fscore     0.872201  0.805090  0.845326\n",
       "accuracy   0.873418  0.822785  0.848101\n",
       "auc        0.921627  0.814484  0.921627"
      ]
     },
     "execution_count": 95,
     "metadata": {},
     "output_type": "execute_result"
    }
   ],
   "source": [
    "metrics"
   ]
  },
  {
   "cell_type": "code",
   "execution_count": 96,
   "metadata": {
    "colab": {
     "background_save": true
    },
    "id": "912xufCdfPVi"
   },
   "outputs": [
    {
     "data": {
      "image/png": "[encoded data removed]",
      "text/plain": [
       "<Figure size 864x720 with 7 Axes>"
      ]
     },
     "metadata": {},
     "output_type": "display_data"
    }
   ],
   "source": [
    "fig, axList = plt.subplots(nrows=2, ncols=2)\n",
    "axList = axList.flatten()\n",
    "fig.set_size_inches(12, 10)\n",
    "\n",
    "axList[-1].axis('off')\n",
    "\n",
    "for ax,lab in zip(axList[:-1], coeff_labels):\n",
    "    sns.heatmap(cm[lab], ax=ax, annot=True, fmt='d');\n",
    "    ax.set(title=lab);\n",
    "    \n",
    "plt.tight_layout()"
   ]
  },
  {
   "cell_type": "markdown",
   "metadata": {},
   "source": [
    "### Recommended lgorithm:\n",
    "\n",
    "**Since the classes are evenly distributed, so accuracy is a good measure to use on evaluation. Hence, the recommended algorithm in terms of accuracy are LR, then L2, L1**\n",
    "\n",
    "### Insights from the model\n",
    "\n",
    "**1 - This model can classify the type of the vector borne-disease based on 64 illness features.**\n",
    "\n",
    "**2 - The regular Logistic Regression scored better than the regularized techniques.**\n",
    "\n",
    "### Future work\n",
    "\n",
    "**Benchmarking against other algorithms such as Random Forrest and Support Vector Machines.**"
   ]
  },
  {
   "cell_type": "markdown",
   "metadata": {
    "id": "wifNZgutV-vu"
   },
   "source": [
    "# Chapter 4 - Final Analysis \n",
    "## 1)\tWhat are the most states that are affected by Vector-borne diseases in Malaysia?\n",
    "\n",
    "a)\tWhat did we learn from the data?\n",
    "\n",
    "Based on our analysis, we were able to identify that Selangor had the highest cases from 2019 to 2021.\n",
    "\n",
    "b)\tHow did we answer the questions?\n",
    "\n",
    "3 bar charts were created ranging from 2019-2021, and in those bar charts, Selangor had the highest number of cases.\n",
    "\n",
    "c)\tHow can you justify your answer?\n",
    "\n",
    "The 3 bar charts consistently show that Selangor had the highest cases from 2019 to 2021. Additionally, it is in line with Samat and Percy (2014) study as they also found that Selangor was the highest dengue risk area.\n",
    "\n",
    "## 2)\tHas the Covid-19 pandemic outbreak affect the mean of Dengue and Chikungunya in Malaysia?\n",
    "\n",
    "a)\tWhat did we learn from the data?\n",
    "\n",
    "It did affect dengue cases, but there was not much difference for Chikungunya.\n",
    "\n",
    "b)\tHow did we answer the questions?\n",
    "\n",
    "We conducted a two-sample independent T-test, and the results show that Dengue was significantly lower during the pandemic than before the pandemic. However, there was no significant difference for Chikungunya.\n",
    "\n",
    "c)\tHow can you justify your answer?\n",
    "\n",
    "We don’t have past studies to support this statement as there are no studies in Malaysia that research on this area. Hence, this serves as a stepping stone for future studies who are interested on looking in this area of research.\n",
    "\n",
    "\n",
    "## 3)\tHow to identify the vector-borne diseases based on symptoms\n",
    "\n",
    "a)\tWhat did we learn from the data?\n",
    "\n",
    "A model was created to predict the type of Vector-Borne Diseases based on multiple illness features.\n",
    "\n",
    "b)\t How did we answer the questions?\n",
    "\n",
    "We developed a model using logistic regression which can accurately predict the type of Vector-Borne Diseases based on 64 illness features with 87% accuracy.\n",
    "\n",
    "c)\tHow can you justify your answer?\n",
    "\n",
    "We compared logistic regressions with two other models and tested the models based on precision, recall, f-score and accuracy and confusion matrix, logistic regression had the highest score in all the categories. \n"
   ]
  },
  {
   "cell_type": "markdown",
   "metadata": {
    "id": "7j-G_rhsXolX"
   },
   "source": [
    "### References\n"
   ]
  },
  {
   "cell_type": "markdown",
   "metadata": {
    "id": "7fFpVSC6OB5u"
   },
   "source": [
    "Raizada, S., Mala, S., & Shankar, A. (2021). Vector-Borne Disease Outbreak Prediction Using Machine Learning Techniques. Advanced Deep Learning for Engineers and Scientists, 227–241. https://doi.org/10.1007/978-3-030-66519-7_9"
   ]
  },
  {
   "cell_type": "markdown",
   "metadata": {
    "id": "bdbeHzpjNAz6"
   },
   "source": [
    "Caminade, C., McIntyre, K. M., & Jones, A. E. (2018). Impact of recent and future climate change on vector-borne diseases. Annals of the New York Academy of Sciences, 1436(1), 157–173. https://doi.org/10.1111/nyas.13950"
   ]
  },
  {
   "cell_type": "markdown",
   "metadata": {
    "id": "oFkNxSs-Zehv"
   },
   "source": [
    "\n",
    "\n",
    "Kapoor, R., Ahuja, S., & Kadyan, V. (2022). Machine Learning Based Classification Algorithm for Classification of Dengue (Dengue Fever - DF, Dengue Harmonic Fever - DHF, Serve Dengue - SD). ECS Transactions, 107(1), 4659–4673. https://doi.org/10.1149/10701.4659ecst"
   ]
  },
  {
   "cell_type": "markdown",
   "metadata": {
    "id": "RjroEyOIR3qC"
   },
   "source": [
    "Iqbal, N., & Islam, M. (2019). Machine learning for dengue outbreak prediction: A performance evaluation of different prominent classifiers. Informatica, 43(3). https://doi.org/10.31449/inf.v43i3.1548"
   ]
  },
  {
   "cell_type": "markdown",
   "metadata": {
    "id": "TuLHkBfscvQL"
   },
   "source": [
    "Silitonga, P., Bustamam, A., Muradi, H., Mangunwardoyo, W., & Dewi, B. E. (2021). Comparison of Dengue Predictive Models Developed Using Artificial Neural Network and Discriminant Analysis with Small Dataset. Applied Sciences, 11(3), 943. https://doi.org/10.3390/app11030943"
   ]
  },
  {
   "cell_type": "markdown",
   "metadata": {
    "id": "fZcw6ZW2cvVb"
   },
   "source": [
    "Chakraborty, T., Chattopadhyay, S., & Ghosh, I. (2019). Forecasting dengue epidemics using a hybrid methodology. Physica A: Statistical Mechanics and its Applications, 527, 121266. https://doi.org/10.1016/j.physa.2019.121266"
   ]
  },
  {
   "cell_type": "markdown",
   "metadata": {
    "id": "1ybf4s4peZp0"
   },
   "source": [
    "Sajana, T., Navya, M., Gayathri, Y., & Reshma, N. (2018). Classification of Dengue using Machine Learning Techniques. International Journal of Engineering & Technology, 7(2.32), 212. https://doi.org/10.14419/ijet.v7i2.32.15570\n"
   ]
  },
  {
   "cell_type": "markdown",
   "metadata": {},
   "source": [
    "Aziz, S., Aidil, R. M., Nisfariza, M. N., Ngui, R., Lim, Y. A. L., Yusoff, W. S. W., & Ruslan, R. (2014). Spatial density of aedes distribution in urban areas: A case study of breteau index in kuala lumpur, malaysia. Journal of Vector Borne Diseases, 51(2), 91-96."
   ]
  },
  {
   "cell_type": "markdown",
   "metadata": {},
   "source": [
    "*Kapoor*, R. (2021). Development of prediction model using machine learning for Vector Borne Diseases in India."
   ]
  },
  {
   "cell_type": "markdown",
   "metadata": {},
   "source": [
    "Karuppasamy, M. B., Seshachalam, S., Natesan, U., Ayyamperumal, R., Karuppannan, S., Gopalakrishnan, G., & Nazir, N. (2020). Air pollution improvement and mortality rate during COVID-19 pandemic in India: global intersectional study. Air Quality, Atmosphere & Health, 13(11), 1375-1384."
   ]
  },
  {
   "cell_type": "markdown",
   "metadata": {},
   "source": [
    "Mokhtar, M. B., & Murad, W. (2010). Issues and framework of environmental health in Malaysia. Journal of Environmental Health, 72(8), 24-29."
   ]
  },
  {
   "cell_type": "markdown",
   "metadata": {},
   "source": [
    "Samat, N. A., & Percy, D. F. (2012). Vector-borne infectious disease mapping with stochastic difference equations: An analysis of dengue disease in malaysia. Journal of Applied Statistics, 39(9), 2029-2046. https://doi.org/10.1080/02664763.2012.700450"
   ]
  },
  {
   "cell_type": "markdown",
   "metadata": {},
   "source": [
    "Shafie, A., Roslan, M. A., Ngui, R., Lim, Y. A. L., & Sulaiman, W. Y. W. (2016). Mosquito biology and mosquito-borne disease awareness among island communities in malaysia. Journal of the American Mosquito Control Association, 32(4), 273-281. https://doi.org/10.2987/16-6604."
   ]
  },
  {
   "cell_type": "markdown",
   "metadata": {},
   "source": [
    "Wahab, N. A., & Ghani, N. A. (2021). THE RIGHT OF THE CHILDREN TO AN ENVIRONMENTAL HEALTH: A PRELIMINARY STUDY IN MALAYSIA."
   ]
  }
 ],
 "metadata": {
  "colab": {
   "collapsed_sections": [],
   "name": "Vector Born Disease.ipynb",
   "provenance": []
  },
  "kernelspec": {
   "display_name": "Python 3 (ipykernel)",
   "language": "python",
   "name": "python3"
  },
  "language_info": {
   "codemirror_mode": {
    "name": "ipython",
    "version": 3
   },
   "file_extension": ".py",
   "mimetype": "text/x-python",
   "name": "python",
   "nbconvert_exporter": "python",
   "pygments_lexer": "ipython3",
   "version": "3.9.12"
  }
 },
 "nbformat": 4,
 "nbformat_minor": 1
}
